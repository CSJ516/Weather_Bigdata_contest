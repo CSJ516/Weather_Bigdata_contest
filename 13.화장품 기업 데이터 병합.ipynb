{
 "cells": [
  {
   "cell_type": "markdown",
   "metadata": {
    "toc": true
   },
   "source": [
    "<h1>Table of Contents<span class=\"tocSkip\"></span></h1>\n",
    "<div class=\"toc\"><ul class=\"toc-item\"></ul></div>"
   ]
  },
  {
   "cell_type": "code",
   "execution_count": 1,
   "metadata": {},
   "outputs": [],
   "source": [
    "import numpy as np\n",
    "import pandas as pd\n",
    "\n",
    "import warnings\n",
    "warnings.filterwarnings('ignore')"
   ]
  },
  {
   "cell_type": "code",
   "execution_count": 2,
   "metadata": {},
   "outputs": [
    {
     "name": "stdout",
     "output_type": "stream",
     "text": [
      "(183, 6)\n",
      "(245, 6)\n",
      "(253, 6)\n",
      "(820, 6)\n"
     ]
    }
   ],
   "source": [
    "data1 = pd.read_csv('./cosmetic/김수현.csv')\n",
    "data2 = pd.read_excel('./cosmetic/민지현.xlsx', index_col=0)\n",
    "data3 = pd.read_csv('./cosmetic/이정인.csv')\n",
    "data4 = pd.read_csv('./cosmetic/최수진.csv')\n",
    "print(data1.shape)\n",
    "print(data2.shape)\n",
    "print(data3.shape)\n",
    "print(data4.shape)"
   ]
  },
  {
   "cell_type": "code",
   "execution_count": 3,
   "metadata": {},
   "outputs": [],
   "source": [
    "data3.columns = ['브랜드','중분류','소분류','상품명','정가','할인가']\n",
    "data4.columns = ['브랜드','중분류','소분류','상품명','정가','할인가']"
   ]
  },
  {
   "cell_type": "code",
   "execution_count": 4,
   "metadata": {},
   "outputs": [
    {
     "name": "stdout",
     "output_type": "stream",
     "text": [
      "(1501, 6)\n"
     ]
    },
    {
     "data": {
      "text/html": [
       "<div>\n",
       "<style scoped>\n",
       "    .dataframe tbody tr th:only-of-type {\n",
       "        vertical-align: middle;\n",
       "    }\n",
       "\n",
       "    .dataframe tbody tr th {\n",
       "        vertical-align: top;\n",
       "    }\n",
       "\n",
       "    .dataframe thead th {\n",
       "        text-align: right;\n",
       "    }\n",
       "</style>\n",
       "<table border=\"1\" class=\"dataframe\">\n",
       "  <thead>\n",
       "    <tr style=\"text-align: right;\">\n",
       "      <th></th>\n",
       "      <th>브랜드</th>\n",
       "      <th>중분류</th>\n",
       "      <th>소분류</th>\n",
       "      <th>상품명</th>\n",
       "      <th>정가</th>\n",
       "      <th>할인가</th>\n",
       "    </tr>\n",
       "  </thead>\n",
       "  <tbody>\n",
       "    <tr>\n",
       "      <th>0</th>\n",
       "      <td>Inglot</td>\n",
       "      <td>색조 메이크업 립</td>\n",
       "      <td>색조 메이크업 립스틱</td>\n",
       "      <td>립스틱</td>\n",
       "      <td>28,000</td>\n",
       "      <td></td>\n",
       "    </tr>\n",
       "    <tr>\n",
       "      <th>1</th>\n",
       "      <td>Inglot</td>\n",
       "      <td>색조 메이크업 립</td>\n",
       "      <td>색조 메이크업 립스틱</td>\n",
       "      <td>립스틱 매트</td>\n",
       "      <td>30,000</td>\n",
       "      <td></td>\n",
       "    </tr>\n",
       "    <tr>\n",
       "      <th>2</th>\n",
       "      <td>Inglot</td>\n",
       "      <td>색조 메이크업 립</td>\n",
       "      <td>색조 메이크업 립스틱</td>\n",
       "      <td>립새틴 립스틱</td>\n",
       "      <td>30,000</td>\n",
       "      <td></td>\n",
       "    </tr>\n",
       "  </tbody>\n",
       "</table>\n",
       "</div>"
      ],
      "text/plain": [
       "      브랜드        중분류          소분류      상품명      정가 할인가\n",
       "0  Inglot  색조 메이크업 립  색조 메이크업 립스틱      립스틱  28,000    \n",
       "1  Inglot  색조 메이크업 립  색조 메이크업 립스틱   립스틱 매트  30,000    \n",
       "2  Inglot  색조 메이크업 립  색조 메이크업 립스틱  립새틴 립스틱  30,000    "
      ]
     },
     "execution_count": 4,
     "metadata": {},
     "output_type": "execute_result"
    }
   ],
   "source": [
    "data = pd.concat([data1, data2, data3, data4], axis=0)\n",
    "print(data.shape)\n",
    "data.head(3)"
   ]
  },
  {
   "cell_type": "code",
   "execution_count": 5,
   "metadata": {},
   "outputs": [
    {
     "name": "stdout",
     "output_type": "stream",
     "text": [
      "100\n"
     ]
    }
   ],
   "source": [
    "# 중복 제거\n",
    "print(len(data[data.duplicated()]))\n",
    "data.drop_duplicates(inplace=True)\n",
    "data.reset_index(drop=True, inplace=True)"
   ]
  },
  {
   "cell_type": "code",
   "execution_count": 6,
   "metadata": {},
   "outputs": [
    {
     "name": "stdout",
     "output_type": "stream",
     "text": [
      "38\n"
     ]
    },
    {
     "data": {
      "text/plain": [
       "array(['Inglot', '아렌시아', '아바마트', '캐트리스', '오셸로', '더비건글로우', '더말로지카',\n",
       "       '라임크라임', '매닉패닉', '불독', '쿠모 브러쉬', '멜릭서', '보나쥬르', '이솔', '허블룸',\n",
       "       '닥터브로너스', '러쉬', '아로마티카', '오엠', '이든 미네랄', '클레어스', '마녀공장', '스킨푸드',\n",
       "       '카밀', 'AHC', '수이스킨', '비브', '온도', '에이트루', '닥터올가', '잉글롯', '베이지크',\n",
       "       '싸이닉', '이즈그린', '쏘내추럴', '오드리앤영', '발롱블랑', '키핀터치'], dtype=object)"
      ]
     },
     "execution_count": 6,
     "metadata": {},
     "output_type": "execute_result"
    }
   ],
   "source": [
    "# 브랜드 확인\n",
    "print(data.브랜드.nunique())\n",
    "data.브랜드.unique()"
   ]
  },
  {
   "cell_type": "code",
   "execution_count": 7,
   "metadata": {},
   "outputs": [
    {
     "data": {
      "text/html": [
       "<div>\n",
       "<style scoped>\n",
       "    .dataframe tbody tr th:only-of-type {\n",
       "        vertical-align: middle;\n",
       "    }\n",
       "\n",
       "    .dataframe tbody tr th {\n",
       "        vertical-align: top;\n",
       "    }\n",
       "\n",
       "    .dataframe thead th {\n",
       "        text-align: right;\n",
       "    }\n",
       "</style>\n",
       "<table border=\"1\" class=\"dataframe\">\n",
       "  <thead>\n",
       "    <tr style=\"text-align: right;\">\n",
       "      <th></th>\n",
       "      <th>브랜드</th>\n",
       "      <th>중분류</th>\n",
       "      <th>소분류</th>\n",
       "      <th>상품명</th>\n",
       "      <th>정가</th>\n",
       "      <th>할인가</th>\n",
       "    </tr>\n",
       "  </thead>\n",
       "  <tbody>\n",
       "    <tr>\n",
       "      <th>1358</th>\n",
       "      <td>잉글롯</td>\n",
       "      <td>색조 메이크업 아이</td>\n",
       "      <td>색조 메이크업 아이라이너</td>\n",
       "      <td>원 무브 리퀴드 아이라이너</td>\n",
       "      <td>18,000원</td>\n",
       "      <td></td>\n",
       "    </tr>\n",
       "    <tr>\n",
       "      <th>1359</th>\n",
       "      <td>잉글롯</td>\n",
       "      <td>베이스 메이크업 제품</td>\n",
       "      <td>베이스 메이크업용 가루파우더</td>\n",
       "      <td>루스 파우더 5종</td>\n",
       "      <td>38,000원</td>\n",
       "      <td></td>\n",
       "    </tr>\n",
       "  </tbody>\n",
       "</table>\n",
       "</div>"
      ],
      "text/plain": [
       "      브랜드          중분류              소분류             상품명       정가 할인가\n",
       "1358  잉글롯   색조 메이크업 아이    색조 메이크업 아이라이너  원 무브 리퀴드 아이라이너  18,000원    \n",
       "1359  잉글롯  베이스 메이크업 제품  베이스 메이크업용 가루파우더       루스 파우더 5종  38,000원    "
      ]
     },
     "execution_count": 7,
     "metadata": {},
     "output_type": "execute_result"
    }
   ],
   "source": [
    "data[data.브랜드 == '잉글롯']"
   ]
  },
  {
   "cell_type": "markdown",
   "metadata": {},
   "source": [
    "'Inglot' 데이터와 '잉글롯' 데이터 중복\n",
    "\n",
    "**1358행 삭제 및 1359행 브랜드명을 Inglot으로 변경**"
   ]
  },
  {
   "cell_type": "code",
   "execution_count": 8,
   "metadata": {},
   "outputs": [],
   "source": [
    "data.drop([1358], axis=0, inplace=True)\n",
    "data.loc[1359]['브랜드'] = 'Inglot'"
   ]
  },
  {
   "cell_type": "code",
   "execution_count": 9,
   "metadata": {},
   "outputs": [
    {
     "name": "stdout",
     "output_type": "stream",
     "text": [
      "(1400, 6)\n"
     ]
    }
   ],
   "source": [
    "data.reset_index(drop=True, inplace=True)\n",
    "print(data.shape)"
   ]
  },
  {
   "cell_type": "code",
   "execution_count": 10,
   "metadata": {},
   "outputs": [
    {
     "name": "stdout",
     "output_type": "stream",
     "text": [
      "20\n"
     ]
    },
    {
     "data": {
      "text/plain": [
       "array(['색조 메이크업 립', '색조 메이크업 아이', '베이스 메이크업 제품', '색조 메이크업 기타', '뷰티 도구',\n",
       "       '네일 제품', '메이크업 도구', '클렌징 용품', '헤어 케어', '기초 화장품', '기능성 화장품',\n",
       "       '스킨 케어', '선 제품', '바디 케어', '헤어 미용', '남성 기타', '향수', '입욕제', '풋 제품',\n",
       "       '핸드 제품'], dtype=object)"
      ]
     },
     "execution_count": 10,
     "metadata": {},
     "output_type": "execute_result"
    }
   ],
   "source": [
    "# 중분류 확인\n",
    "print(data.중분류.nunique())\n",
    "data.중분류.unique()"
   ]
  },
  {
   "cell_type": "code",
   "execution_count": 11,
   "metadata": {},
   "outputs": [
    {
     "data": {
      "text/plain": [
       "바디 케어          199\n",
       "기초 화장품         189\n",
       "클렌징 용품         182\n",
       "향수             104\n",
       "헤어 케어           88\n",
       "베이스 메이크업 제품     80\n",
       "입욕제             77\n",
       "메이크업 도구         74\n",
       "색조 메이크업 아이      72\n",
       "색조 메이크업 립       72\n",
       "기능성 화장품         58\n",
       "네일 제품           52\n",
       "스킨 케어           49\n",
       "헤어 미용           40\n",
       "색조 메이크업 기타      33\n",
       "선 제품            10\n",
       "핸드 제품            8\n",
       "남성 기타            5\n",
       "뷰티 도구            5\n",
       "풋 제품             3\n",
       "Name: 중분류, dtype: int64"
      ]
     },
     "execution_count": 11,
     "metadata": {},
     "output_type": "execute_result"
    }
   ],
   "source": [
    "data.중분류.value_counts(ascending=False)"
   ]
  },
  {
   "cell_type": "code",
   "execution_count": 12,
   "metadata": {},
   "outputs": [
    {
     "name": "stdout",
     "output_type": "stream",
     "text": [
      "73\n"
     ]
    },
    {
     "data": {
      "text/plain": [
       "array(['색조 메이크업 립스틱', '색조 메이크업 립틴트', '색조 메이크업 아이라이너', '색조 메이크업 아이섀도우',\n",
       "       '색조 메이크업 마스카라', '베이스 메이크업용 가루파우더', '베이스 메이크업용 컨실러', '색조 메이크업 볼터치',\n",
       "       '색조 메이크업 쉐딩/하이라이터', '베이스 메이크업용 메이크업베이스', '뷰티 손거울', '네일컬러',\n",
       "       '메이크업 브러쉬', '화장 비누', '샴푸', '린스', '베이스 메이크업용 파운데이션', '픽싱 스프레이',\n",
       "       '베이스 메이크업용 프라이머', '기초 화장용 오일/앰플', '색조 메이크업 아이브로우', '색조 메이크업 세트',\n",
       "       '색조 메이크업 립밤', '립메이크업', '기능성 영양보습 화장품', '클렌징 폼', '기능성 화장품 세트',\n",
       "       '헤어케어세트', '클렌징 워터/젤', '스킨케어 마스크팩', '기초 화장용 미스트', '기능성 링클케어 화장품',\n",
       "       '기능성 화이트닝 화장품', '기능성 아이케어 화장품', '선크림', '바디 보습제', '색조 메이크업 립라이너',\n",
       "       '색조 메이크업 립글로스', '헤어스타일링용 염색약', '남성 쉐이빙', '기초 화장용 스킨', '기초 화장용 크림',\n",
       "       '기초 화장용 에센스', '클렌징 오일', '스크럽/필링크림', '기초 화장용 로션', '화장 퍼프',\n",
       "       '스킨케어 머드팩', '바디 클렌져', '뷰티용 여드름압출기', '헤어케어', '기능성 트러블케어 화장품',\n",
       "       '클렌징 파우더', '바디케어용 때비누', '헤어에센스', '남성 클렌징', '여성향수', '입욕제', '클렌징 크림',\n",
       "       '헤어왁스', '트리트먼트', '풋워시/스크럽', '바디 스크럽', '바디케어용 청 결제', '핸드크림',\n",
       "       '핸드워시/스크럽', '클렌징 로션', '기능성 모공관리 화장품', '스킨케어 시트마스크팩',\n",
       "       '베이스 메이크업용 BB크림', '스킨케어 곡물팩', '색조 메이크업 속눈썹영양제', '스킨케어 워시오프팩'],\n",
       "      dtype=object)"
      ]
     },
     "execution_count": 12,
     "metadata": {},
     "output_type": "execute_result"
    }
   ],
   "source": [
    "# 소분류 확인\n",
    "print(data.소분류.nunique())\n",
    "data.소분류.unique()"
   ]
  },
  {
   "cell_type": "code",
   "execution_count": 13,
   "metadata": {},
   "outputs": [
    {
     "data": {
      "text/plain": [
       "바디 클렌져             107\n",
       "여성향수               104\n",
       "입욕제                 77\n",
       "메이크업 브러쉬            74\n",
       "클렌징 오일              54\n",
       "네일컬러                52\n",
       "베이스 메이크업용 파운데이션     52\n",
       "기초 화장용 크림           48\n",
       "바디케어용 때비누           48\n",
       "기초 화장용 스킨           45\n",
       "기초 화장용 에센스          44\n",
       "색조 메이크업 아이섀도우       43\n",
       "샴푸                  42\n",
       "헤어스타일링용 염색약         39\n",
       "바디 보습제              38\n",
       "Name: 소분류, dtype: int64"
      ]
     },
     "execution_count": 13,
     "metadata": {},
     "output_type": "execute_result"
    }
   ],
   "source": [
    "data.소분류.value_counts(ascending=False)[:15]"
   ]
  },
  {
   "cell_type": "code",
   "execution_count": 14,
   "metadata": {},
   "outputs": [
    {
     "name": "stdout",
     "output_type": "stream",
     "text": [
      "1237\n"
     ]
    }
   ],
   "source": [
    "# 상품명 확인\n",
    "print(data.상품명.nunique())"
   ]
  },
  {
   "cell_type": "code",
   "execution_count": 15,
   "metadata": {},
   "outputs": [],
   "source": [
    "# 정가 확인\n",
    "data.drop(data[data.정가 == ' '].index, axis=0, inplace=True) # 공백 데이터 제거\n",
    "data.reset_index(drop=True, inplace=True)"
   ]
  },
  {
   "cell_type": "code",
   "execution_count": 16,
   "metadata": {},
   "outputs": [],
   "source": [
    "data['정가'] = data['정가'].apply(lambda x: str(x))\n",
    "data['정가'] = data['정가'].apply(lambda x: x.replace(',','').replace('원',''))"
   ]
  },
  {
   "cell_type": "code",
   "execution_count": 17,
   "metadata": {},
   "outputs": [
    {
     "data": {
      "text/plain": [
       "array(['28000', '30000', '12000', '26000', '35000', '18000', '29000',\n",
       "       '24000', '36000', '38000', '25000', '34000', '32000', '42000',\n",
       "       '40000', '22000', '14000', '20000', '8000', '9000', '19000',\n",
       "       '7000', '15000', '65000', '45000', '50000', '60000 ', '40000 ',\n",
       "       '28000 ', '24000 ', '65000 ', '50000 ', '20000 ', '18000 ',\n",
       "       '31000 ', '159000', '16000', '33000', '54000', '6200', '14400',\n",
       "       '9600', '10800', '25050', '19125', '20900', '13900', '11000',\n",
       "       '5850', '5500', '10500', '7200', '14900', '22800', '8700', '15900',\n",
       "       '12800', '18900', '7800', '8900', '21900', '5200', '4900', '4500',\n",
       "       '9900', '7900', '10100', '6400', '19900', '27800', '8500', '19200',\n",
       "       '4800', '5000', '26800', '15200', '5900', '6900', '3900', '9500',\n",
       "       '6500', '4600', '3600', '22500', '8100', '10000', '7400', '6300',\n",
       "       '80000', '63000', '79000', '60000', '2000', '59000', '49000',\n",
       "       '82000', '51000', '61000', '18500', '27000', '78000', '55250',\n",
       "       '83000', '149000', '97000', '150000', '41650', '81000', '138000',\n",
       "       '72250', '119000', '118000', '96000', '76000', '57800', '115000',\n",
       "       '259000', '300', '68000', '95000', '66300', '26350', '27900',\n",
       "       '31000', '22475', '25575', '28675', '86800', '54250', '34100',\n",
       "       '80600', '27125', '9200', '8800', '11300', '11800', '11900',\n",
       "       '21000', '50400', '69900', '104000', '35900', '39500', '55000',\n",
       "       '86000', '66000', '48000', '44000', '9800', '43000', '49500',\n",
       "       '7500', '52000', '75500', '131000', '29200', '35700', '187000',\n",
       "       '54800', '241800', '319100', '64900', '37000', '72700', '56000',\n",
       "       '53500', '78500', '38800', '140000', '23000', '4000', '3000',\n",
       "       '4300', '500', '38500', '24900', '18800', '19800', '12900',\n",
       "       '16900', '25900', '9450', '15690', '23900', '13800', '7420',\n",
       "       '11840', '4400', '1500', '12500', '69000', '72000', '34400',\n",
       "       '110000', '190000', '130000', '320000', '17000', '220000',\n",
       "       '280000', '330000', '13000', '170000', '75000', '85000', '430000',\n",
       "       '90000', '6000', '108000', '176000', '198000', '240000', '139000',\n",
       "       '39000', '99000', '25400', '43900', '30400', '26900', '51400',\n",
       "       '43800', '49900', '31900', '25500', '17500', '29500', '19500',\n",
       "       '24500', '22900', '59900', '29400', '94000', '153000', '57000'],\n",
       "      dtype=object)"
      ]
     },
     "execution_count": 17,
     "metadata": {},
     "output_type": "execute_result"
    }
   ],
   "source": [
    "data.정가.unique()"
   ]
  },
  {
   "cell_type": "code",
   "execution_count": 18,
   "metadata": {},
   "outputs": [],
   "source": [
    "# 할인가 확인\n",
    "data['할인가'].loc[data[data.할인가.isna()].index] = ' '"
   ]
  },
  {
   "cell_type": "code",
   "execution_count": 20,
   "metadata": {},
   "outputs": [],
   "source": [
    "data['할인가'] = data['할인가'].apply(lambda x: str(x))\n",
    "data['할인가'] = data['할인가'].apply(lambda x: x.replace(',','').replace('원',''))\n",
    "# data['할인가'] = data['할인가'].apply(lambda x: int(x) if x != ' ' else x)"
   ]
  },
  {
   "cell_type": "code",
   "execution_count": 21,
   "metadata": {},
   "outputs": [
    {
     "data": {
      "text/plain": [
       "array([' ', '60000 ', '24000 ', '28000 ', '16000 ', '50000 ', '13000 ',\n",
       "       '25000 ', '18000 ', '9000', '85000', '11000', '12000', '10000',\n",
       "       '18000', '20000', '29000', '42000', '33000', '31000', '8000',\n",
       "       '33400', '25500', '27000', '16000', '6500', '8500', '13500',\n",
       "       '29500', '39800', '24000', '6000', '19900', '13000', '4500',\n",
       "       '5000', '15000', '9900.0', '30000.0', '12000.0', '15500.0',\n",
       "       '56500.0', '30500.0', '23500.0', '56700.0', '71100.0', '54000.0',\n",
       "       '23250.0', '20925.0', '65100.0', '40688.0', '26300.0', '21500.0',\n",
       "       '7900.0', '13800.0', '15200.0', '24900.0', '25900.0', '26900.0',\n",
       "       '27900.0', '28000.0', '34800.0', '17900.0', '19000.0', '18300.0',\n",
       "       '16800.0', '18900.0', '12900.0', '5900.0', '28800.0', '46800.0',\n",
       "       '25800.0', '35900.0', '38900.0', '23000', '70000', '54000',\n",
       "       '22000', '15800', '34000', '7900', ' 8500', ' 9000', ' 8000',\n",
       "       ' 16000', ' 9800', ' 18000', ' 14500', ' 14000', ' 32000',\n",
       "       ' 37500', ' 36000', ' 40200', ' 17000', ' 34000', ' 66800',\n",
       "       ' 89300', ' 27000', ' 21800', ' 26700', ' 61700', ' 43000',\n",
       "       ' 99500', ' 158400', ' 28000', ' 49800', ' 27700', ' 54400',\n",
       "       ' 60000', ' 47500', ' 19500', ' 67000', ' 33000', ' 21000',\n",
       "       ' 89000', ' 10800', ' 10900', ' 15000', ' 11500', ' 3500',\n",
       "       ' 35000', ' 4200', ' 35700', ' 1500', ' 31000', ' 13500', ' 24500',\n",
       "       ' 4500', ' 29000', ' 14900', ' 15900', ' 13900', ' 19800',\n",
       "       ' 38000', ' 53200', ' 62000', '16800', '12800', '6400', '3440',\n",
       "       '24800', '10800', '9600', '19800', '16200', '7800', '15600',\n",
       "       '7200', '13200', '21000', '22200', '12600', '4200', '35400',\n",
       "       '11400', '19200', '17400', '10200', '158400', '52800', '65600',\n",
       "       '22800', '39500', '27900', '27300', '46200', '39400', '44900',\n",
       "       '50900', '23400', '4650', '8800', '37800', '8449', '35100',\n",
       "       '19600', '12880', '49500', '53000', '35000', '80000', '122000',\n",
       "       '14400', '20800', '22400', '11200', '2800', '21600', '29700',\n",
       "       '28000', '51300', '12500', '11250', '16500', '3600', '9900',\n",
       "       '8900', '16900', '5900'], dtype=object)"
      ]
     },
     "execution_count": 21,
     "metadata": {},
     "output_type": "execute_result"
    }
   ],
   "source": [
    "data.할인가.unique()"
   ]
  },
  {
   "cell_type": "code",
   "execution_count": null,
   "metadata": {},
   "outputs": [],
   "source": []
  }
 ],
 "metadata": {
  "kernelspec": {
   "display_name": "Python 3",
   "language": "python",
   "name": "python3"
  },
  "language_info": {
   "codemirror_mode": {
    "name": "ipython",
    "version": 3
   },
   "file_extension": ".py",
   "mimetype": "text/x-python",
   "name": "python",
   "nbconvert_exporter": "python",
   "pygments_lexer": "ipython3",
   "version": "3.8.3"
  },
  "toc": {
   "base_numbering": 1,
   "nav_menu": {},
   "number_sections": false,
   "sideBar": false,
   "skip_h1_title": false,
   "title_cell": "Table of Contents",
   "title_sidebar": "Contents",
   "toc_cell": true,
   "toc_position": {},
   "toc_section_display": true,
   "toc_window_display": false
  }
 },
 "nbformat": 4,
 "nbformat_minor": 4
}
