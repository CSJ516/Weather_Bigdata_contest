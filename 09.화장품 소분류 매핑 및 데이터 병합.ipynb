{
 "cells": [
  {
   "cell_type": "markdown",
   "metadata": {
    "toc": true
   },
   "source": [
    "<h1>Table of Contents<span class=\"tocSkip\"></span></h1>\n",
    "<div class=\"toc\"><ul class=\"toc-item\"><li><span><a href=\"#1.-소분류-매핑\" data-toc-modified-id=\"1.-소분류-매핑-1\">1. 소분류 매핑</a></span><ul class=\"toc-item\"><li><span><a href=\"#1.1-닥터브로너스\" data-toc-modified-id=\"1.1-닥터브로너스-1.1\">1.1 닥터브로너스</a></span></li><li><span><a href=\"#1.2-러쉬\" data-toc-modified-id=\"1.2-러쉬-1.2\">1.2 러쉬</a></span></li><li><span><a href=\"#1.3-아로마티카\" data-toc-modified-id=\"1.3-아로마티카-1.3\">1.3 아로마티카</a></span></li><li><span><a href=\"#1.4-오엠\" data-toc-modified-id=\"1.4-오엠-1.4\">1.4 오엠</a></span></li><li><span><a href=\"#1.5-이든미네랄\" data-toc-modified-id=\"1.5-이든미네랄-1.5\">1.5 이든미네랄</a></span></li><li><span><a href=\"#1.6-클레어스\" data-toc-modified-id=\"1.6-클레어스-1.6\">1.6 클레어스</a></span></li><li><span><a href=\"#1.7-기타\" data-toc-modified-id=\"1.7-기타-1.7\">1.7 기타</a></span></li></ul></li><li><span><a href=\"#2.-데이터-병합\" data-toc-modified-id=\"2.-데이터-병합-2\">2. 데이터 병합</a></span></li></ul></div>"
   ]
  },
  {
   "cell_type": "code",
   "execution_count": 1,
   "metadata": {},
   "outputs": [],
   "source": [
    "import numpy as np\n",
    "import pandas as pd\n",
    "import warnings\n",
    "warnings.filterwarnings('ignore')"
   ]
  },
  {
   "cell_type": "code",
   "execution_count": 2,
   "metadata": {},
   "outputs": [],
   "source": [
    "닥터브로너스 = pd.read_csv('./cosmetic/닥터브로너스.csv').replace(np.nan, ' ')\n",
    "러쉬 = pd.read_csv('./cosmetic/러쉬.csv')\n",
    "아로마티카 = pd.read_csv('./cosmetic/아로마티카.csv')\n",
    "오엠 = pd.read_csv('./cosmetic/오엠.csv')\n",
    "이든미네랄 = pd.read_csv('./cosmetic/이든 미네랄.csv')\n",
    "클레어스 = pd.read_csv('./cosmetic/클레어스.csv')\n",
    "기타 = pd.read_csv('./cosmetic/기타(7곳).csv')"
   ]
  },
  {
   "cell_type": "markdown",
   "metadata": {},
   "source": [
    "# 1. 소분류 매핑"
   ]
  },
  {
   "cell_type": "markdown",
   "metadata": {},
   "source": [
    "## 1.1 닥터브로너스"
   ]
  },
  {
   "cell_type": "code",
   "execution_count": 3,
   "metadata": {},
   "outputs": [
    {
     "data": {
      "text/plain": [
       "array(['퓨어 캐스틸 솝 (매직솝)', '퓨어 캐스틸 바솝', '오가닉 슈가솝', '핸드&바디로션', '헤어크림',\n",
       "       '맨즈컬렉션'], dtype=object)"
      ]
     },
     "execution_count": 3,
     "metadata": {},
     "output_type": "execute_result"
    }
   ],
   "source": [
    "닥터브로너스.소분류명.unique()"
   ]
  },
  {
   "cell_type": "markdown",
   "metadata": {},
   "source": [
    "퓨어 캐스틸 솝 (매직솝) : 클렌징 오일, 바디 클렌져\n",
    "\n",
    "퓨어 캐스틸 바솝 : 바디케어용 때비누, 화장 비누\n",
    "\n",
    "오가닉 슈가솝 : 클렌징 폼, 바디 클렌져\n",
    "\n",
    "핸드&바디로션 : 바디 보습제\n",
    "\n",
    "헤어크림 : 헤어에센스\n",
    "\n",
    "맨즈컬렉션 : 남성 클렌징 (중복 고려)"
   ]
  },
  {
   "cell_type": "code",
   "execution_count": 4,
   "metadata": {},
   "outputs": [],
   "source": [
    "닥터브로너스.소분류명 = 닥터브로너스.소분류명.replace('퓨어 캐스틸 솝 (매직솝)', '클렌징 오일,바디 클렌져')\n",
    "닥터브로너스.소분류명 = 닥터브로너스.소분류명.replace('퓨어 캐스틸 바솝', '바디케어용 때비누,화장 비누')\n",
    "닥터브로너스.소분류명 = 닥터브로너스.소분류명.replace('오가닉 슈가솝', '클렌징 폼,바디 클렌져')\n",
    "닥터브로너스.소분류명 = 닥터브로너스.소분류명.replace('핸드&바디로션', '바디 보습제')\n",
    "닥터브로너스.소분류명 = 닥터브로너스.소분류명.replace('헤어크림', '헤어에센스')\n",
    "닥터브로너스.소분류명 = 닥터브로너스.소분류명.replace('맨즈컬렉션', '남성 클렌징')"
   ]
  },
  {
   "cell_type": "code",
   "execution_count": 5,
   "metadata": {},
   "outputs": [
    {
     "name": "stdout",
     "output_type": "stream",
     "text": [
      "(72, 5)\n"
     ]
    },
    {
     "data": {
      "text/html": [
       "<div>\n",
       "<style scoped>\n",
       "    .dataframe tbody tr th:only-of-type {\n",
       "        vertical-align: middle;\n",
       "    }\n",
       "\n",
       "    .dataframe tbody tr th {\n",
       "        vertical-align: top;\n",
       "    }\n",
       "\n",
       "    .dataframe thead th {\n",
       "        text-align: right;\n",
       "    }\n",
       "</style>\n",
       "<table border=\"1\" class=\"dataframe\">\n",
       "  <thead>\n",
       "    <tr style=\"text-align: right;\">\n",
       "      <th></th>\n",
       "      <th>브랜드명</th>\n",
       "      <th>소분류명</th>\n",
       "      <th>상품명</th>\n",
       "      <th>정가</th>\n",
       "      <th>할인가</th>\n",
       "    </tr>\n",
       "  </thead>\n",
       "  <tbody>\n",
       "    <tr>\n",
       "      <th>0</th>\n",
       "      <td>닥터브로너스</td>\n",
       "      <td>클렌징 폼,바디 클렌져</td>\n",
       "      <td>[공홈 기획세트] 닥터 브로너스 프리미엄 세트</td>\n",
       "      <td>34,400원</td>\n",
       "      <td></td>\n",
       "    </tr>\n",
       "    <tr>\n",
       "      <th>1</th>\n",
       "      <td>닥터브로너스</td>\n",
       "      <td>클렌징 폼,바디 클렌져</td>\n",
       "      <td>[청결생활]닥터 브로너스 슈가솝 360ml</td>\n",
       "      <td>20,000원</td>\n",
       "      <td></td>\n",
       "    </tr>\n",
       "    <tr>\n",
       "      <th>2</th>\n",
       "      <td>닥터브로너스</td>\n",
       "      <td>바디케어용 때비누,화장 비누</td>\n",
       "      <td>그린티 퓨어 캐스틸 바솝 140g</td>\n",
       "      <td>8,000원</td>\n",
       "      <td></td>\n",
       "    </tr>\n",
       "    <tr>\n",
       "      <th>3</th>\n",
       "      <td>닥터브로너스</td>\n",
       "      <td>클렌징 오일,바디 클렌져</td>\n",
       "      <td>그린티 퓨어 캐스틸 솝 240ml</td>\n",
       "      <td>12,500원</td>\n",
       "      <td></td>\n",
       "    </tr>\n",
       "    <tr>\n",
       "      <th>4</th>\n",
       "      <td>닥터브로너스</td>\n",
       "      <td>클렌징 오일,바디 클렌져</td>\n",
       "      <td>그린티 퓨어 캐스틸 솝 475ml</td>\n",
       "      <td>20,000원</td>\n",
       "      <td></td>\n",
       "    </tr>\n",
       "  </tbody>\n",
       "</table>\n",
       "</div>"
      ],
      "text/plain": [
       "     브랜드명             소분류명                        상품명       정가 할인가\n",
       "0  닥터브로너스     클렌징 폼,바디 클렌져  [공홈 기획세트] 닥터 브로너스 프리미엄 세트  34,400원    \n",
       "1  닥터브로너스     클렌징 폼,바디 클렌져    [청결생활]닥터 브로너스 슈가솝 360ml  20,000원    \n",
       "2  닥터브로너스  바디케어용 때비누,화장 비누         그린티 퓨어 캐스틸 바솝 140g   8,000원    \n",
       "3  닥터브로너스    클렌징 오일,바디 클렌져         그린티 퓨어 캐스틸 솝 240ml  12,500원    \n",
       "4  닥터브로너스    클렌징 오일,바디 클렌져         그린티 퓨어 캐스틸 솝 475ml  20,000원    "
      ]
     },
     "execution_count": 5,
     "metadata": {},
     "output_type": "execute_result"
    }
   ],
   "source": [
    "닥터브로너스2 = 닥터브로너스.groupby(['브랜드명','상품명','정가','할인가'])['소분류명'].apply(','.join).reset_index()\n",
    "닥터브로너스2 = 닥터브로너스2[['브랜드명','소분류명','상품명','정가','할인가']]\n",
    "print(닥터브로너스2.shape)\n",
    "닥터브로너스2.head()"
   ]
  },
  {
   "cell_type": "code",
   "execution_count": 6,
   "metadata": {},
   "outputs": [
    {
     "data": {
      "text/plain": [
       "array(['클렌징 폼,바디 클렌져', '바디케어용 때비누,화장 비누', '클렌징 오일,바디 클렌져', '바디 보습제',\n",
       "       '헤어에센스', '바디케어용 때비누,화장 비누,남성 클렌징', '클렌징 오일,바디 클렌져,남성 클렌징',\n",
       "       '클렌징 폼,바디 클렌져,남성 클렌징'], dtype=object)"
      ]
     },
     "execution_count": 6,
     "metadata": {},
     "output_type": "execute_result"
    }
   ],
   "source": [
    "닥터브로너스2.소분류명.unique()"
   ]
  },
  {
   "cell_type": "markdown",
   "metadata": {},
   "source": [
    "## 1.2 러쉬"
   ]
  },
  {
   "cell_type": "code",
   "execution_count": 7,
   "metadata": {},
   "outputs": [
    {
     "data": {
      "text/plain": [
       "array(['배쓰', '샤워', '보디', '페이스', '헤어', '메이크업', '퍼퓸'], dtype=object)"
      ]
     },
     "execution_count": 7,
     "metadata": {},
     "output_type": "execute_result"
    }
   ],
   "source": [
    "러쉬.소분류명.unique()"
   ]
  },
  {
   "cell_type": "markdown",
   "metadata": {},
   "source": [
    "배쓰 : 입욕제\n",
    "\n",
    "샤워 : 바디케어용 때비누, 바디 클렌져"
   ]
  },
  {
   "cell_type": "code",
   "execution_count": 8,
   "metadata": {},
   "outputs": [],
   "source": [
    "러쉬.소분류명 = 러쉬.소분류명.replace('배쓰', '입욕제')\n",
    "러쉬.소분류명 = 러쉬.소분류명.replace('샤워', '바디케어용 때비누,바디 클렌져')"
   ]
  },
  {
   "cell_type": "markdown",
   "metadata": {},
   "source": [
    "보디 : 바디 보습제\n",
    "\n",
    "    바디 스크럽 - 오션 솔트 셀프-프리저빙\n",
    "    바디 클렌져 - 렛 더 굿 타임즈 롤, 허벌리즘, 엔젤스 온 배어 스킨, 아쿠아 마리나. 다크 엔젤스\n",
    "    풋워시/스크럽 - 퍼미스 파워, 볼케이노, 티 포 토즈"
   ]
  },
  {
   "cell_type": "code",
   "execution_count": 9,
   "metadata": {},
   "outputs": [],
   "source": [
    "러쉬.소분류명 = 러쉬.소분류명.replace('보디', '바디 보습제')\n",
    "for i in 러쉬[러쉬.소분류명=='바디 보습제'].index:\n",
    "    if '오션 솔트 셀프-프리저빙' in 러쉬.상품명[i]:\n",
    "        러쉬.소분류명[i] = '바디 스크럽'\n",
    "        \n",
    "    elif '렛 더 굿 타임즈 롤' in 러쉬.상품명[i]:\n",
    "        러쉬.소분류명[i] = '바디 클렌져'\n",
    "    elif '허벌리즘' in 러쉬.상품명[i]:\n",
    "        러쉬.소분류명[i] = '바디 클렌져'\n",
    "    elif '엔젤스 온 배어 스킨' in 러쉬.상품명[i]:\n",
    "        러쉬.소분류명[i] = '바디 클렌져'\n",
    "    elif '아쿠아 마리나' in 러쉬.상품명[i]:\n",
    "        러쉬.소분류명[i] = '바디 클렌져'\n",
    "    elif '다크 엔젤스' in 러쉬.상품명[i]:\n",
    "        러쉬.소분류명[i] = '바디 클렌져'\n",
    "\n",
    "    elif '퍼미스 파워' in 러쉬.상품명[i]:\n",
    "        러쉬.소분류명[i] = '풋워시/스크럽'\n",
    "    elif '볼케이노' in 러쉬.상품명[i]:\n",
    "        러쉬.소분류명[i] = '풋워시/스크럽'\n",
    "    elif '티 포 토즈' in 러쉬.상품명[i]:\n",
    "        러쉬.소분류명[i] = '풋워시/스크럽'"
   ]
  },
  {
   "cell_type": "markdown",
   "metadata": {},
   "source": [
    "페이스 : 클렌징 크림\n",
    "\n",
    "    화장 비누 - 모비스, 콜페이스, 프레쉬 파머시\n",
    "    기초 화장용 스킨 (토너) - 티 트리 워터, 브레스 오브 프레쉬 에어, 오 로마 워터\n",
    "    스킨케어 마스크팩 - 컵 오 커피, 돈트 룩 앳 미, 로지 칙스, 오티픽스\n",
    "    스크럽/필링크림 - 오션 솔트 셀프-프리저빙\n",
    "    색조 메이크업 립밤 - 로즈 롤리팝, 키 라임 파이, 논 오브 유어 비즈왁스"
   ]
  },
  {
   "cell_type": "code",
   "execution_count": 10,
   "metadata": {},
   "outputs": [],
   "source": [
    "러쉬.소분류명 = 러쉬.소분류명.replace('페이스', '클렌징 크림')\n",
    "for i in 러쉬[러쉬.소분류명=='클렌징 크림'].index:\n",
    "    if '모비스' in 러쉬.상품명[i]:\n",
    "        러쉬.소분류명[i] = '화장 비누'\n",
    "    elif '콜페이스' in 러쉬.상품명[i]:\n",
    "        러쉬.소분류명[i] = '화장 비누'\n",
    "    elif '프레쉬 파머시' in 러쉬.상품명[i]:\n",
    "        러쉬.소분류명[i] = '화장 비누'\n",
    "        \n",
    "    elif '티 트리 워터' in 러쉬.상품명[i]:\n",
    "        러쉬.소분류명[i] = '기초 화장용 스킨'\n",
    "    elif '브레스 오브 프레쉬 에어' in 러쉬.상품명[i]:\n",
    "        러쉬.소분류명[i] = '기초 화장용 스킨'\n",
    "    elif '오 로마 워터' in 러쉬.상품명[i]:\n",
    "        러쉬.소분류명[i] = '기초 화장용 스킨'\n",
    "        \n",
    "    elif '컵 오 커피' in 러쉬.상품명[i]:\n",
    "        러쉬.소분류명[i] = '스킨케어 마스크팩'\n",
    "    elif '돈트 룩 앳 미' in 러쉬.상품명[i]:\n",
    "        러쉬.소분류명[i] = '스킨케어 마스크팩'\n",
    "    elif '로지 칙스' in 러쉬.상품명[i]:\n",
    "        러쉬.소분류명[i] = '스킨케어 마스크팩'\n",
    "    elif '오티픽스' in 러쉬.상품명[i]:\n",
    "        러쉬.소분류명[i] = '스킨케어 마스크팩'\n",
    "        \n",
    "    elif '오션 솔트 셀프' in 러쉬.상품명[i]:\n",
    "        러쉬.소분류명[i] = '스크럽/필링크림'\n",
    "        \n",
    "    elif '로즈 롤리팝' in 러쉬.상품명[i]:\n",
    "        러쉬.소분류명[i] = '색조 메이크업 립밤'\n",
    "    elif '키 라임 파이' in 러쉬.상품명[i]:\n",
    "        러쉬.소분류명[i] = '색조 메이크업 립밤'\n",
    "    elif '논 오브 유어 비즈왁스' in 러쉬.상품명[i]:\n",
    "        러쉬.소분류명[i] = '색조 메이크업 립밤'"
   ]
  },
  {
   "cell_type": "markdown",
   "metadata": {},
   "source": [
    "헤어 : 샴푸\n",
    "\n",
    "    린스 - 파워, 글로리, 해피 해피 조이 조이, 베가니스, 더 골든 캡, 아메리칸 크림\n",
    "    트리트먼트 - 마릴린, 수퍼밤\n",
    "    헤어에센스 - 수퍼 밀크, 씨 스프레이, 밸런스, 르네'스 시어 수플레, 아보카도 코-워시\n",
    "    헤어왁스 - 더티 스타일링 크림    "
   ]
  },
  {
   "cell_type": "code",
   "execution_count": 11,
   "metadata": {},
   "outputs": [],
   "source": [
    "러쉬.소분류명 = 러쉬.소분류명.replace('헤어', '샴푸')\n",
    "for i in 러쉬[러쉬.소분류명=='샴푸'].index:\n",
    "    if '파워' in 러쉬.상품명[i]:\n",
    "        러쉬.소분류명[i] = '린스'\n",
    "    elif '글로리' in 러쉬.상품명[i]:\n",
    "        러쉬.소분류명[i] = '린스'\n",
    "    elif '해피 해피 조이 조이' in 러쉬.상품명[i]:\n",
    "        러쉬.소분류명[i] = '린스'\n",
    "    elif '베가니스' in 러쉬.상품명[i]:\n",
    "        러쉬.소분류명[i] = '린스'\n",
    "    elif '더 골든 캡' in 러쉬.상품명[i]:\n",
    "        러쉬.소분류명[i] = '린스'\n",
    "    elif '아메리칸 크림' in 러쉬.상품명[i]:\n",
    "        러쉬.소분류명[i] = '린스'\n",
    "        \n",
    "    elif '마릴린' in 러쉬.상품명[i]:\n",
    "        러쉬.소분류명[i] = '트리트먼트'\n",
    "    elif '수퍼밤' in 러쉬.상품명[i]:\n",
    "        러쉬.소분류명[i] = '트리트먼트'\n",
    "        \n",
    "    elif '수퍼 밀크' in 러쉬.상품명[i]:\n",
    "        러쉬.소분류명[i] = '헤어에센스'\n",
    "    elif '씨 스프레이' in 러쉬.상품명[i]:\n",
    "        러쉬.소분류명[i] = '헤어에센스'\n",
    "    elif '밸런스' in 러쉬.상품명[i]:\n",
    "        러쉬.소분류명[i] = '헤어에센스'\n",
    "    elif '시어 수플레' in 러쉬.상품명[i]:\n",
    "        러쉬.소분류명[i] = '헤어에센스'\n",
    "    elif '아보카도' in 러쉬.상품명[i]:\n",
    "        러쉬.소분류명[i] = '헤어에센스'\n",
    "        \n",
    "    elif '더티 스타일링 크림' in 러쉬.상품명[i]:\n",
    "        러쉬.소분류명[i] = '헤어왁스'"
   ]
  },
  {
   "cell_type": "markdown",
   "metadata": {},
   "source": [
    "메이크업 : 베이스 메이크업용 파운데이션\n",
    "\n",
    "    메이크업 브러쉬 - 프레쉬 페이스드, 윙 잇, 겟 인 데어, 피플 파우더, 퍼커, 글로우 투 타운, \n",
    "    색조 메이크업 립스틱 - 사이돈, 로스앤젤레스, 킨샤사, 베이테딘, 키갈리\n",
    "    색조 메이크업 아이라이너 - 용기, 환상, 독립\n",
    "    베이스 메이크업용 가루파우더 - 이모셔널 브릴리언스\n",
    "    색조 메이크업 마스카라 - 아이즈 라이트\n",
    "    색조 메이크업 쉐딩/하이라이터 - 필링 영거\n",
    "    \n",
    "퍼퓸 : 여성향수"
   ]
  },
  {
   "cell_type": "code",
   "execution_count": 12,
   "metadata": {},
   "outputs": [],
   "source": [
    "러쉬.소분류명 = 러쉬.소분류명.replace('메이크업', '베이스 메이크업용 파운데이션')\n",
    "러쉬.소분류명 = 러쉬.소분류명.replace('퍼퓸', '여성향수')\n",
    "for i in 러쉬[러쉬.소분류명=='베이스 메이크업용 파운데이션'].index:\n",
    "    if '프레쉬 페이스드' in 러쉬.상품명[i]:\n",
    "        러쉬.소분류명[i] = '메이크업 브러쉬'\n",
    "    elif '윙 잇' in 러쉬.상품명[i]:\n",
    "        러쉬.소분류명[i] = '메이크업 브러쉬'\n",
    "    elif '겟 인 데어' in 러쉬.상품명[i]:\n",
    "        러쉬.소분류명[i] = '메이크업 브러쉬'\n",
    "    elif '피플 파우더' in 러쉬.상품명[i]:\n",
    "        러쉬.소분류명[i] = '메이크업 브러쉬'\n",
    "    elif '퍼커' in 러쉬.상품명[i]:\n",
    "        러쉬.소분류명[i] = '메이크업 브러쉬'\n",
    "    elif '글로우 투 타운' in 러쉬.상품명[i]:\n",
    "        러쉬.소분류명[i] = '메이크업 브러쉬'\n",
    "    \n",
    "    elif '사이돈' in 러쉬.상품명[i]:\n",
    "        러쉬.소분류명[i] = '색조 메이크업 립스틱'\n",
    "    elif '로스앤젤레스' in 러쉬.상품명[i]:\n",
    "        러쉬.소분류명[i] = '색조 메이크업 립스틱'\n",
    "    elif '킨샤사' in 러쉬.상품명[i]:\n",
    "        러쉬.소분류명[i] = '색조 메이크업 립스틱'\n",
    "    elif '베이테딘' in 러쉬.상품명[i]:\n",
    "        러쉬.소분류명[i] = '색조 메이크업 립스틱'\n",
    "    elif '키갈리' in 러쉬.상품명[i]:\n",
    "        러쉬.소분류명[i] = '색조 메이크업 립스틱'\n",
    "        \n",
    "    elif '용기' in 러쉬.상품명[i]:\n",
    "        러쉬.소분류명[i] = '색조 메이크업 아이라이너'\n",
    "    elif '환상' in 러쉬.상품명[i]:\n",
    "        러쉬.소분류명[i] = '색조 메이크업 아이라이너'\n",
    "    elif '독립' in 러쉬.상품명[i]:\n",
    "        러쉬.소분류명[i] = '색조 메이크업 아이라이너'\n",
    "        \n",
    "    elif '이모셔널 브릴리언스' in 러쉬.상품명[i]:\n",
    "        러쉬.소분류명[i] = '베이스 메이크업용 가루파우더'\n",
    "        \n",
    "    elif '아이즈 라이트' in 러쉬.상품명[i]:\n",
    "        러쉬.소분류명[i] = '색조 메이크업 마스카라'\n",
    "        \n",
    "    elif '필링 영거' in 러쉬.상품명[i]:\n",
    "        러쉬.소분류명[i] = '색조 메이크업 쉐딩/하이라이터'"
   ]
  },
  {
   "cell_type": "code",
   "execution_count": 13,
   "metadata": {},
   "outputs": [
    {
     "name": "stdout",
     "output_type": "stream",
     "text": [
      "(339, 5)\n"
     ]
    },
    {
     "data": {
      "text/html": [
       "<div>\n",
       "<style scoped>\n",
       "    .dataframe tbody tr th:only-of-type {\n",
       "        vertical-align: middle;\n",
       "    }\n",
       "\n",
       "    .dataframe tbody tr th {\n",
       "        vertical-align: top;\n",
       "    }\n",
       "\n",
       "    .dataframe thead th {\n",
       "        text-align: right;\n",
       "    }\n",
       "</style>\n",
       "<table border=\"1\" class=\"dataframe\">\n",
       "  <thead>\n",
       "    <tr style=\"text-align: right;\">\n",
       "      <th></th>\n",
       "      <th>브랜드명</th>\n",
       "      <th>소분류명</th>\n",
       "      <th>상품명</th>\n",
       "      <th>정가</th>\n",
       "      <th>할인가</th>\n",
       "    </tr>\n",
       "  </thead>\n",
       "  <tbody>\n",
       "    <tr>\n",
       "      <th>0</th>\n",
       "      <td>러쉬</td>\n",
       "      <td>여성향수</td>\n",
       "      <td>1000 키시스 딥 100ml</td>\n",
       "      <td>110,000원</td>\n",
       "      <td></td>\n",
       "    </tr>\n",
       "    <tr>\n",
       "      <th>1</th>\n",
       "      <td>러쉬</td>\n",
       "      <td>여성향수</td>\n",
       "      <td>1000 키시스 딥 솔리드 퍼퓸</td>\n",
       "      <td>20,000원</td>\n",
       "      <td></td>\n",
       "    </tr>\n",
       "    <tr>\n",
       "      <th>2</th>\n",
       "      <td>러쉬</td>\n",
       "      <td>여성향수</td>\n",
       "      <td>1000 키시스 딥 워시 카드</td>\n",
       "      <td>4,000원</td>\n",
       "      <td></td>\n",
       "    </tr>\n",
       "    <tr>\n",
       "      <th>3</th>\n",
       "      <td>러쉬</td>\n",
       "      <td>입욕제</td>\n",
       "      <td>1000 키시스 딥 퍼퓸 버블 보틀</td>\n",
       "      <td>25,000원</td>\n",
       "      <td></td>\n",
       "    </tr>\n",
       "    <tr>\n",
       "      <th>4</th>\n",
       "      <td>러쉬</td>\n",
       "      <td>여성향수</td>\n",
       "      <td>1000 키시스 딥30ml</td>\n",
       "      <td>55,000원</td>\n",
       "      <td></td>\n",
       "    </tr>\n",
       "  </tbody>\n",
       "</table>\n",
       "</div>"
      ],
      "text/plain": [
       "  브랜드명  소분류명                  상품명        정가 할인가\n",
       "0   러쉬  여성향수     1000 키시스 딥 100ml  110,000원    \n",
       "1   러쉬  여성향수    1000 키시스 딥 솔리드 퍼퓸   20,000원    \n",
       "2   러쉬  여성향수     1000 키시스 딥 워시 카드    4,000원    \n",
       "3   러쉬   입욕제  1000 키시스 딥 퍼퓸 버블 보틀   25,000원    \n",
       "4   러쉬  여성향수       1000 키시스 딥30ml   55,000원    "
      ]
     },
     "execution_count": 13,
     "metadata": {},
     "output_type": "execute_result"
    }
   ],
   "source": [
    "러쉬2 = 러쉬.groupby(['브랜드명','상품명','정가','할인가'])['소분류명'].apply(','.join).reset_index()\n",
    "러쉬2 = 러쉬2[['브랜드명','소분류명','상품명','정가','할인가']]\n",
    "print(러쉬2.shape)\n",
    "러쉬2.head()"
   ]
  },
  {
   "cell_type": "code",
   "execution_count": 14,
   "metadata": {},
   "outputs": [
    {
     "data": {
      "text/plain": [
       "array(['여성향수', '입욕제', '메이크업 브러쉬', '바디케어용 때비누,바디 클렌져', '클렌징 크림', '린스',\n",
       "       '색조 메이크업 립밤', '샴푸', '바디 클렌져,클렌징 크림', '헤어왁스', '색조 메이크업 아이라이너',\n",
       "       '스킨케어 마스크팩', '바디 보습제', '입욕제,입욕제,바디케어용 때비누,바디 클렌져', '색조 메이크업 립스틱',\n",
       "       '헤어에센스', '트리트먼트', '화장 비누', '입욕제,바디케어용 때비누,바디 클렌져',\n",
       "       '바디케어용 때비누,바디 클렌져,바디 보습제', '풋워시/스크럽', '기초 화장용 스킨',\n",
       "       '베이스 메이크업용 파운데이션', '색조 메이크업 마스카라',\n",
       "       '바디케어용 때비누,바디 클렌져,바디 스크럽,스크럽/필링크림', '베이스 메이크업용 가루파우더',\n",
       "       '색조 메이크업 쉐딩/하이라이터'], dtype=object)"
      ]
     },
     "execution_count": 14,
     "metadata": {},
     "output_type": "execute_result"
    }
   ],
   "source": [
    "러쉬2.소분류명.unique()"
   ]
  },
  {
   "cell_type": "code",
   "execution_count": 15,
   "metadata": {},
   "outputs": [],
   "source": [
    "러쉬2.소분류명[68] = '입욕제,바디케어용 때비누,바디 클렌져'"
   ]
  },
  {
   "cell_type": "markdown",
   "metadata": {},
   "source": [
    "## 1.3 아로마티카"
   ]
  },
  {
   "cell_type": "code",
   "execution_count": 16,
   "metadata": {},
   "outputs": [
    {
     "data": {
      "text/plain": [
       "array(['스킨 케어', '헤어 케어', '바디 케어', '메이크업', '라이프 케어', '아로마테라피'],\n",
       "      dtype=object)"
      ]
     },
     "execution_count": 16,
     "metadata": {},
     "output_type": "execute_result"
    }
   ],
   "source": [
    "아로마티카.소분류명.unique()"
   ]
  },
  {
   "cell_type": "markdown",
   "metadata": {},
   "source": [
    "스킨 케어 : 클렌져/토너/세럼,에센스/로션,크림/수딩젤/선케어/페이셜오일/스팟,멀티밤\n",
    "\n",
    "    클렌징 워터/젤 - 워터, 워시\n",
    "    클렌징 폼 - 클렌징 바, 클렌저, 클렌징 무스\n",
    "    클렌징 오일 - 내추럴 코코넛 클렌징 오일\n",
    "    클렌징 크림 - 오렌지 클렌징 샤베트\n",
    "    기초 화장용 스킨 (토너) - 토너, 베라 젤, 카밍 젤\n",
    "    기능성 화장품 세트 - 스킨케어 베스트 트리오 세트, 리바이빙 로즈 트라이얼 세트\n",
    "    기초 화장용 에센스 - 세럼, 카카두 유스 글로우 비타 필, 에센스\n",
    "    기초 화장용 크림 - 크림, 에멀전, 로션\n",
    "    선크림 - 수딩 알로에 미네랄 선스크린\n",
    "    기초 화장용 오일/앰플 - 오일\n",
    "    (삭제) 나무 돌고래 페이스 & 바디 마사지툴\n",
    "    기능성 영양보습 화장품 - 디콕션 밤, 블레미쉬 스팟, 어노인팅 (동방박사) 밤"
   ]
  },
  {
   "cell_type": "code",
   "execution_count": 17,
   "metadata": {},
   "outputs": [],
   "source": [
    "for i in 아로마티카[아로마티카.소분류명=='스킨 케어'].index:\n",
    "    if '워터' in 아로마티카.상품명[i]:\n",
    "        아로마티카.소분류명[i] = '클렌징 워터/젤'\n",
    "    elif '워시' in 아로마티카.상품명[i]:\n",
    "        아로마티카.소분류명[i] = '클렌징 워터/젤'\n",
    "        \n",
    "    elif '오일' in 아로마티카.상품명[i]:\n",
    "        아로마티카.소분류명[i] = '기초 화장용 오일/앰플'\n",
    "        \n",
    "    elif '클렌징 바' in 아로마티카.상품명[i]:\n",
    "        아로마티카.소분류명[i] = '클렌징 폼'\n",
    "    elif '클렌저' in 아로마티카.상품명[i]:\n",
    "        아로마티카.소분류명[i] = '클렌징 폼'\n",
    "    elif '클렌징 무스' in 아로마티카.상품명[i]:\n",
    "        아로마티카.소분류명[i] = '클렌징 폼'\n",
    "        \n",
    "    elif '클렌징 오일' in 아로마티카.상품명[i]:\n",
    "        아로마티카.소분류명[i] = '클렌징 오일'\n",
    "    \n",
    "    elif '클렌징 샤베트' in 아로마티카.상품명[i]:\n",
    "        아로마티카.소분류명[i] = '클렌징 크림'\n",
    "        \n",
    "    elif '토너' in 아로마티카.상품명[i]:\n",
    "        아로마티카.소분류명[i] = '기초 화장용 스킨'\n",
    "    elif '베라 젤' in 아로마티카.상품명[i]:\n",
    "        아로마티카.소분류명[i] = '기초 화장용 스킨'\n",
    "    elif '카밍 젤' in 아로마티카.상품명[i]:\n",
    "        아로마티카.소분류명[i] = '기초 화장용 스킨'\n",
    "        \n",
    "    elif '트리오 세트' in 아로마티카.상품명[i]:\n",
    "        아로마티카.소분류명[i] = '기능성 화장품 세트'\n",
    "    elif '트라이얼 세트' in 아로마티카.상품명[i]:\n",
    "        아로마티카.소분류명[i] = '기능성 화장품 세트'\n",
    "        \n",
    "    elif '세럼' in 아로마티카.상품명[i]:\n",
    "        아로마티카.소분류명[i] = '기초 화장용 에센스'\n",
    "    elif '글로우 비타 필' in 아로마티카.상품명[i]:\n",
    "        아로마티카.소분류명[i] = '기초 화장용 에센스'\n",
    "    elif '에센스' in 아로마티카.상품명[i]:\n",
    "        아로마티카.소분류명[i] = '기초 화장용 에센스'\n",
    "        \n",
    "    elif '크림' in 아로마티카.상품명[i]:\n",
    "        아로마티카.소분류명[i] = '기초 화장용 크림'\n",
    "    elif '에멀전' in 아로마티카.상품명[i]:\n",
    "        아로마티카.소분류명[i] = '기초 화장용 크림'\n",
    "    elif '로션' in 아로마티카.상품명[i]:\n",
    "        아로마티카.소분류명[i] = '기초 화장용 크림'\n",
    "        \n",
    "    elif '선스크린' in 아로마티카.상품명[i]:\n",
    "        아로마티카.소분류명[i] = '선크림'\n",
    "        \n",
    "    elif '디콕션 밤' in 아로마티카.상품명[i]:\n",
    "        아로마티카.소분류명[i] = '기능성 영양보습 화장품'\n",
    "    elif '블레미쉬 스팟' in 아로마티카.상품명[i]:\n",
    "        아로마티카.소분류명[i] = '기능성 영양보습 화장품'\n",
    "    elif '어노인팅 (동방박사) 밤' in 아로마티카.상품명[i]:\n",
    "        아로마티카.소분류명[i] = '기능성 영양보습 화장품'"
   ]
  },
  {
   "cell_type": "code",
   "execution_count": 18,
   "metadata": {},
   "outputs": [],
   "source": [
    "아로마티카.drop(아로마티카[아로마티카.상품명=='나무 돌고래 페이스 & 바디 마사지툴'].index, axis=0, inplace=True)"
   ]
  },
  {
   "cell_type": "markdown",
   "metadata": {},
   "source": [
    "헤어 케어 : 샴푸,스크럽/린스,트리트먼트/토닉,앰플,세럼\n",
    "\n",
    "    샴푸 - 샴푸, 로즈마리 스칼프 스크럽, 에이콜로지 브랜드 북 세트\n",
    "    린스 - 헤어 씨크닝 컨디셔너, 포티파잉 컨디셔너\n",
    "    트리트먼트 - 트리트먼트\n",
    "    헤어에센스 - 헤어 앰플, 루트 인핸서, 스칼프 부스팅 세럼, 로스 토닉, 퓨리파잉 토닉, 헤어 프라이머"
   ]
  },
  {
   "cell_type": "code",
   "execution_count": 19,
   "metadata": {},
   "outputs": [],
   "source": [
    "for i in 아로마티카[아로마티카.소분류명=='헤어 케어'].index:\n",
    "    if '샴푸' in 아로마티카.상품명[i]:\n",
    "        아로마티카.소분류명[i] = '샴푸'\n",
    "    elif '스칼프 스크럽' in 아로마티카.상품명[i]:\n",
    "        아로마티카.소분류명[i] = '샴푸'\n",
    "    elif '브랜드 북 세트' in 아로마티카.상품명[i]:\n",
    "        아로마티카.소분류명[i] = '샴푸'\n",
    "        \n",
    "    elif '컨디셔너' in 아로마티카.상품명[i]:\n",
    "        아로마티카.소분류명[i] = '린스'\n",
    "        \n",
    "    elif '트리트먼트' in 아로마티카.상품명[i]:\n",
    "        아로마티카.소분류명[i] = '트리트먼트'\n",
    "        \n",
    "    elif '헤어 앰플' in 아로마티카.상품명[i]:\n",
    "        아로마티카.소분류명[i] = '헤어에센스'\n",
    "    elif '루트 인핸서' in 아로마티카.상품명[i]:\n",
    "        아로마티카.소분류명[i] = '헤어에센스'\n",
    "    elif '스칼프 부스팅 세럼' in 아로마티카.상품명[i]:\n",
    "        아로마티카.소분류명[i] = '헤어에센스'\n",
    "    elif '토닉' in 아로마티카.상품명[i]:\n",
    "        아로마티카.소분류명[i] = '헤어에센스'\n",
    "    elif '헤어 프라이머' in 아로마티카.상품명[i]:\n",
    "        아로마티카.소분류명[i] = '헤어에센스'"
   ]
  },
  {
   "cell_type": "markdown",
   "metadata": {},
   "source": [
    "바디 케어 : 바디워시/바디로션/바디오일/핸드 케어\n",
    "\n",
    "    바디 클렌져 - 클렌징 바, 바디워시, 올인원 워시\n",
    "    바디 보습제 - 올인원 로션, 바디로션, 바디오일\n",
    "    바디케어용 청 결제 - 페미닌 젤, 여성청결제\n",
    "    핸드워시/스크럽 - 핸드워시\n",
    "    핸드크림 - 핸드크림, 핸드밤\n",
    "    (삭제) 핸드 새니타이저겔"
   ]
  },
  {
   "cell_type": "code",
   "execution_count": 20,
   "metadata": {},
   "outputs": [],
   "source": [
    "for i in 아로마티카[아로마티카.소분류명=='바디 케어'].index:\n",
    "    if '클렌징 바' in 아로마티카.상품명[i]:\n",
    "        아로마티카.소분류명[i] = '바디 클렌져'\n",
    "    elif '바디워시' in 아로마티카.상품명[i]:\n",
    "        아로마티카.소분류명[i] = '바디 클렌져'\n",
    "    elif '올인원 워시' in 아로마티카.상품명[i]:\n",
    "        아로마티카.소분류명[i] = '바디 클렌져'\n",
    "        \n",
    "    elif '페미닌 젤' in 아로마티카.상품명[i]:\n",
    "        아로마티카.소분류명[i] = '바디케어용 청 결제'\n",
    "    elif '여성청결제' in 아로마티카.상품명[i]:\n",
    "        아로마티카.소분류명[i] = '바디케어용 청 결제'\n",
    "        \n",
    "    elif '로션' in 아로마티카.상품명[i]:\n",
    "        아로마티카.소분류명[i] = '바디 보습제'\n",
    "    elif '바디오일' in 아로마티카.상품명[i]:\n",
    "        아로마티카.소분류명[i] = '바디 보습제'\n",
    "        \n",
    "    elif '핸드워시' in 아로마티카.상품명[i]:\n",
    "        아로마티카.소분류명[i] = '핸드워시/스크럽'\n",
    "        \n",
    "    elif '핸드크림' in 아로마티카.상품명[i]:\n",
    "        아로마티카.소분류명[i] = '핸드크림'\n",
    "    elif '핸드밤' in 아로마티카.상품명[i]:\n",
    "        아로마티카.소분류명[i] = '핸드크림'\n",
    "        \n",
    "    elif '핸드 새니타이저겔' in 아로마티카.상품명[i]:\n",
    "        아로마티카.drop(i, axis=0, inplace=True)"
   ]
  },
  {
   "cell_type": "markdown",
   "metadata": {},
   "source": [
    "메이크업 : 색조 메이크업 립스틱\n",
    "\n",
    "라이프 케어 : 치약,칫솔/주방 세제/살균,탈취제/여성청결제/비누/펫샴푸\n",
    "    \n",
    "    바디케어용 청 결제 - 페미닌 젤, 여성청결제\n",
    "    세안도구 - 헴프 비누망\n",
    "    (삭제) 위 항목 제외 모두 삭제\n",
    "\n",
    "(삭제) 아로마테라피 : 에센셜오일/향수,방향/롤온"
   ]
  },
  {
   "cell_type": "code",
   "execution_count": 21,
   "metadata": {},
   "outputs": [],
   "source": [
    "아로마티카.소분류명 = 아로마티카.소분류명.replace('메이크업', '색조 메이크업 립스틱')\n",
    "for i in 아로마티카[아로마티카.소분류명=='라이프 케어'].index:\n",
    "    if '페미닌 젤' in 아로마티카.상품명[i]:\n",
    "        아로마티카.소분류명[i] = '바디케어용 청 결제'\n",
    "    elif '여성청결제' in 아로마티카.상품명[i]:\n",
    "        아로마티카.소분류명[i] = '바디케어용 청 결제'\n",
    "        \n",
    "    elif '비누망' in 아로마티카.상품명[i]:\n",
    "        아로마티카.소분류명[i] = '세안도구'\n",
    "        \n",
    "    elif 아로마티카.소분류명[i] == '라이프 케어':\n",
    "        아로마티카.drop(i, axis=0, inplace=True)\n",
    "아로마티카.drop(아로마티카[아로마티카.소분류명=='아로마테라피'].index, axis=0, inplace=True)"
   ]
  },
  {
   "cell_type": "code",
   "execution_count": 22,
   "metadata": {},
   "outputs": [
    {
     "name": "stdout",
     "output_type": "stream",
     "text": [
      "(104, 5)\n"
     ]
    },
    {
     "data": {
      "text/html": [
       "<div>\n",
       "<style scoped>\n",
       "    .dataframe tbody tr th:only-of-type {\n",
       "        vertical-align: middle;\n",
       "    }\n",
       "\n",
       "    .dataframe tbody tr th {\n",
       "        vertical-align: top;\n",
       "    }\n",
       "\n",
       "    .dataframe thead th {\n",
       "        text-align: right;\n",
       "    }\n",
       "</style>\n",
       "<table border=\"1\" class=\"dataframe\">\n",
       "  <thead>\n",
       "    <tr style=\"text-align: right;\">\n",
       "      <th></th>\n",
       "      <th>브랜드명</th>\n",
       "      <th>소분류명</th>\n",
       "      <th>상품명</th>\n",
       "      <th>정가</th>\n",
       "      <th>할인가</th>\n",
       "    </tr>\n",
       "  </thead>\n",
       "  <tbody>\n",
       "    <tr>\n",
       "      <th>0</th>\n",
       "      <td>아로마티카</td>\n",
       "      <td>샴푸</td>\n",
       "      <td>B5+비오틴 포티파잉 샴푸 400ml</td>\n",
       "      <td>18,000원</td>\n",
       "      <td>10,800원</td>\n",
       "    </tr>\n",
       "    <tr>\n",
       "      <th>1</th>\n",
       "      <td>아로마티카</td>\n",
       "      <td>샴푸</td>\n",
       "      <td>B5+비오틴 포티파잉 샴푸 리필 500ml</td>\n",
       "      <td>18,000원</td>\n",
       "      <td>10,800원</td>\n",
       "    </tr>\n",
       "    <tr>\n",
       "      <th>2</th>\n",
       "      <td>아로마티카</td>\n",
       "      <td>린스</td>\n",
       "      <td>B5+비오틴 포티파잉 컨디셔너 400ml</td>\n",
       "      <td>16,000원</td>\n",
       "      <td>9,600원</td>\n",
       "    </tr>\n",
       "    <tr>\n",
       "      <th>3</th>\n",
       "      <td>아로마티카</td>\n",
       "      <td>기초 화장용 오일/앰플</td>\n",
       "      <td>내추럴 코코넛 클렌징 오일</td>\n",
       "      <td>33,000원</td>\n",
       "      <td>19,800원</td>\n",
       "    </tr>\n",
       "    <tr>\n",
       "      <th>4</th>\n",
       "      <td>아로마티카</td>\n",
       "      <td>바디케어용 청 결제,바디케어용 청 결제</td>\n",
       "      <td>단델리온 페미닌 젤 250ml</td>\n",
       "      <td>18,000원</td>\n",
       "      <td>10,800원</td>\n",
       "    </tr>\n",
       "  </tbody>\n",
       "</table>\n",
       "</div>"
      ],
      "text/plain": [
       "    브랜드명                   소분류명                      상품명       정가      할인가\n",
       "0  아로마티카                     샴푸     B5+비오틴 포티파잉 샴푸 400ml  18,000원  10,800원\n",
       "1  아로마티카                     샴푸  B5+비오틴 포티파잉 샴푸 리필 500ml  18,000원  10,800원\n",
       "2  아로마티카                     린스   B5+비오틴 포티파잉 컨디셔너 400ml  16,000원   9,600원\n",
       "3  아로마티카           기초 화장용 오일/앰플           내추럴 코코넛 클렌징 오일  33,000원  19,800원\n",
       "4  아로마티카  바디케어용 청 결제,바디케어용 청 결제         단델리온 페미닌 젤 250ml  18,000원  10,800원"
      ]
     },
     "execution_count": 22,
     "metadata": {},
     "output_type": "execute_result"
    }
   ],
   "source": [
    "아로마티카2 = 아로마티카.groupby(['브랜드명','상품명','정가','할인가'])['소분류명'].apply(','.join).reset_index()\n",
    "아로마티카2 = 아로마티카2[['브랜드명','소분류명','상품명','정가','할인가']]\n",
    "print(아로마티카2.shape)\n",
    "아로마티카2.head()"
   ]
  },
  {
   "cell_type": "code",
   "execution_count": 23,
   "metadata": {},
   "outputs": [
    {
     "data": {
      "text/plain": [
       "array(['샴푸', '린스', '기초 화장용 오일/앰플', '바디케어용 청 결제,바디케어용 청 결제', '바디케어용 청 결제',\n",
       "       '트리트먼트', '헤어에센스', '기초 화장용 에센스', '기초 화장용 크림', '클렌징 폼', '기초 화장용 스킨',\n",
       "       '기능성 화장품 세트', '핸드크림', '기초 화장용 크림,바디 보습제', '클렌징 워터/젤,바디 클렌져',\n",
       "       '바디 보습제', '바디 클렌져', '선크림', '핸드워시/스크럽', '클렌징 크림', '색조 메이크업 립스틱',\n",
       "       '기능성 영양보습 화장품', '클렌징 폼,바디 클렌져', '클렌징 워터/젤'], dtype=object)"
      ]
     },
     "execution_count": 23,
     "metadata": {},
     "output_type": "execute_result"
    }
   ],
   "source": [
    "아로마티카2.소분류명.unique()"
   ]
  },
  {
   "cell_type": "markdown",
   "metadata": {},
   "source": [
    "## 1.4 오엠"
   ]
  },
  {
   "cell_type": "code",
   "execution_count": 24,
   "metadata": {},
   "outputs": [
    {
     "data": {
      "text/plain": [
       "array(['cleansing', 'toner', 'face-oils-serums', 'creams', 'special-care',\n",
       "       'lotions', 'body-oils', 'cleansers', 'bath-preparation', 'aroma'],\n",
       "      dtype=object)"
      ]
     },
     "execution_count": 24,
     "metadata": {},
     "output_type": "execute_result"
    }
   ],
   "source": [
    "오엠.소분류명.unique()"
   ]
  },
  {
   "cell_type": "markdown",
   "metadata": {},
   "source": [
    "cleansing : 화장 비누\n",
    "\n",
    "    클렌징 로션, 클렌징 크림 - 클린징 밀크\n",
    "\n",
    "toner : 기초 화장용 스킨"
   ]
  },
  {
   "cell_type": "code",
   "execution_count": 25,
   "metadata": {},
   "outputs": [],
   "source": [
    "오엠.소분류명 = 오엠.소분류명.replace('cleansing', '화장 비누')\n",
    "for i in 오엠[오엠.소분류명=='화장 비누'].index:\n",
    "    if '클린징 밀크' in 오엠.상품명[i]:\n",
    "        오엠.소분류명[i] = '클렌징 로션,클렌징 크림'\n",
    "오엠.소분류명 = 오엠.소분류명.replace('toner', '기초 화장용 스킨')"
   ]
  },
  {
   "cell_type": "markdown",
   "metadata": {},
   "source": [
    "face-oils-serums : 기초 화장용 오일/앰플\n",
    "\n",
    "    기초 화장용 에센스 - 럭스 에센스, 럭스 앰플 & 에센스, 세럼\n",
    "\n",
    "creams : 기능성 영양보습 화장품"
   ]
  },
  {
   "cell_type": "code",
   "execution_count": 26,
   "metadata": {},
   "outputs": [],
   "source": [
    "오엠.소분류명 = 오엠.소분류명.replace('face-oils-serums', '기초 화장용 오일/앰플')\n",
    "for i in 오엠[오엠.소분류명=='기초 화장용 오일/앰플'].index:\n",
    "    if '럭스 에센스' in 오엠.상품명[i]:\n",
    "        오엠.소분류명[i] = '기초 화장용 에센스'\n",
    "    elif '앰플 & 에센스' in 오엠.상품명[i]:\n",
    "        오엠.소분류명[i] = '기초 화장용 오일/앰플,기초 화장용 에센스'\n",
    "    elif '세럼' in 오엠.상품명[i]:\n",
    "        오엠.소분류명[i] = '기초 화장용 에센스'\n",
    "오엠.소분류명 = 오엠.소분류명.replace('creams', '기능성 영양보습 화장품')"
   ]
  },
  {
   "cell_type": "markdown",
   "metadata": {},
   "source": [
    "special-care : 기능성 모공관리 화장품\n",
    "\n",
    "    기능성 아이케어 화장품 - 아이크림\n",
    "\n",
    "lotions : 핸드크림\n",
    "\n",
    "    바디 보습제 - 히드로플루이드 로션\n",
    "\n",
    "body-oils : 바디 보습제"
   ]
  },
  {
   "cell_type": "code",
   "execution_count": 27,
   "metadata": {},
   "outputs": [],
   "source": [
    "오엠.소분류명 = 오엠.소분류명.replace('special-care', '기능성 모공관리 화장품')\n",
    "for i in 오엠[오엠.소분류명=='기능성 모공관리 화장품'].index:\n",
    "    if '아이크림' in 오엠.상품명[i]:\n",
    "        오엠.소분류명[i] = '기능성 아이케어 화장품'\n",
    "        \n",
    "오엠.소분류명 = 오엠.소분류명.replace('lotions', '핸드크림')\n",
    "for i in 오엠[오엠.소분류명=='핸드크림'].index:\n",
    "    if '히드로플루이드 로션' in 오엠.상품명[i]:\n",
    "        오엠.소분류명[i] = '바디 보습제'\n",
    "\n",
    "오엠.소분류명 = 오엠.소분류명.replace('body-oils', '바디 보습제')        "
   ]
  },
  {
   "cell_type": "markdown",
   "metadata": {},
   "source": [
    "cleansers : 바디 클렌져\n",
    "\n",
    "    샴푸 : 트리 라벤더 샴푸\n",
    "\n",
    "bath-preparation : 입욕제\n",
    "\n",
    "(삭제) aroma"
   ]
  },
  {
   "cell_type": "code",
   "execution_count": 28,
   "metadata": {},
   "outputs": [],
   "source": [
    "오엠.소분류명 = 오엠.소분류명.replace('cleansers', '바디 클렌져')\n",
    "for i in 오엠[오엠.소분류명=='바디 클렌져'].index:\n",
    "    if '샴푸' in 오엠.상품명[i]:\n",
    "        오엠.소분류명[i] = '샴푸'\n",
    "오엠.소분류명 = 오엠.소분류명.replace('bath-preparation', '입욕제')\n",
    "오엠.drop(오엠[오엠.소분류명=='aroma'].index, axis=0, inplace=True)"
   ]
  },
  {
   "cell_type": "code",
   "execution_count": 29,
   "metadata": {},
   "outputs": [
    {
     "data": {
      "text/html": [
       "<div>\n",
       "<style scoped>\n",
       "    .dataframe tbody tr th:only-of-type {\n",
       "        vertical-align: middle;\n",
       "    }\n",
       "\n",
       "    .dataframe tbody tr th {\n",
       "        vertical-align: top;\n",
       "    }\n",
       "\n",
       "    .dataframe thead th {\n",
       "        text-align: right;\n",
       "    }\n",
       "</style>\n",
       "<table border=\"1\" class=\"dataframe\">\n",
       "  <thead>\n",
       "    <tr style=\"text-align: right;\">\n",
       "      <th></th>\n",
       "      <th>브랜드명</th>\n",
       "      <th>소분류명</th>\n",
       "      <th>상품명</th>\n",
       "      <th>정가</th>\n",
       "      <th>할인가</th>\n",
       "    </tr>\n",
       "  </thead>\n",
       "  <tbody>\n",
       "  </tbody>\n",
       "</table>\n",
       "</div>"
      ],
      "text/plain": [
       "Empty DataFrame\n",
       "Columns: [브랜드명, 소분류명, 상품명, 정가, 할인가]\n",
       "Index: []"
      ]
     },
     "execution_count": 29,
     "metadata": {},
     "output_type": "execute_result"
    }
   ],
   "source": [
    "오엠[오엠.상품명.duplicated()]"
   ]
  },
  {
   "cell_type": "code",
   "execution_count": 30,
   "metadata": {},
   "outputs": [
    {
     "name": "stdout",
     "output_type": "stream",
     "text": [
      "(34, 5)\n"
     ]
    },
    {
     "data": {
      "text/html": [
       "<div>\n",
       "<style scoped>\n",
       "    .dataframe tbody tr th:only-of-type {\n",
       "        vertical-align: middle;\n",
       "    }\n",
       "\n",
       "    .dataframe tbody tr th {\n",
       "        vertical-align: top;\n",
       "    }\n",
       "\n",
       "    .dataframe thead th {\n",
       "        text-align: right;\n",
       "    }\n",
       "</style>\n",
       "<table border=\"1\" class=\"dataframe\">\n",
       "  <thead>\n",
       "    <tr style=\"text-align: right;\">\n",
       "      <th></th>\n",
       "      <th>브랜드명</th>\n",
       "      <th>소분류명</th>\n",
       "      <th>상품명</th>\n",
       "      <th>정가</th>\n",
       "      <th>할인가</th>\n",
       "    </tr>\n",
       "  </thead>\n",
       "  <tbody>\n",
       "    <tr>\n",
       "      <th>0</th>\n",
       "      <td>오엠</td>\n",
       "      <td>클렌징 로션,클렌징 크림</td>\n",
       "      <td>[이효리클렌징]세이지 마사지 클린징 밀크 250ml</td>\n",
       "      <td>80,000원</td>\n",
       "      <td></td>\n",
       "    </tr>\n",
       "    <tr>\n",
       "      <th>1</th>\n",
       "      <td>오엠</td>\n",
       "      <td>화장 비누</td>\n",
       "      <td>트루 라벤더 솝 80g</td>\n",
       "      <td>25,000원</td>\n",
       "      <td></td>\n",
       "    </tr>\n",
       "    <tr>\n",
       "      <th>2</th>\n",
       "      <td>오엠</td>\n",
       "      <td>화장 비누</td>\n",
       "      <td>로즈 솝 80g</td>\n",
       "      <td>25,000원</td>\n",
       "      <td></td>\n",
       "    </tr>\n",
       "    <tr>\n",
       "      <th>3</th>\n",
       "      <td>오엠</td>\n",
       "      <td>화장 비누</td>\n",
       "      <td>캐모마일 솝 80g</td>\n",
       "      <td>25,000원</td>\n",
       "      <td></td>\n",
       "    </tr>\n",
       "    <tr>\n",
       "      <th>4</th>\n",
       "      <td>오엠</td>\n",
       "      <td>기초 화장용 스킨</td>\n",
       "      <td>부처브룸 토너 아스트린젠트 200ml</td>\n",
       "      <td>60,000원</td>\n",
       "      <td></td>\n",
       "    </tr>\n",
       "  </tbody>\n",
       "</table>\n",
       "</div>"
      ],
      "text/plain": [
       "  브랜드명           소분류명                           상품명       정가 할인가\n",
       "0   오엠  클렌징 로션,클렌징 크림  [이효리클렌징]세이지 마사지 클린징 밀크 250ml  80,000원    \n",
       "1   오엠          화장 비누                  트루 라벤더 솝 80g  25,000원    \n",
       "2   오엠          화장 비누                      로즈 솝 80g  25,000원    \n",
       "3   오엠          화장 비누                    캐모마일 솝 80g  25,000원    \n",
       "4   오엠      기초 화장용 스킨          부처브룸 토너 아스트린젠트 200ml  60,000원    "
      ]
     },
     "execution_count": 30,
     "metadata": {},
     "output_type": "execute_result"
    }
   ],
   "source": [
    "print(오엠.shape)\n",
    "오엠.head()"
   ]
  },
  {
   "cell_type": "code",
   "execution_count": 31,
   "metadata": {},
   "outputs": [
    {
     "data": {
      "text/plain": [
       "array(['클렌징 로션,클렌징 크림', '화장 비누', '기초 화장용 스킨', '기초 화장용 오일/앰플',\n",
       "       '기초 화장용 에센스', '기초 화장용 오일/앰플,기초 화장용 에센스', '기능성 영양보습 화장품',\n",
       "       '기능성 아이케어 화장품', '기능성 모공관리 화장품', '핸드크림', '바디 보습제', '바디 클렌져', '샴푸',\n",
       "       '입욕제'], dtype=object)"
      ]
     },
     "execution_count": 31,
     "metadata": {},
     "output_type": "execute_result"
    }
   ],
   "source": [
    "오엠.소분류명.unique()"
   ]
  },
  {
   "cell_type": "markdown",
   "metadata": {},
   "source": [
    "## 1.5 이든미네랄"
   ]
  },
  {
   "cell_type": "code",
   "execution_count": 32,
   "metadata": {},
   "outputs": [
    {
     "data": {
      "text/plain": [
       "array(['프라이머', '파운데이션', '블러셔', '컨투어링', '파우더', '마스카라', '아이섀도우', '페이스',\n",
       "       '아이', 'cleansing'], dtype=object)"
      ]
     },
     "execution_count": 32,
     "metadata": {},
     "output_type": "execute_result"
    }
   ],
   "source": [
    "이든미네랄.소분류명.unique()"
   ]
  },
  {
   "cell_type": "markdown",
   "metadata": {},
   "source": [
    "프라이머 : 베이스 메이크업용 프라이머\n",
    "\n",
    "파운데이션 : 베이스 메이크업용 파운데이션\n",
    "\n",
    "블러셔 : 색조 메이크업 볼터치\n",
    "\n",
    "컨투어링 : 색조 메이크업 쉐딩/하이라이터\n",
    "\n",
    "파우더 : 베이스 메이크업용 가루파우더\n",
    "\n",
    "마스카라 : 색조 메이크업 마스카라\n",
    "\n",
    "아이섀도우 : 색조 메이크업 아이섀도우\n",
    "\n",
    "페이스 : 메이크업 브러쉬\n",
    "\n",
    "아이 : 메이크업 브러쉬\n",
    "\n",
    "cleansing : 클렌징 로션"
   ]
  },
  {
   "cell_type": "code",
   "execution_count": 33,
   "metadata": {},
   "outputs": [],
   "source": [
    "이든미네랄.소분류명 = 이든미네랄.소분류명.replace('프라이머', '베이스 메이크업용 프라이머')\n",
    "이든미네랄.소분류명 = 이든미네랄.소분류명.replace('파운데이션', '베이스 메이크업용 파운데이션')\n",
    "이든미네랄.소분류명 = 이든미네랄.소분류명.replace('블러셔', '색조 메이크업 볼터치')\n",
    "이든미네랄.소분류명 = 이든미네랄.소분류명.replace('컨투어링', '색조 메이크업 쉐딩/하이라이터')\n",
    "이든미네랄.소분류명 = 이든미네랄.소분류명.replace('파우더', '베이스 메이크업용 가루파우더')\n",
    "이든미네랄.소분류명 = 이든미네랄.소분류명.replace('마스카라', '색조 메이크업 마스카라')\n",
    "이든미네랄.소분류명 = 이든미네랄.소분류명.replace('아이섀도우', '색조 메이크업 아이섀도우')\n",
    "이든미네랄.소분류명 = 이든미네랄.소분류명.replace('페이스', '메이크업 브러쉬')\n",
    "이든미네랄.소분류명 = 이든미네랄.소분류명.replace('아이', '메이크업 브러쉬')\n",
    "이든미네랄.소분류명 = 이든미네랄.소분류명.replace('cleansing', '클렌징 로션')"
   ]
  },
  {
   "cell_type": "code",
   "execution_count": 34,
   "metadata": {},
   "outputs": [
    {
     "data": {
      "text/html": [
       "<div>\n",
       "<style scoped>\n",
       "    .dataframe tbody tr th:only-of-type {\n",
       "        vertical-align: middle;\n",
       "    }\n",
       "\n",
       "    .dataframe tbody tr th {\n",
       "        vertical-align: top;\n",
       "    }\n",
       "\n",
       "    .dataframe thead th {\n",
       "        text-align: right;\n",
       "    }\n",
       "</style>\n",
       "<table border=\"1\" class=\"dataframe\">\n",
       "  <thead>\n",
       "    <tr style=\"text-align: right;\">\n",
       "      <th></th>\n",
       "      <th>브랜드명</th>\n",
       "      <th>소분류명</th>\n",
       "      <th>상품명</th>\n",
       "      <th>정가</th>\n",
       "      <th>할인가</th>\n",
       "    </tr>\n",
       "  </thead>\n",
       "  <tbody>\n",
       "  </tbody>\n",
       "</table>\n",
       "</div>"
      ],
      "text/plain": [
       "Empty DataFrame\n",
       "Columns: [브랜드명, 소분류명, 상품명, 정가, 할인가]\n",
       "Index: []"
      ]
     },
     "execution_count": 34,
     "metadata": {},
     "output_type": "execute_result"
    }
   ],
   "source": [
    "이든미네랄[이든미네랄.상품명.duplicated()]"
   ]
  },
  {
   "cell_type": "code",
   "execution_count": 35,
   "metadata": {},
   "outputs": [
    {
     "name": "stdout",
     "output_type": "stream",
     "text": [
      "(26, 5)\n"
     ]
    },
    {
     "data": {
      "text/html": [
       "<div>\n",
       "<style scoped>\n",
       "    .dataframe tbody tr th:only-of-type {\n",
       "        vertical-align: middle;\n",
       "    }\n",
       "\n",
       "    .dataframe tbody tr th {\n",
       "        vertical-align: top;\n",
       "    }\n",
       "\n",
       "    .dataframe thead th {\n",
       "        text-align: right;\n",
       "    }\n",
       "</style>\n",
       "<table border=\"1\" class=\"dataframe\">\n",
       "  <thead>\n",
       "    <tr style=\"text-align: right;\">\n",
       "      <th></th>\n",
       "      <th>브랜드명</th>\n",
       "      <th>소분류명</th>\n",
       "      <th>상품명</th>\n",
       "      <th>정가</th>\n",
       "      <th>할인가</th>\n",
       "    </tr>\n",
       "  </thead>\n",
       "  <tbody>\n",
       "    <tr>\n",
       "      <th>0</th>\n",
       "      <td>이든 미네랄</td>\n",
       "      <td>베이스 메이크업용 프라이머</td>\n",
       "      <td>아이리스 페이스 프라이머</td>\n",
       "      <td>42,000원</td>\n",
       "      <td></td>\n",
       "    </tr>\n",
       "    <tr>\n",
       "      <th>1</th>\n",
       "      <td>이든 미네랄</td>\n",
       "      <td>베이스 메이크업용 파운데이션</td>\n",
       "      <td>롱웨어 리퀴드 파운데이션 노르딕 베일</td>\n",
       "      <td>48,000원</td>\n",
       "      <td></td>\n",
       "    </tr>\n",
       "    <tr>\n",
       "      <th>2</th>\n",
       "      <td>이든 미네랄</td>\n",
       "      <td>베이스 메이크업용 파운데이션</td>\n",
       "      <td>모이스처 리퀴드 파운데이션 노르스켄</td>\n",
       "      <td>48,000원</td>\n",
       "      <td></td>\n",
       "    </tr>\n",
       "    <tr>\n",
       "      <th>3</th>\n",
       "      <td>이든 미네랄</td>\n",
       "      <td>베이스 메이크업용 파운데이션</td>\n",
       "      <td>파우더 파운데이션</td>\n",
       "      <td>48,000원</td>\n",
       "      <td></td>\n",
       "    </tr>\n",
       "    <tr>\n",
       "      <th>4</th>\n",
       "      <td>이든 미네랄</td>\n",
       "      <td>색조 메이크업 볼터치</td>\n",
       "      <td>미네랄 블러셔 &amp; 브러쉬 세트</td>\n",
       "      <td>66,000원</td>\n",
       "      <td>52,800원</td>\n",
       "    </tr>\n",
       "  </tbody>\n",
       "</table>\n",
       "</div>"
      ],
      "text/plain": [
       "     브랜드명             소분류명                   상품명       정가      할인가\n",
       "0  이든 미네랄   베이스 메이크업용 프라이머         아이리스 페이스 프라이머  42,000원         \n",
       "1  이든 미네랄  베이스 메이크업용 파운데이션  롱웨어 리퀴드 파운데이션 노르딕 베일  48,000원         \n",
       "2  이든 미네랄  베이스 메이크업용 파운데이션   모이스처 리퀴드 파운데이션 노르스켄  48,000원         \n",
       "3  이든 미네랄  베이스 메이크업용 파운데이션             파우더 파운데이션  48,000원         \n",
       "4  이든 미네랄      색조 메이크업 볼터치      미네랄 블러셔 & 브러쉬 세트  66,000원  52,800원"
      ]
     },
     "execution_count": 35,
     "metadata": {},
     "output_type": "execute_result"
    }
   ],
   "source": [
    "print(이든미네랄.shape)\n",
    "이든미네랄.head()"
   ]
  },
  {
   "cell_type": "code",
   "execution_count": 36,
   "metadata": {},
   "outputs": [
    {
     "data": {
      "text/plain": [
       "array(['베이스 메이크업용 프라이머', '베이스 메이크업용 파운데이션', '색조 메이크업 볼터치',\n",
       "       '색조 메이크업 쉐딩/하이라이터', '베이스 메이크업용 가루파우더', '색조 메이크업 마스카라',\n",
       "       '색조 메이크업 아이섀도우', '메이크업 브러쉬', '클렌징 로션'], dtype=object)"
      ]
     },
     "execution_count": 36,
     "metadata": {},
     "output_type": "execute_result"
    }
   ],
   "source": [
    "이든미네랄.소분류명.unique()"
   ]
  },
  {
   "cell_type": "markdown",
   "metadata": {},
   "source": [
    "## 1.6 클레어스"
   ]
  },
  {
   "cell_type": "code",
   "execution_count": 37,
   "metadata": {},
   "outputs": [
    {
     "data": {
      "text/plain": [
       "array(['클렌징', '토너/미스트', '세럼/에센스', '로션/크림', '마스크/팩'], dtype=object)"
      ]
     },
     "execution_count": 37,
     "metadata": {},
     "output_type": "execute_result"
    }
   ],
   "source": [
    "클레어스.소분류명.unique()"
   ]
  },
  {
   "cell_type": "markdown",
   "metadata": {},
   "source": [
    "클렌징\n",
    "\n",
    "    클렌징 폼 - 클렌저, 클렌징의 정석 set\n",
    "    클렌징 오일 - 클렌징 오일, GENTLE BLACK\n",
    "    바디케어용 때비누 - 바디 솝\n",
    "    스킨케어 마스크팩 - 슈거 마스크\n",
    "    스크럽/필링크림 - 슈거 페이셜 폴리쉬, GENTLE BLACK\n",
    "    화장 비누 - 페이셜 솝, 차콜 솝\n",
    "\n",
    "토너/미스트 : 기초 화장용 스킨\n",
    "\n",
    "    기초 화장용 미스트 - 앰플 미스트"
   ]
  },
  {
   "cell_type": "code",
   "execution_count": 38,
   "metadata": {},
   "outputs": [],
   "source": [
    "클레어스.소분류명 = 클레어스.소분류명.replace('클렌징', '클렌징 폼')\n",
    "for i in 클레어스[클레어스.소분류명=='클렌징 폼'].index:\n",
    "    if '클렌징 오일' in 클레어스.상품명[i]:\n",
    "        클레어스.소분류명[i] = '클렌징 오일'\n",
    "    elif 'GENTLE BLACK' in 클레어스.상품명[i]:\n",
    "        클레어스.소분류명[i] = '클렌징 오일,스크럽/필링크림'\n",
    "    \n",
    "    elif '바디 솝' in 클레어스.상품명[i]:\n",
    "        클레어스.소분류명[i] = '바디케어용 때비누'\n",
    "        \n",
    "    elif '슈거 마스크' in 클레어스.상품명[i]:\n",
    "        클레어스.소분류명[i] = '스킨케어 마스크팩'\n",
    "        \n",
    "    elif '페이셜 폴리쉬' in 클레어스.상품명[i]:\n",
    "        클레어스.소분류명[i] = '스크럽/필링크림'\n",
    "    \n",
    "    elif '페이셜 솝' in 클레어스.상품명[i]:\n",
    "        클레어스.소분류명[i] = '화장 비누'\n",
    "    elif '차콜 솝' in 클레어스.상품명[i]:\n",
    "        클레어스.소분류명[i] = '화장 비누'\n",
    "클레어스.소분류명 = 클레어스.소분류명.replace('토너/미스트', '기초 화장용 스킨')\n",
    "for i in 클레어스[클레어스.소분류명=='기초 화장용 스킨'].index:\n",
    "    if '미스트' in 클레어스.상품명[i]:\n",
    "        클레어스.소분류명[i] = '기초 화장용 미스트'"
   ]
  },
  {
   "cell_type": "markdown",
   "metadata": {},
   "source": [
    "세럼/에센스 : 기초 화장용 에센스\n",
    "\n",
    "로션/크림 : 기초 화장용 크림\n",
    "\n",
    "    기초 화장용 로션 - 올오버로션\n",
    "    기능성 아이케어 화장품 - 아이 버터\n",
    "\n",
    "마스크/팩 : 스킨케어 시트마스크팩\n",
    "\n",
    "    스킨케어 마스크팩 - 비타민E 마스크"
   ]
  },
  {
   "cell_type": "code",
   "execution_count": 39,
   "metadata": {},
   "outputs": [],
   "source": [
    "클레어스.소분류명 = 클레어스.소분류명.replace('세럼/에센스', '기초 화장용 에센스')\n",
    "클레어스.소분류명 = 클레어스.소분류명.replace('로션/크림', '기초 화장용 크림')\n",
    "for i in 클레어스[클레어스.소분류명=='기초 화장용 크림'].index:\n",
    "    if '올오버로션' in 클레어스.상품명[i]:\n",
    "        클레어스.소분류명[i] = '기초 화장용 로션'\n",
    "    elif '아이 버터' in 클레어스.상품명[i]:\n",
    "        클레어스.소분류명[i] = '기능성 아이케어 화장품'\n",
    "\n",
    "클레어스.소분류명 = 클레어스.소분류명.replace('마스크/팩', '스킨케어 시트마스크팩')\n",
    "for i in 클레어스[클레어스.소분류명=='스킨케어 시트마스크팩'].index:\n",
    "    if '비타민E 마스크' in 클레어스.상품명[i]:\n",
    "        클레어스.소분류명[i] = '스킨케어 마스크팩'"
   ]
  },
  {
   "cell_type": "code",
   "execution_count": 40,
   "metadata": {},
   "outputs": [
    {
     "data": {
      "text/html": [
       "<div>\n",
       "<style scoped>\n",
       "    .dataframe tbody tr th:only-of-type {\n",
       "        vertical-align: middle;\n",
       "    }\n",
       "\n",
       "    .dataframe tbody tr th {\n",
       "        vertical-align: top;\n",
       "    }\n",
       "\n",
       "    .dataframe thead th {\n",
       "        text-align: right;\n",
       "    }\n",
       "</style>\n",
       "<table border=\"1\" class=\"dataframe\">\n",
       "  <thead>\n",
       "    <tr style=\"text-align: right;\">\n",
       "      <th></th>\n",
       "      <th>브랜드명</th>\n",
       "      <th>소분류명</th>\n",
       "      <th>상품명</th>\n",
       "      <th>정가</th>\n",
       "      <th>할인가</th>\n",
       "    </tr>\n",
       "  </thead>\n",
       "  <tbody>\n",
       "  </tbody>\n",
       "</table>\n",
       "</div>"
      ],
      "text/plain": [
       "Empty DataFrame\n",
       "Columns: [브랜드명, 소분류명, 상품명, 정가, 할인가]\n",
       "Index: []"
      ]
     },
     "execution_count": 40,
     "metadata": {},
     "output_type": "execute_result"
    }
   ],
   "source": [
    "클레어스[클레어스.상품명.duplicated()]"
   ]
  },
  {
   "cell_type": "code",
   "execution_count": 41,
   "metadata": {},
   "outputs": [
    {
     "name": "stdout",
     "output_type": "stream",
     "text": [
      "(36, 5)\n"
     ]
    },
    {
     "data": {
      "text/html": [
       "<div>\n",
       "<style scoped>\n",
       "    .dataframe tbody tr th:only-of-type {\n",
       "        vertical-align: middle;\n",
       "    }\n",
       "\n",
       "    .dataframe tbody tr th {\n",
       "        vertical-align: top;\n",
       "    }\n",
       "\n",
       "    .dataframe thead th {\n",
       "        text-align: right;\n",
       "    }\n",
       "</style>\n",
       "<table border=\"1\" class=\"dataframe\">\n",
       "  <thead>\n",
       "    <tr style=\"text-align: right;\">\n",
       "      <th></th>\n",
       "      <th>브랜드명</th>\n",
       "      <th>소분류명</th>\n",
       "      <th>상품명</th>\n",
       "      <th>정가</th>\n",
       "      <th>할인가</th>\n",
       "    </tr>\n",
       "  </thead>\n",
       "  <tbody>\n",
       "    <tr>\n",
       "      <th>0</th>\n",
       "      <td>클레어스</td>\n",
       "      <td>클렌징 폼</td>\n",
       "      <td>리치 모이스트 포밍 클렌저</td>\n",
       "      <td>12,500원</td>\n",
       "      <td></td>\n",
       "    </tr>\n",
       "    <tr>\n",
       "      <th>1</th>\n",
       "      <td>클레어스</td>\n",
       "      <td>클렌징 오일</td>\n",
       "      <td>젠틀 블랙 프레쉬 클렌징 오일</td>\n",
       "      <td>16,900원</td>\n",
       "      <td></td>\n",
       "    </tr>\n",
       "    <tr>\n",
       "      <th>2</th>\n",
       "      <td>클레어스</td>\n",
       "      <td>클렌징 오일</td>\n",
       "      <td>젠틀 블랙 딥 클렌징 오일</td>\n",
       "      <td>14,900원</td>\n",
       "      <td></td>\n",
       "    </tr>\n",
       "    <tr>\n",
       "      <th>3</th>\n",
       "      <td>클레어스</td>\n",
       "      <td>클렌징 오일,스크럽/필링크림</td>\n",
       "      <td>GENTLE BLACK duo</td>\n",
       "      <td>25,400원</td>\n",
       "      <td>22,800원</td>\n",
       "    </tr>\n",
       "    <tr>\n",
       "      <th>4</th>\n",
       "      <td>클레어스</td>\n",
       "      <td>클렌징 오일,스크럽/필링크림</td>\n",
       "      <td>GENTLE BLACK BOX</td>\n",
       "      <td>43,900원</td>\n",
       "      <td>39,500원</td>\n",
       "    </tr>\n",
       "  </tbody>\n",
       "</table>\n",
       "</div>"
      ],
      "text/plain": [
       "   브랜드명             소분류명               상품명       정가      할인가\n",
       "0  클레어스            클렌징 폼    리치 모이스트 포밍 클렌저  12,500원         \n",
       "1  클레어스           클렌징 오일  젠틀 블랙 프레쉬 클렌징 오일  16,900원         \n",
       "2  클레어스           클렌징 오일    젠틀 블랙 딥 클렌징 오일  14,900원         \n",
       "3  클레어스  클렌징 오일,스크럽/필링크림  GENTLE BLACK duo  25,400원  22,800원\n",
       "4  클레어스  클렌징 오일,스크럽/필링크림  GENTLE BLACK BOX  43,900원  39,500원"
      ]
     },
     "execution_count": 41,
     "metadata": {},
     "output_type": "execute_result"
    }
   ],
   "source": [
    "print(클레어스.shape)\n",
    "클레어스.head()"
   ]
  },
  {
   "cell_type": "code",
   "execution_count": 42,
   "metadata": {},
   "outputs": [
    {
     "data": {
      "text/plain": [
       "array(['클렌징 폼', '클렌징 오일', '클렌징 오일,스크럽/필링크림', '스크럽/필링크림', '스킨케어 마스크팩',\n",
       "       '바디케어용 때비누', '화장 비누', '기초 화장용 스킨', '기초 화장용 미스트', '기초 화장용 에센스',\n",
       "       '기초 화장용 크림', '기능성 아이케어 화장품', '기초 화장용 로션', '스킨케어 시트마스크팩'],\n",
       "      dtype=object)"
      ]
     },
     "execution_count": 42,
     "metadata": {},
     "output_type": "execute_result"
    }
   ],
   "source": [
    "클레어스.소분류명.unique()"
   ]
  },
  {
   "cell_type": "markdown",
   "metadata": {},
   "source": [
    "## 1.7 기타"
   ]
  },
  {
   "cell_type": "code",
   "execution_count": 43,
   "metadata": {},
   "outputs": [
    {
     "data": {
      "text/plain": [
       "array(['선크림', '스킨케어 시트마스크팩', '클렌징 폼', '기초 화장용 크림', ' ', '기초 화장용 스킨',\n",
       "       '색조 메이크업 립밤', '스크럽/필링크림', '화장 비누', '클렌징 워터/젤', '기초 화장용 에센스',\n",
       "       '스킨케어 마스크팩', '기초 화장용 오일/앰플', '기능성 아이케어 화장품', '샴푸', '색조 메이크업 아이라이너',\n",
       "       '베이스 메이크업용 가루파우더', '기초 화장용 로션', '기능성 화장품 세트', '베이스 메이크업용 BB크림',\n",
       "       '스킨케어 곡물팩', '색조 메이크업 속눈썹영양제', '바디케어용 때비누', '스킨케어 워시오프팩', '클렌징 오일',\n",
       "       '클렌징 크림', '기능성 영양보습 화장품', '색조 메이크업 립틴트', '색조 메이크업 아이브로우',\n",
       "       '색조 메이크업 볼터치', '색조 메이크업 아이섀도우'], dtype=object)"
      ]
     },
     "execution_count": 43,
     "metadata": {},
     "output_type": "execute_result"
    }
   ],
   "source": [
    "기타.소분류명.unique()"
   ]
  },
  {
   "cell_type": "code",
   "execution_count": 44,
   "metadata": {},
   "outputs": [
    {
     "data": {
      "text/html": [
       "<div>\n",
       "<style scoped>\n",
       "    .dataframe tbody tr th:only-of-type {\n",
       "        vertical-align: middle;\n",
       "    }\n",
       "\n",
       "    .dataframe tbody tr th {\n",
       "        vertical-align: top;\n",
       "    }\n",
       "\n",
       "    .dataframe thead th {\n",
       "        text-align: right;\n",
       "    }\n",
       "</style>\n",
       "<table border=\"1\" class=\"dataframe\">\n",
       "  <thead>\n",
       "    <tr style=\"text-align: right;\">\n",
       "      <th></th>\n",
       "      <th>브랜드명</th>\n",
       "      <th>소분류명</th>\n",
       "      <th>상품명</th>\n",
       "      <th>정가</th>\n",
       "      <th>할인가</th>\n",
       "    </tr>\n",
       "  </thead>\n",
       "  <tbody>\n",
       "    <tr>\n",
       "      <th>4</th>\n",
       "      <td>마녀공장</td>\n",
       "      <td></td>\n",
       "      <td>아워 비건 어성초 98 시카 세럼</td>\n",
       "      <td>20,000원</td>\n",
       "      <td></td>\n",
       "    </tr>\n",
       "    <tr>\n",
       "      <th>22</th>\n",
       "      <td>비브</td>\n",
       "      <td></td>\n",
       "      <td>차가 리바이탈라이징 세럼</td>\n",
       "      <td>40,000원</td>\n",
       "      <td>24,000원</td>\n",
       "    </tr>\n",
       "    <tr>\n",
       "      <th>31</th>\n",
       "      <td>닥터노아</td>\n",
       "      <td></td>\n",
       "      <td>네추럴에프 치약</td>\n",
       "      <td>12,800원</td>\n",
       "      <td>6,400원</td>\n",
       "    </tr>\n",
       "    <tr>\n",
       "      <th>57</th>\n",
       "      <td>오드리앤영</td>\n",
       "      <td></td>\n",
       "      <td>아이 라이크 레드 스위트원 세럼 30ml</td>\n",
       "      <td>32,000원</td>\n",
       "      <td></td>\n",
       "    </tr>\n",
       "    <tr>\n",
       "      <th>58</th>\n",
       "      <td>오드리앤영</td>\n",
       "      <td></td>\n",
       "      <td>아이 라이크 블루밍 에너지 세럼 30ml</td>\n",
       "      <td>32,000원</td>\n",
       "      <td></td>\n",
       "    </tr>\n",
       "    <tr>\n",
       "      <th>60</th>\n",
       "      <td>오드리앤영</td>\n",
       "      <td></td>\n",
       "      <td>아이 라이크 시카 바이옴 세럼 30ml</td>\n",
       "      <td>32,000원</td>\n",
       "      <td></td>\n",
       "    </tr>\n",
       "    <tr>\n",
       "      <th>70</th>\n",
       "      <td>쏘내추럴</td>\n",
       "      <td></td>\n",
       "      <td>비건 메이크업 캄 픽서 100ml</td>\n",
       "      <td>22,000원</td>\n",
       "      <td>15,400원</td>\n",
       "    </tr>\n",
       "  </tbody>\n",
       "</table>\n",
       "</div>"
      ],
      "text/plain": [
       "     브랜드명 소분류명                     상품명       정가      할인가\n",
       "4    마녀공장           아워 비건 어성초 98 시카 세럼  20,000원         \n",
       "22     비브                차가 리바이탈라이징 세럼  40,000원  24,000원\n",
       "31   닥터노아                     네추럴에프 치약  12,800원   6,400원\n",
       "57  오드리앤영       아이 라이크 레드 스위트원 세럼 30ml  32,000원         \n",
       "58  오드리앤영       아이 라이크 블루밍 에너지 세럼 30ml  32,000원         \n",
       "60  오드리앤영        아이 라이크 시카 바이옴 세럼 30ml  32,000원         \n",
       "70   쏘내추럴           비건 메이크업 캄 픽서 100ml  22,000원  15,400원"
      ]
     },
     "execution_count": 44,
     "metadata": {},
     "output_type": "execute_result"
    }
   ],
   "source": [
    "기타[기타.소분류명==' ']"
   ]
  },
  {
   "cell_type": "code",
   "execution_count": 45,
   "metadata": {},
   "outputs": [
    {
     "name": "stdout",
     "output_type": "stream",
     "text": [
      "(70, 5)\n"
     ]
    },
    {
     "data": {
      "text/html": [
       "<div>\n",
       "<style scoped>\n",
       "    .dataframe tbody tr th:only-of-type {\n",
       "        vertical-align: middle;\n",
       "    }\n",
       "\n",
       "    .dataframe tbody tr th {\n",
       "        vertical-align: top;\n",
       "    }\n",
       "\n",
       "    .dataframe thead th {\n",
       "        text-align: right;\n",
       "    }\n",
       "</style>\n",
       "<table border=\"1\" class=\"dataframe\">\n",
       "  <thead>\n",
       "    <tr style=\"text-align: right;\">\n",
       "      <th></th>\n",
       "      <th>브랜드명</th>\n",
       "      <th>소분류명</th>\n",
       "      <th>상품명</th>\n",
       "      <th>정가</th>\n",
       "      <th>할인가</th>\n",
       "    </tr>\n",
       "  </thead>\n",
       "  <tbody>\n",
       "    <tr>\n",
       "      <th>0</th>\n",
       "      <td>마녀공장</td>\n",
       "      <td>선크림</td>\n",
       "      <td>아워 비건 선크림 시카</td>\n",
       "      <td>26,000원</td>\n",
       "      <td></td>\n",
       "    </tr>\n",
       "    <tr>\n",
       "      <th>1</th>\n",
       "      <td>마녀공장</td>\n",
       "      <td>스킨케어 시트마스크팩</td>\n",
       "      <td>아워 비건 어성초 시카 마스크</td>\n",
       "      <td>3,000원</td>\n",
       "      <td></td>\n",
       "    </tr>\n",
       "    <tr>\n",
       "      <th>2</th>\n",
       "      <td>마녀공장</td>\n",
       "      <td>클렌징 폼</td>\n",
       "      <td>아워 비건 어성초 시카 클렌징 폼</td>\n",
       "      <td>14,000원</td>\n",
       "      <td></td>\n",
       "    </tr>\n",
       "    <tr>\n",
       "      <th>3</th>\n",
       "      <td>마녀공장</td>\n",
       "      <td>기초 화장용 크림</td>\n",
       "      <td>아워 비건 어성초 시카 크림</td>\n",
       "      <td>28,000원</td>\n",
       "      <td></td>\n",
       "    </tr>\n",
       "    <tr>\n",
       "      <th>4</th>\n",
       "      <td>마녀공장</td>\n",
       "      <td>기초 화장용 에센스</td>\n",
       "      <td>아워 비건 어성초 98 시카 세럼</td>\n",
       "      <td>20,000원</td>\n",
       "      <td></td>\n",
       "    </tr>\n",
       "  </tbody>\n",
       "</table>\n",
       "</div>"
      ],
      "text/plain": [
       "   브랜드명         소분류명                 상품명       정가 할인가\n",
       "0  마녀공장          선크림        아워 비건 선크림 시카  26,000원    \n",
       "1  마녀공장  스킨케어 시트마스크팩    아워 비건 어성초 시카 마스크   3,000원    \n",
       "2  마녀공장        클렌징 폼  아워 비건 어성초 시카 클렌징 폼  14,000원    \n",
       "3  마녀공장    기초 화장용 크림     아워 비건 어성초 시카 크림  28,000원    \n",
       "4  마녀공장   기초 화장용 에센스  아워 비건 어성초 98 시카 세럼  20,000원    "
      ]
     },
     "execution_count": 45,
     "metadata": {},
     "output_type": "execute_result"
    }
   ],
   "source": [
    "기타.소분류명 = 기타.소분류명.replace(' ', '기초 화장용 에센스')\n",
    "기타.drop([31,70], axis=0, inplace=True)\n",
    "print(기타.shape)\n",
    "기타.head()"
   ]
  },
  {
   "cell_type": "code",
   "execution_count": 46,
   "metadata": {},
   "outputs": [
    {
     "data": {
      "text/plain": [
       "array(['선크림', '스킨케어 시트마스크팩', '클렌징 폼', '기초 화장용 크림', '기초 화장용 에센스',\n",
       "       '기초 화장용 스킨', '색조 메이크업 립밤', '스크럽/필링크림', '화장 비누', '클렌징 워터/젤',\n",
       "       '스킨케어 마스크팩', '기초 화장용 오일/앰플', '기능성 아이케어 화장품', '샴푸', '색조 메이크업 아이라이너',\n",
       "       '베이스 메이크업용 가루파우더', '기초 화장용 로션', '기능성 화장품 세트', '베이스 메이크업용 BB크림',\n",
       "       '스킨케어 곡물팩', '색조 메이크업 속눈썹영양제', '바디케어용 때비누', '스킨케어 워시오프팩', '클렌징 오일',\n",
       "       '클렌징 크림', '기능성 영양보습 화장품', '색조 메이크업 립틴트', '색조 메이크업 아이브로우',\n",
       "       '색조 메이크업 볼터치', '색조 메이크업 아이섀도우'], dtype=object)"
      ]
     },
     "execution_count": 46,
     "metadata": {},
     "output_type": "execute_result"
    }
   ],
   "source": [
    "기타.소분류명.unique()"
   ]
  },
  {
   "cell_type": "markdown",
   "metadata": {},
   "source": [
    "# 2. 데이터 병합"
   ]
  },
  {
   "cell_type": "code",
   "execution_count": 47,
   "metadata": {},
   "outputs": [
    {
     "name": "stdout",
     "output_type": "stream",
     "text": [
      "(681, 5)\n"
     ]
    },
    {
     "data": {
      "text/html": [
       "<div>\n",
       "<style scoped>\n",
       "    .dataframe tbody tr th:only-of-type {\n",
       "        vertical-align: middle;\n",
       "    }\n",
       "\n",
       "    .dataframe tbody tr th {\n",
       "        vertical-align: top;\n",
       "    }\n",
       "\n",
       "    .dataframe thead th {\n",
       "        text-align: right;\n",
       "    }\n",
       "</style>\n",
       "<table border=\"1\" class=\"dataframe\">\n",
       "  <thead>\n",
       "    <tr style=\"text-align: right;\">\n",
       "      <th></th>\n",
       "      <th>브랜드명</th>\n",
       "      <th>소분류명</th>\n",
       "      <th>상품명</th>\n",
       "      <th>정가</th>\n",
       "      <th>할인가</th>\n",
       "    </tr>\n",
       "  </thead>\n",
       "  <tbody>\n",
       "    <tr>\n",
       "      <th>0</th>\n",
       "      <td>닥터브로너스</td>\n",
       "      <td>클렌징 폼,바디 클렌져</td>\n",
       "      <td>[공홈 기획세트] 닥터 브로너스 프리미엄 세트</td>\n",
       "      <td>34,400원</td>\n",
       "      <td></td>\n",
       "    </tr>\n",
       "    <tr>\n",
       "      <th>1</th>\n",
       "      <td>닥터브로너스</td>\n",
       "      <td>클렌징 폼,바디 클렌져</td>\n",
       "      <td>[청결생활]닥터 브로너스 슈가솝 360ml</td>\n",
       "      <td>20,000원</td>\n",
       "      <td></td>\n",
       "    </tr>\n",
       "    <tr>\n",
       "      <th>2</th>\n",
       "      <td>닥터브로너스</td>\n",
       "      <td>바디케어용 때비누,화장 비누</td>\n",
       "      <td>그린티 퓨어 캐스틸 바솝 140g</td>\n",
       "      <td>8,000원</td>\n",
       "      <td></td>\n",
       "    </tr>\n",
       "    <tr>\n",
       "      <th>3</th>\n",
       "      <td>닥터브로너스</td>\n",
       "      <td>클렌징 오일,바디 클렌져</td>\n",
       "      <td>그린티 퓨어 캐스틸 솝 240ml</td>\n",
       "      <td>12,500원</td>\n",
       "      <td></td>\n",
       "    </tr>\n",
       "    <tr>\n",
       "      <th>4</th>\n",
       "      <td>닥터브로너스</td>\n",
       "      <td>클렌징 오일,바디 클렌져</td>\n",
       "      <td>그린티 퓨어 캐스틸 솝 475ml</td>\n",
       "      <td>20,000원</td>\n",
       "      <td></td>\n",
       "    </tr>\n",
       "  </tbody>\n",
       "</table>\n",
       "</div>"
      ],
      "text/plain": [
       "     브랜드명             소분류명                        상품명       정가 할인가\n",
       "0  닥터브로너스     클렌징 폼,바디 클렌져  [공홈 기획세트] 닥터 브로너스 프리미엄 세트  34,400원    \n",
       "1  닥터브로너스     클렌징 폼,바디 클렌져    [청결생활]닥터 브로너스 슈가솝 360ml  20,000원    \n",
       "2  닥터브로너스  바디케어용 때비누,화장 비누         그린티 퓨어 캐스틸 바솝 140g   8,000원    \n",
       "3  닥터브로너스    클렌징 오일,바디 클렌져         그린티 퓨어 캐스틸 솝 240ml  12,500원    \n",
       "4  닥터브로너스    클렌징 오일,바디 클렌져         그린티 퓨어 캐스틸 솝 475ml  20,000원    "
      ]
     },
     "execution_count": 47,
     "metadata": {},
     "output_type": "execute_result"
    }
   ],
   "source": [
    "data = pd.concat([닥터브로너스2, 러쉬2, 아로마티카2, 오엠, 이든미네랄, 클레어스, 기타], axis=0)\n",
    "print(data.shape)\n",
    "data.head()"
   ]
  },
  {
   "cell_type": "code",
   "execution_count": 48,
   "metadata": {
    "scrolled": false
   },
   "outputs": [
    {
     "name": "stdout",
     "output_type": "stream",
     "text": [
      "53\n"
     ]
    },
    {
     "data": {
      "text/plain": [
       "{'기능성 모공관리 화장품',\n",
       " '기능성 아이케어 화장품',\n",
       " '기능성 영양보습 화장품',\n",
       " '기능성 화장품 세트',\n",
       " '기초 화장용 로션',\n",
       " '기초 화장용 미스트',\n",
       " '기초 화장용 스킨',\n",
       " '기초 화장용 에센스',\n",
       " '기초 화장용 오일/앰플',\n",
       " '기초 화장용 크림',\n",
       " '남성 클렌징',\n",
       " '린스',\n",
       " '메이크업 브러쉬',\n",
       " '바디 보습제',\n",
       " '바디 스크럽',\n",
       " '바디 클렌져',\n",
       " '바디케어용 때비누',\n",
       " '바디케어용 청 결제',\n",
       " '베이스 메이크업용 BB크림',\n",
       " '베이스 메이크업용 가루파우더',\n",
       " '베이스 메이크업용 파운데이션',\n",
       " '베이스 메이크업용 프라이머',\n",
       " '색조 메이크업 립밤',\n",
       " '색조 메이크업 립스틱',\n",
       " '색조 메이크업 립틴트',\n",
       " '색조 메이크업 마스카라',\n",
       " '색조 메이크업 볼터치',\n",
       " '색조 메이크업 속눈썹영양제',\n",
       " '색조 메이크업 쉐딩/하이라이터',\n",
       " '색조 메이크업 아이라이너',\n",
       " '색조 메이크업 아이브로우',\n",
       " '색조 메이크업 아이섀도우',\n",
       " '샴푸',\n",
       " '선크림',\n",
       " '스크럽/필링크림',\n",
       " '스킨케어 곡물팩',\n",
       " '스킨케어 마스크팩',\n",
       " '스킨케어 시트마스크팩',\n",
       " '스킨케어 워시오프팩',\n",
       " '여성향수',\n",
       " '입욕제',\n",
       " '클렌징 로션',\n",
       " '클렌징 오일',\n",
       " '클렌징 워터/젤',\n",
       " '클렌징 크림',\n",
       " '클렌징 폼',\n",
       " '트리트먼트',\n",
       " '풋워시/스크럽',\n",
       " '핸드워시/스크럽',\n",
       " '핸드크림',\n",
       " '헤어에센스',\n",
       " '헤어왁스',\n",
       " '화장 비누'}"
      ]
     },
     "execution_count": 48,
     "metadata": {},
     "output_type": "execute_result"
    }
   ],
   "source": [
    "소분류list = data.소분류명.tolist()\n",
    "소분류list = ','.join(소분류list).split(',')\n",
    "print(len(set(소분류list)))\n",
    "set(소분류list)"
   ]
  },
  {
   "cell_type": "code",
   "execution_count": 49,
   "metadata": {},
   "outputs": [],
   "source": [
    "data.to_csv('./cosmetic/beauty.csv', index=False)"
   ]
  },
  {
   "cell_type": "code",
   "execution_count": null,
   "metadata": {},
   "outputs": [],
   "source": []
  }
 ],
 "metadata": {
  "kernelspec": {
   "display_name": "Python 3",
   "language": "python",
   "name": "python3"
  },
  "language_info": {
   "codemirror_mode": {
    "name": "ipython",
    "version": 3
   },
   "file_extension": ".py",
   "mimetype": "text/x-python",
   "name": "python",
   "nbconvert_exporter": "python",
   "pygments_lexer": "ipython3",
   "version": "3.8.3"
  },
  "toc": {
   "base_numbering": 1,
   "nav_menu": {},
   "number_sections": false,
   "sideBar": false,
   "skip_h1_title": false,
   "title_cell": "Table of Contents",
   "title_sidebar": "Contents",
   "toc_cell": true,
   "toc_position": {},
   "toc_section_display": true,
   "toc_window_display": false
  }
 },
 "nbformat": 4,
 "nbformat_minor": 4
}
