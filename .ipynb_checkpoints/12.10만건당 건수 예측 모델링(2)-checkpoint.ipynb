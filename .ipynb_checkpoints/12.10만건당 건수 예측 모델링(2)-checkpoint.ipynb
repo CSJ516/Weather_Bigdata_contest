{
 "cells": [
  {
   "cell_type": "markdown",
   "metadata": {
    "toc": true
   },
   "source": [
    "<h1>Table of Contents<span class=\"tocSkip\"></span></h1>\n",
    "<div class=\"toc\"><ul class=\"toc-item\"><li><span><a href=\"#2.-여름\" data-toc-modified-id=\"2.-여름-1\">2. 여름</a></span></li><li><span><a href=\"#3.-가을\" data-toc-modified-id=\"3.-가을-2\">3. 가을</a></span></li><li><span><a href=\"#4.-겨울\" data-toc-modified-id=\"4.-겨울-3\">4. 겨울</a></span></li></ul></div>"
   ]
  },
  {
   "cell_type": "code",
   "execution_count": 1,
   "metadata": {},
   "outputs": [],
   "source": [
    "import numpy as np\n",
    "import pandas as pd\n",
    "import matplotlib.pyplot as plt\n",
    "plt.rcParams['font.family'] = 'Malgun Gothic'\n",
    "import seaborn as sns\n",
    "%matplotlib inline\n",
    "from datetime import datetime\n",
    "from sklearn.preprocessing import LabelEncoder, StandardScaler\n",
    "from sklearn.model_selection import train_test_split, GridSearchCV\n",
    "from sklearn.ensemble import ExtraTreesRegressor\n",
    "import pickle\n",
    "import joblib\n",
    "\n",
    "import warnings\n",
    "warnings.filterwarnings('ignore')"
   ]
  },
  {
   "cell_type": "code",
   "execution_count": 2,
   "metadata": {},
   "outputs": [
    {
     "name": "stdout",
     "output_type": "stream",
     "text": [
      "(2056899, 17)\n"
     ]
    },
    {
     "data": {
      "text/html": [
       "<div>\n",
       "<style scoped>\n",
       "    .dataframe tbody tr th:only-of-type {\n",
       "        vertical-align: middle;\n",
       "    }\n",
       "\n",
       "    .dataframe tbody tr th {\n",
       "        vertical-align: top;\n",
       "    }\n",
       "\n",
       "    .dataframe thead th {\n",
       "        text-align: right;\n",
       "    }\n",
       "</style>\n",
       "<table border=\"1\" class=\"dataframe\">\n",
       "  <thead>\n",
       "    <tr style=\"text-align: right;\">\n",
       "      <th></th>\n",
       "      <th>계절</th>\n",
       "      <th>월</th>\n",
       "      <th>일</th>\n",
       "      <th>요일</th>\n",
       "      <th>공휴일</th>\n",
       "      <th>성별</th>\n",
       "      <th>연령대</th>\n",
       "      <th>대분류명</th>\n",
       "      <th>소분류명</th>\n",
       "      <th>평균일강수량(mm)</th>\n",
       "      <th>평균풍속(km/h)</th>\n",
       "      <th>평균습도(%rh)</th>\n",
       "      <th>일조합</th>\n",
       "      <th>체감온도(℃)</th>\n",
       "      <th>일 미세먼지 농도(㎍/㎥)</th>\n",
       "      <th>10만건당 건수</th>\n",
       "      <th>구매건수</th>\n",
       "    </tr>\n",
       "  </thead>\n",
       "  <tbody>\n",
       "    <tr>\n",
       "      <th>0</th>\n",
       "      <td>겨울</td>\n",
       "      <td>1</td>\n",
       "      <td>1</td>\n",
       "      <td>0</td>\n",
       "      <td>1.0</td>\n",
       "      <td>F</td>\n",
       "      <td>20</td>\n",
       "      <td>식품</td>\n",
       "      <td>가공란</td>\n",
       "      <td>0.0</td>\n",
       "      <td>6.84</td>\n",
       "      <td>51.0</td>\n",
       "      <td>8.7</td>\n",
       "      <td>-2.810026</td>\n",
       "      <td>32.962963</td>\n",
       "      <td>0.480964</td>\n",
       "      <td>37</td>\n",
       "    </tr>\n",
       "    <tr>\n",
       "      <th>1</th>\n",
       "      <td>겨울</td>\n",
       "      <td>1</td>\n",
       "      <td>1</td>\n",
       "      <td>0</td>\n",
       "      <td>1.0</td>\n",
       "      <td>F</td>\n",
       "      <td>30</td>\n",
       "      <td>식품</td>\n",
       "      <td>가공란</td>\n",
       "      <td>0.0</td>\n",
       "      <td>6.84</td>\n",
       "      <td>51.0</td>\n",
       "      <td>8.7</td>\n",
       "      <td>-2.810026</td>\n",
       "      <td>32.962963</td>\n",
       "      <td>0.480964</td>\n",
       "      <td>16</td>\n",
       "    </tr>\n",
       "    <tr>\n",
       "      <th>2</th>\n",
       "      <td>겨울</td>\n",
       "      <td>1</td>\n",
       "      <td>1</td>\n",
       "      <td>0</td>\n",
       "      <td>1.0</td>\n",
       "      <td>F</td>\n",
       "      <td>40</td>\n",
       "      <td>식품</td>\n",
       "      <td>가공란</td>\n",
       "      <td>0.0</td>\n",
       "      <td>6.84</td>\n",
       "      <td>51.0</td>\n",
       "      <td>8.7</td>\n",
       "      <td>-2.810026</td>\n",
       "      <td>32.962963</td>\n",
       "      <td>0.480964</td>\n",
       "      <td>9</td>\n",
       "    </tr>\n",
       "  </tbody>\n",
       "</table>\n",
       "</div>"
      ],
      "text/plain": [
       "   계절  월  일  요일  공휴일 성별  연령대 대분류명 소분류명  평균일강수량(mm)  평균풍속(km/h)  평균습도(%rh)  \\\n",
       "0  겨울  1  1   0  1.0  F   20   식품  가공란         0.0        6.84       51.0   \n",
       "1  겨울  1  1   0  1.0  F   30   식품  가공란         0.0        6.84       51.0   \n",
       "2  겨울  1  1   0  1.0  F   40   식품  가공란         0.0        6.84       51.0   \n",
       "\n",
       "   일조합   체감온도(℃)  일 미세먼지 농도(㎍/㎥)  10만건당 건수  구매건수  \n",
       "0  8.7 -2.810026       32.962963  0.480964    37  \n",
       "1  8.7 -2.810026       32.962963  0.480964    16  \n",
       "2  8.7 -2.810026       32.962963  0.480964     9  "
      ]
     },
     "execution_count": 2,
     "metadata": {},
     "output_type": "execute_result"
    }
   ],
   "source": [
    "data = pd.read_csv('./data/total_data.csv')\n",
    "print(data.shape)\n",
    "data.head(3)"
   ]
  },
  {
   "cell_type": "code",
   "execution_count": 3,
   "metadata": {},
   "outputs": [
    {
     "name": "stdout",
     "output_type": "stream",
     "text": [
      "(695969, 13)\n"
     ]
    },
    {
     "data": {
      "text/html": [
       "<div>\n",
       "<style scoped>\n",
       "    .dataframe tbody tr th:only-of-type {\n",
       "        vertical-align: middle;\n",
       "    }\n",
       "\n",
       "    .dataframe tbody tr th {\n",
       "        vertical-align: top;\n",
       "    }\n",
       "\n",
       "    .dataframe thead th {\n",
       "        text-align: right;\n",
       "    }\n",
       "</style>\n",
       "<table border=\"1\" class=\"dataframe\">\n",
       "  <thead>\n",
       "    <tr style=\"text-align: right;\">\n",
       "      <th></th>\n",
       "      <th>계절</th>\n",
       "      <th>월</th>\n",
       "      <th>일</th>\n",
       "      <th>요일</th>\n",
       "      <th>공휴일</th>\n",
       "      <th>성별</th>\n",
       "      <th>연령대</th>\n",
       "      <th>소분류명</th>\n",
       "      <th>평균일강수량(mm)</th>\n",
       "      <th>평균풍속(km/h)</th>\n",
       "      <th>체감온도(℃)</th>\n",
       "      <th>일 미세먼지 농도(㎍/㎥)</th>\n",
       "      <th>10만건당 건수</th>\n",
       "    </tr>\n",
       "  </thead>\n",
       "  <tbody>\n",
       "    <tr>\n",
       "      <th>0</th>\n",
       "      <td>겨울</td>\n",
       "      <td>1</td>\n",
       "      <td>1</td>\n",
       "      <td>0</td>\n",
       "      <td>1.0</td>\n",
       "      <td>F</td>\n",
       "      <td>20</td>\n",
       "      <td>기능성 링클케어 화장품</td>\n",
       "      <td>0.0</td>\n",
       "      <td>6.84</td>\n",
       "      <td>-2.810026</td>\n",
       "      <td>32.962963</td>\n",
       "      <td>12.154295</td>\n",
       "    </tr>\n",
       "    <tr>\n",
       "      <th>1</th>\n",
       "      <td>겨울</td>\n",
       "      <td>1</td>\n",
       "      <td>1</td>\n",
       "      <td>0</td>\n",
       "      <td>1.0</td>\n",
       "      <td>F</td>\n",
       "      <td>40</td>\n",
       "      <td>기능성 링클케어 화장품</td>\n",
       "      <td>0.0</td>\n",
       "      <td>6.84</td>\n",
       "      <td>-2.810026</td>\n",
       "      <td>32.962963</td>\n",
       "      <td>12.154295</td>\n",
       "    </tr>\n",
       "    <tr>\n",
       "      <th>2</th>\n",
       "      <td>겨울</td>\n",
       "      <td>1</td>\n",
       "      <td>1</td>\n",
       "      <td>0</td>\n",
       "      <td>1.0</td>\n",
       "      <td>F</td>\n",
       "      <td>20</td>\n",
       "      <td>기능성 모공관리 화장품</td>\n",
       "      <td>0.0</td>\n",
       "      <td>6.84</td>\n",
       "      <td>-2.810026</td>\n",
       "      <td>32.962963</td>\n",
       "      <td>36.000828</td>\n",
       "    </tr>\n",
       "  </tbody>\n",
       "</table>\n",
       "</div>"
      ],
      "text/plain": [
       "   계절  월  일  요일  공휴일 성별  연령대          소분류명  평균일강수량(mm)  평균풍속(km/h)   체감온도(℃)  \\\n",
       "0  겨울  1  1   0  1.0  F   20  기능성 링클케어 화장품         0.0        6.84 -2.810026   \n",
       "1  겨울  1  1   0  1.0  F   40  기능성 링클케어 화장품         0.0        6.84 -2.810026   \n",
       "2  겨울  1  1   0  1.0  F   20  기능성 모공관리 화장품         0.0        6.84 -2.810026   \n",
       "\n",
       "   일 미세먼지 농도(㎍/㎥)   10만건당 건수  \n",
       "0       32.962963  12.154295  \n",
       "1       32.962963  12.154295  \n",
       "2       32.962963  36.000828  "
      ]
     },
     "execution_count": 3,
     "metadata": {},
     "output_type": "execute_result"
    }
   ],
   "source": [
    "beauty = data[data['대분류명']=='뷰티']\n",
    "beauty.drop(['대분류명','평균습도(%rh)','일조합','구매건수'], axis=1, inplace=True)\n",
    "beauty.dropna(inplace=True)\n",
    "beauty.reset_index(drop=True, inplace=True)\n",
    "print(beauty.shape)\n",
    "beauty.head(3)"
   ]
  },
  {
   "cell_type": "markdown",
   "metadata": {},
   "source": [
    "대분류명, 평균습도(다중공선성 문제), 일조합(추후 데이터 수집 문제), 구매건수 변수 제외 및 결측치 제거"
   ]
  },
  {
   "cell_type": "code",
   "execution_count": 4,
   "metadata": {},
   "outputs": [],
   "source": [
    "봄 = beauty[beauty['계절']=='봄'].reset_index(drop=True).drop('계절', axis=1)\n",
    "여름 = beauty[beauty['계절']=='여름'].reset_index(drop=True).drop('계절', axis=1)\n",
    "가을 = beauty[beauty['계절']=='가을'].reset_index(drop=True).drop('계절', axis=1)\n",
    "겨울 = beauty[beauty['계절']=='겨울'].reset_index(drop=True).drop('계절', axis=1)"
   ]
  },
  {
   "cell_type": "markdown",
   "metadata": {},
   "source": [
    "# 2. 여름"
   ]
  },
  {
   "cell_type": "code",
   "execution_count": 5,
   "metadata": {},
   "outputs": [],
   "source": [
    "# 이상치 확인\n",
    "def outliers(data):\n",
    "    q1, q3 = np.percentile(data, [25,75])\n",
    "    iqr = q3 - q1\n",
    "    upper_bound = q3 + (iqr * 1.5)\n",
    "    lower_bound = q1 - (iqr * 1.5)\n",
    "    return np.where((data > upper_bound) | (data < lower_bound))"
   ]
  },
  {
   "cell_type": "code",
   "execution_count": 9,
   "metadata": {},
   "outputs": [],
   "source": [
    "def preprocessing(data):\n",
    "    \n",
    "    # 이상치 처리\n",
    "    강수량_idx = outliers(data['평균일강수량(mm)'])[0]\n",
    "    미세먼지_idx = outliers(data['일 미세먼지 농도(㎍/㎥)'])[0]\n",
    "    풍속_idx = outliers(data['평균풍속(km/h)'])[0]\n",
    "\n",
    "    강수량_mean = data['평균일강수량(mm)'].mean()\n",
    "    data.loc[강수량_idx, '평균일강수량(mm)'] = 강수량_mean\n",
    "\n",
    "    미세먼지_mean = data['일 미세먼지 농도(㎍/㎥)'].mean()\n",
    "    data.loc[미세먼지_idx, '일 미세먼지 농도(㎍/㎥)'] = 미세먼지_mean\n",
    "\n",
    "    풍속_mean = data['평균풍속(km/h)'].mean()\n",
    "    data.loc[풍속_idx, '평균풍속(km/h)'] = 풍속_mean\n",
    "    \n",
    "    # 타깃 값 로그 변환\n",
    "    data['10만건당 건수'] = np.log1p(data[\"10만건당 건수\"])\n",
    "    \n",
    "    # 범주형 변수 레이블 인코딩\n",
    "    le = LabelEncoder()\n",
    "    le = le.fit(data['성별'])\n",
    "    data['성별'] = le.transform(data['성별'])\n",
    "\n",
    "    le2 = LabelEncoder()\n",
    "    le2 = le2.fit(data['소분류명'])\n",
    "    data['소분류명'] = le2.transform(data['소분류명'])\n",
    "\n",
    "    label_df = data[['성별','소분류명']]\n",
    "    \n",
    "    # 연속형 변수 스케일링\n",
    "    nu = data.drop(['성별','소분류명','10만건당 건수'], axis=1)\n",
    "\n",
    "    scaler = StandardScaler()\n",
    "    scaler = scaler.fit(nu)\n",
    "    scaled = scaler.transform(nu)\n",
    "    scaled_df = pd.DataFrame(scaled, columns=nu.columns)\n",
    "    \n",
    "    # 데이터셋 분리\n",
    "    X = pd.concat([scaled_df, label_df], axis=1)\n",
    "    y = data['10만건당 건수']\n",
    "\n",
    "    return le, le2, X, y"
   ]
  },
  {
   "cell_type": "code",
   "execution_count": 10,
   "metadata": {},
   "outputs": [],
   "source": [
    "def etr_modeling(data, model_name):\n",
    "    \n",
    "    le, le2, X, y = preprocessing(data)\n",
    "    X_train, X_test, y_train, y_test = train_test_split(X, y, test_size=0.2,\n",
    "                                                        shuffle=True, random_state=11)\n",
    "    \n",
    "    # Extra Trees Regressor 모델 학습\n",
    "    param_grid = {'n_estimators':[100,200],'max_features':[4,8,11],'min_samples_split':[2,4,8]}\n",
    "    grid = GridSearchCV(ExtraTreesRegressor(), param_grid=param_grid,\n",
    "                        scoring=['neg_mean_squared_error'], refit='neg_mean_squared_error',\n",
    "                        return_train_score=True, cv=5, n_jobs=-1)\n",
    "    grid.fit(X_train, y_train)\n",
    "    print('Best Params : ', grid.best_params_)\n",
    "    print('RMSE : {0:.3f}'.format(np.sqrt(-1 * grid.best_score_)))\n",
    "    \n",
    "    model = grid.best_estimator_\n",
    "\n",
    "    # 예측 모델 저장\n",
    "    joblib.dump(model, f'./model/ExtraTreesRegressor({model_name})') "
   ]
  },
  {
   "cell_type": "code",
   "execution_count": 7,
   "metadata": {},
   "outputs": [
    {
     "name": "stdout",
     "output_type": "stream",
     "text": [
      "Best Params :  {'max_features': 11, 'min_samples_split': 2, 'n_estimators': 100}\n",
      "RMSE : 0.082\n"
     ]
    }
   ],
   "source": [
    "etr_modeling(여름, '여름')"
   ]
  },
  {
   "cell_type": "markdown",
   "metadata": {},
   "source": [
    "# 3. 가을"
   ]
  },
  {
   "cell_type": "code",
   "execution_count": 8,
   "metadata": {},
   "outputs": [
    {
     "name": "stdout",
     "output_type": "stream",
     "text": [
      "Best Params :  {'max_features': 11, 'min_samples_split': 2, 'n_estimators': 200}\n",
      "RMSE : 0.076\n"
     ]
    }
   ],
   "source": [
    "etr_modeling(가을, '가을')"
   ]
  },
  {
   "cell_type": "markdown",
   "metadata": {},
   "source": [
    "# 4. 겨울"
   ]
  },
  {
   "cell_type": "code",
   "execution_count": 11,
   "metadata": {},
   "outputs": [
    {
     "name": "stdout",
     "output_type": "stream",
     "text": [
      "Best Params :  {'max_features': 11, 'min_samples_split': 4, 'n_estimators': 200}\n",
      "RMSE : 0.082\n"
     ]
    }
   ],
   "source": [
    "etr_modeling(겨울, '겨울')"
   ]
  },
  {
   "cell_type": "code",
   "execution_count": null,
   "metadata": {},
   "outputs": [],
   "source": []
  }
 ],
 "metadata": {
  "kernelspec": {
   "display_name": "Python 3",
   "language": "python",
   "name": "python3"
  },
  "language_info": {
   "codemirror_mode": {
    "name": "ipython",
    "version": 3
   },
   "file_extension": ".py",
   "mimetype": "text/x-python",
   "name": "python",
   "nbconvert_exporter": "python",
   "pygments_lexer": "ipython3",
   "version": "3.8.3"
  },
  "toc": {
   "base_numbering": 1,
   "nav_menu": {},
   "number_sections": false,
   "sideBar": false,
   "skip_h1_title": false,
   "title_cell": "Table of Contents",
   "title_sidebar": "Contents",
   "toc_cell": true,
   "toc_position": {},
   "toc_section_display": true,
   "toc_window_display": false
  }
 },
 "nbformat": 4,
 "nbformat_minor": 4
}
