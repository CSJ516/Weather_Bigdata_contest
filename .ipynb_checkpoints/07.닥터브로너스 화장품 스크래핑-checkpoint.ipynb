{
 "cells": [
  {
   "cell_type": "markdown",
   "metadata": {
    "toc": true
   },
   "source": [
    "<h1>Table of Contents<span class=\"tocSkip\"></span></h1>\n",
    "<div class=\"toc\"><ul class=\"toc-item\"><li><span><a href=\"#닥터-브로너스\" data-toc-modified-id=\"닥터-브로너스-1\">닥터 브로너스</a></span></li></ul></div>"
   ]
  },
  {
   "cell_type": "code",
   "execution_count": 27,
   "metadata": {},
   "outputs": [],
   "source": [
    "import pandas as pd\n",
    "from tqdm import tqdm\n",
    "from bs4 import BeautifulSoup\n",
    "import requests\n",
    "\n",
    "import warnings\n",
    "warnings.filterwarnings('ignore')"
   ]
  },
  {
   "cell_type": "markdown",
   "metadata": {},
   "source": [
    "https://drbronnerskorea.com/robots.txt 확인 결과 admin과 api 제외 allow"
   ]
  },
  {
   "cell_type": "markdown",
   "metadata": {},
   "source": [
    "# 닥터 브로너스"
   ]
  },
  {
   "cell_type": "code",
   "execution_count": 29,
   "metadata": {},
   "outputs": [],
   "source": [
    "url = 'https://drbronnerskorea.com/product/list.html?cate_no=75'\n",
    "html = BeautifulSoup(requests.get(url, headers={'User-agent': 'Mozilla/5.0'}).text, \"lxml\")\n",
    "# html"
   ]
  },
  {
   "cell_type": "code",
   "execution_count": 30,
   "metadata": {},
   "outputs": [
    {
     "name": "stdout",
     "output_type": "stream",
     "text": [
      "60\n"
     ]
    },
    {
     "data": {
      "text/plain": [
       "[<span style=\"font-size:13px;color:#555555;\">시트러스 오렌지 퓨어 캐스틸 솝 950ml</span>,\n",
       " <span style=\"font-size:13px;color:#555555;\">티트리 퓨어 캐스틸 솝 950ml</span>,\n",
       " <span style=\"font-size:13px;color:#555555;\">베이비 언센티드 퓨어 캐스틸 솝 475ml</span>,\n",
       " <span style=\"font-size:13px;color:#555555;\">시트러스 오렌지 퓨어 캐스틸 솝 475ml</span>,\n",
       " <span style=\"font-size:13px;color:#555555;\">라벤더 퓨어 캐스틸 솝 475ml</span>]"
      ]
     },
     "execution_count": 30,
     "metadata": {},
     "output_type": "execute_result"
    }
   ],
   "source": [
    "# 상품명 수집\n",
    "item = html.find_all('span', style='font-size:13px;color:#555555;')\n",
    "print(len(item))\n",
    "item[:5]"
   ]
  },
  {
   "cell_type": "code",
   "execution_count": 31,
   "metadata": {},
   "outputs": [
    {
     "name": "stdout",
     "output_type": "stream",
     "text": [
      "60\n"
     ]
    },
    {
     "data": {
      "text/plain": [
       "[<span class=\"price \">31,000원</span>,\n",
       " <span class=\"price \">31,000원</span>,\n",
       " <span class=\"price \">20,000원</span>,\n",
       " <span class=\"price \">20,000원</span>,\n",
       " <span class=\"price \">20,000원</span>]"
      ]
     },
     "execution_count": 31,
     "metadata": {},
     "output_type": "execute_result"
    }
   ],
   "source": [
    "# 가격 수집 (정가)\n",
    "price = html.find_all('span', class_='price')\n",
    "print(len(price))\n",
    "price[:5]"
   ]
  },
  {
   "cell_type": "code",
   "execution_count": 32,
   "metadata": {},
   "outputs": [
    {
     "name": "stdout",
     "output_type": "stream",
     "text": [
      "60\n"
     ]
    },
    {
     "data": {
      "text/plain": [
       "[<span class=\"sale displaynone\"></span>,\n",
       " <span class=\"sale displaynone\"></span>,\n",
       " <span class=\"sale displaynone\"></span>,\n",
       " <span class=\"sale displaynone\"></span>,\n",
       " <span class=\"sale displaynone\"></span>]"
      ]
     },
     "execution_count": 32,
     "metadata": {},
     "output_type": "execute_result"
    }
   ],
   "source": [
    "# 가격 수집 (할인가)\n",
    "d_price = html.find_all('span', class_='sale')\n",
    "print(len(d_price))\n",
    "d_price[:5]"
   ]
  },
  {
   "cell_type": "code",
   "execution_count": 35,
   "metadata": {},
   "outputs": [],
   "source": [
    "# 최종 스크래핑 코드\n",
    "def cosmetic_scraping(pages):\n",
    "    \n",
    "    for page in range(1, pages+1):\n",
    "        url = f'https://drbronnerskorea.com/product/list.html?cate_no=75&page={page}'\n",
    "        html = BeautifulSoup(requests.get(url, headers={'User-agent': 'Mozilla/5.0'}).text, \"lxml\")\n",
    "        \n",
    "        # 상품명, 가격 (정가, 할인가)\n",
    "        item = html.find_all('span', style='font-size:13px;color:#555555;')\n",
    "        price = html.find_all('span', class_='price')\n",
    "        d_price = html.find_all('span', class_='sale')\n",
    "\n",
    "        data = []\n",
    "        for i in range(len(item)):\n",
    "            item2 = item[i].text\n",
    "            price2 = price[i].text\n",
    "            d_price2 = d_price[i].text\n",
    "            data.append([item2, price2, d_price2])\n",
    "\n",
    "        globals()[f'df{page}'] = pd.DataFrame(data)\n",
    "    \n",
    "    df = pd.concat([df1,df2], axis=0)\n",
    "    df.columns = ['상품명', '정가', '할인가']\n",
    "    return df"
   ]
  },
  {
   "cell_type": "code",
   "execution_count": 38,
   "metadata": {},
   "outputs": [
    {
     "name": "stdout",
     "output_type": "stream",
     "text": [
      "(105, 3)\n"
     ]
    },
    {
     "data": {
      "text/html": [
       "<div>\n",
       "<style scoped>\n",
       "    .dataframe tbody tr th:only-of-type {\n",
       "        vertical-align: middle;\n",
       "    }\n",
       "\n",
       "    .dataframe tbody tr th {\n",
       "        vertical-align: top;\n",
       "    }\n",
       "\n",
       "    .dataframe thead th {\n",
       "        text-align: right;\n",
       "    }\n",
       "</style>\n",
       "<table border=\"1\" class=\"dataframe\">\n",
       "  <thead>\n",
       "    <tr style=\"text-align: right;\">\n",
       "      <th></th>\n",
       "      <th>상품명</th>\n",
       "      <th>정가</th>\n",
       "      <th>할인가</th>\n",
       "    </tr>\n",
       "  </thead>\n",
       "  <tbody>\n",
       "    <tr>\n",
       "      <th>0</th>\n",
       "      <td>시트러스 오렌지 퓨어 캐스틸 솝 950ml</td>\n",
       "      <td>31,000원</td>\n",
       "      <td></td>\n",
       "    </tr>\n",
       "    <tr>\n",
       "      <th>1</th>\n",
       "      <td>티트리 퓨어 캐스틸 솝 950ml</td>\n",
       "      <td>31,000원</td>\n",
       "      <td></td>\n",
       "    </tr>\n",
       "    <tr>\n",
       "      <th>2</th>\n",
       "      <td>베이비 언센티드 퓨어 캐스틸 솝 475ml</td>\n",
       "      <td>20,000원</td>\n",
       "      <td></td>\n",
       "    </tr>\n",
       "    <tr>\n",
       "      <th>3</th>\n",
       "      <td>시트러스 오렌지 퓨어 캐스틸 솝 475ml</td>\n",
       "      <td>20,000원</td>\n",
       "      <td></td>\n",
       "    </tr>\n",
       "    <tr>\n",
       "      <th>4</th>\n",
       "      <td>라벤더 퓨어 캐스틸 솝 475ml</td>\n",
       "      <td>20,000원</td>\n",
       "      <td></td>\n",
       "    </tr>\n",
       "  </tbody>\n",
       "</table>\n",
       "</div>"
      ],
      "text/plain": [
       "                       상품명       정가 할인가\n",
       "0  시트러스 오렌지 퓨어 캐스틸 솝 950ml  31,000원    \n",
       "1       티트리 퓨어 캐스틸 솝 950ml  31,000원    \n",
       "2  베이비 언센티드 퓨어 캐스틸 솝 475ml  20,000원    \n",
       "3  시트러스 오렌지 퓨어 캐스틸 솝 475ml  20,000원    \n",
       "4       라벤더 퓨어 캐스틸 솝 475ml  20,000원    "
      ]
     },
     "execution_count": 38,
     "metadata": {},
     "output_type": "execute_result"
    }
   ],
   "source": [
    "# 2페이지 수집\n",
    "df = cosmetic_scraping(2)\n",
    "print(df.shape)\n",
    "df.head()"
   ]
  },
  {
   "cell_type": "code",
   "execution_count": 43,
   "metadata": {},
   "outputs": [
    {
     "data": {
      "text/html": [
       "<div>\n",
       "<style scoped>\n",
       "    .dataframe tbody tr th:only-of-type {\n",
       "        vertical-align: middle;\n",
       "    }\n",
       "\n",
       "    .dataframe tbody tr th {\n",
       "        vertical-align: top;\n",
       "    }\n",
       "\n",
       "    .dataframe thead th {\n",
       "        text-align: right;\n",
       "    }\n",
       "</style>\n",
       "<table border=\"1\" class=\"dataframe\">\n",
       "  <thead>\n",
       "    <tr style=\"text-align: right;\">\n",
       "      <th></th>\n",
       "      <th>브랜드명</th>\n",
       "      <th>상품명</th>\n",
       "      <th>정가</th>\n",
       "      <th>할인가</th>\n",
       "    </tr>\n",
       "  </thead>\n",
       "  <tbody>\n",
       "    <tr>\n",
       "      <th>0</th>\n",
       "      <td>닥터브로너스</td>\n",
       "      <td>시트러스 오렌지 퓨어 캐스틸 솝 950ml</td>\n",
       "      <td>31,000원</td>\n",
       "      <td></td>\n",
       "    </tr>\n",
       "    <tr>\n",
       "      <th>1</th>\n",
       "      <td>닥터브로너스</td>\n",
       "      <td>티트리 퓨어 캐스틸 솝 950ml</td>\n",
       "      <td>31,000원</td>\n",
       "      <td></td>\n",
       "    </tr>\n",
       "    <tr>\n",
       "      <th>2</th>\n",
       "      <td>닥터브로너스</td>\n",
       "      <td>베이비 언센티드 퓨어 캐스틸 솝 475ml</td>\n",
       "      <td>20,000원</td>\n",
       "      <td></td>\n",
       "    </tr>\n",
       "    <tr>\n",
       "      <th>3</th>\n",
       "      <td>닥터브로너스</td>\n",
       "      <td>시트러스 오렌지 퓨어 캐스틸 솝 475ml</td>\n",
       "      <td>20,000원</td>\n",
       "      <td></td>\n",
       "    </tr>\n",
       "    <tr>\n",
       "      <th>4</th>\n",
       "      <td>닥터브로너스</td>\n",
       "      <td>라벤더 퓨어 캐스틸 솝 475ml</td>\n",
       "      <td>20,000원</td>\n",
       "      <td></td>\n",
       "    </tr>\n",
       "  </tbody>\n",
       "</table>\n",
       "</div>"
      ],
      "text/plain": [
       "     브랜드명                      상품명       정가 할인가\n",
       "0  닥터브로너스  시트러스 오렌지 퓨어 캐스틸 솝 950ml  31,000원    \n",
       "1  닥터브로너스       티트리 퓨어 캐스틸 솝 950ml  31,000원    \n",
       "2  닥터브로너스  베이비 언센티드 퓨어 캐스틸 솝 475ml  20,000원    \n",
       "3  닥터브로너스  시트러스 오렌지 퓨어 캐스틸 솝 475ml  20,000원    \n",
       "4  닥터브로너스       라벤더 퓨어 캐스틸 솝 475ml  20,000원    "
      ]
     },
     "execution_count": 43,
     "metadata": {},
     "output_type": "execute_result"
    }
   ],
   "source": [
    "df.reset_index(drop=True, inplace=True)\n",
    "df['브랜드명'] = '닥터브로너스'\n",
    "df = df[['브랜드명','상품명','정가','할인가']]\n",
    "df.head()"
   ]
  },
  {
   "cell_type": "markdown",
   "metadata": {},
   "source": [
    "https://drbronnerskorea.com/article/%EC%9D%B4%EC%9A%A9%EC%95%88%EB%82%B4-faq/3/2287/#none 에 따라 비건 인증을 받지 않은 오가닉 립밤, 오가닉 매직밤, 스킨 소프트너 상품 제외"
   ]
  },
  {
   "cell_type": "code",
   "execution_count": 55,
   "metadata": {},
   "outputs": [
    {
     "name": "stdout",
     "output_type": "stream",
     "text": [
      "(91, 4)\n"
     ]
    },
    {
     "data": {
      "text/html": [
       "<div>\n",
       "<style scoped>\n",
       "    .dataframe tbody tr th:only-of-type {\n",
       "        vertical-align: middle;\n",
       "    }\n",
       "\n",
       "    .dataframe tbody tr th {\n",
       "        vertical-align: top;\n",
       "    }\n",
       "\n",
       "    .dataframe thead th {\n",
       "        text-align: right;\n",
       "    }\n",
       "</style>\n",
       "<table border=\"1\" class=\"dataframe\">\n",
       "  <thead>\n",
       "    <tr style=\"text-align: right;\">\n",
       "      <th></th>\n",
       "      <th>브랜드명</th>\n",
       "      <th>상품명</th>\n",
       "      <th>정가</th>\n",
       "      <th>할인가</th>\n",
       "    </tr>\n",
       "  </thead>\n",
       "  <tbody>\n",
       "    <tr>\n",
       "      <th>0</th>\n",
       "      <td>닥터브로너스</td>\n",
       "      <td>시트러스 오렌지 퓨어 캐스틸 솝 950ml</td>\n",
       "      <td>31,000원</td>\n",
       "      <td></td>\n",
       "    </tr>\n",
       "    <tr>\n",
       "      <th>1</th>\n",
       "      <td>닥터브로너스</td>\n",
       "      <td>티트리 퓨어 캐스틸 솝 950ml</td>\n",
       "      <td>31,000원</td>\n",
       "      <td></td>\n",
       "    </tr>\n",
       "    <tr>\n",
       "      <th>2</th>\n",
       "      <td>닥터브로너스</td>\n",
       "      <td>베이비 언센티드 퓨어 캐스틸 솝 475ml</td>\n",
       "      <td>20,000원</td>\n",
       "      <td></td>\n",
       "    </tr>\n",
       "    <tr>\n",
       "      <th>3</th>\n",
       "      <td>닥터브로너스</td>\n",
       "      <td>시트러스 오렌지 퓨어 캐스틸 솝 475ml</td>\n",
       "      <td>20,000원</td>\n",
       "      <td></td>\n",
       "    </tr>\n",
       "    <tr>\n",
       "      <th>4</th>\n",
       "      <td>닥터브로너스</td>\n",
       "      <td>라벤더 퓨어 캐스틸 솝 475ml</td>\n",
       "      <td>20,000원</td>\n",
       "      <td></td>\n",
       "    </tr>\n",
       "  </tbody>\n",
       "</table>\n",
       "</div>"
      ],
      "text/plain": [
       "     브랜드명                      상품명       정가 할인가\n",
       "0  닥터브로너스  시트러스 오렌지 퓨어 캐스틸 솝 950ml  31,000원    \n",
       "1  닥터브로너스       티트리 퓨어 캐스틸 솝 950ml  31,000원    \n",
       "2  닥터브로너스  베이비 언센티드 퓨어 캐스틸 솝 475ml  20,000원    \n",
       "3  닥터브로너스  시트러스 오렌지 퓨어 캐스틸 솝 475ml  20,000원    \n",
       "4  닥터브로너스       라벤더 퓨어 캐스틸 솝 475ml  20,000원    "
      ]
     },
     "execution_count": 55,
     "metadata": {},
     "output_type": "execute_result"
    }
   ],
   "source": [
    "drop_idx = df[df['상품명'].str.contains('립밤|매직밤|스킨|코코넛 밤')].index\n",
    "df.drop(drop_idx, axis=0, inplace=True)\n",
    "df.reset_index(drop=True, inplace=True)\n",
    "print(df.shape)\n",
    "df.head()"
   ]
  },
  {
   "cell_type": "code",
   "execution_count": 57,
   "metadata": {},
   "outputs": [],
   "source": [
    "df.to_csv('./cosmetic/닥터브로너스.csv', index=False)"
   ]
  },
  {
   "cell_type": "code",
   "execution_count": null,
   "metadata": {},
   "outputs": [],
   "source": []
  }
 ],
 "metadata": {
  "kernelspec": {
   "display_name": "Python 3",
   "language": "python",
   "name": "python3"
  },
  "language_info": {
   "codemirror_mode": {
    "name": "ipython",
    "version": 3
   },
   "file_extension": ".py",
   "mimetype": "text/x-python",
   "name": "python",
   "nbconvert_exporter": "python",
   "pygments_lexer": "ipython3",
   "version": "3.8.3"
  },
  "toc": {
   "base_numbering": 1,
   "nav_menu": {},
   "number_sections": false,
   "sideBar": false,
   "skip_h1_title": false,
   "title_cell": "Table of Contents",
   "title_sidebar": "Contents",
   "toc_cell": true,
   "toc_position": {},
   "toc_section_display": true,
   "toc_window_display": false
  }
 },
 "nbformat": 4,
 "nbformat_minor": 4
}
