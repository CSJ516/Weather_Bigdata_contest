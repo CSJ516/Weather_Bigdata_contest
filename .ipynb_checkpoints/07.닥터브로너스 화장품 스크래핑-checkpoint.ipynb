{
 "cells": [
  {
   "cell_type": "markdown",
   "metadata": {
    "toc": true
   },
   "source": [
    "<h1>Table of Contents<span class=\"tocSkip\"></span></h1>\n",
    "<div class=\"toc\"><ul class=\"toc-item\"><li><span><a href=\"#닥터-브로너스-데이터-수집\" data-toc-modified-id=\"닥터-브로너스-데이터-수집-1\">닥터 브로너스 데이터 수집</a></span></li></ul></div>"
   ]
  },
  {
   "cell_type": "code",
   "execution_count": 1,
   "metadata": {},
   "outputs": [],
   "source": [
    "import pandas as pd\n",
    "from tqdm import tqdm\n",
    "from bs4 import BeautifulSoup\n",
    "import requests\n",
    "\n",
    "import warnings\n",
    "warnings.filterwarnings('ignore')"
   ]
  },
  {
   "cell_type": "markdown",
   "metadata": {},
   "source": [
    "https://drbronnerskorea.com/robots.txt 확인 결과 allow\n",
    "\n",
    "https://drbronnerskorea.com/article/%EC%9D%B4%EC%9A%A9%EC%95%88%EB%82%B4-faq/3/2287/#none 에 따라 비건 인증을 받지 않은 오가닉 립밤, 오가닉 매직밤, 스킨 소프트너 상품 제외 후 데이터 수집"
   ]
  },
  {
   "cell_type": "markdown",
   "metadata": {},
   "source": [
    "# 닥터 브로너스 데이터 수집"
   ]
  },
  {
   "cell_type": "code",
   "execution_count": 2,
   "metadata": {},
   "outputs": [],
   "source": [
    "url = 'https://drbronnerskorea.com/product/list.html?cate_no=56'\n",
    "html = BeautifulSoup(requests.get(url, headers={'User-agent': 'Mozilla/5.0'}).text, \"lxml\")\n",
    "# html"
   ]
  },
  {
   "cell_type": "code",
   "execution_count": 3,
   "metadata": {},
   "outputs": [
    {
     "name": "stdout",
     "output_type": "stream",
     "text": [
      "48\n"
     ]
    },
    {
     "data": {
      "text/plain": [
       "[<span style=\"font-size:13px;color:#555555;\">아몬드 퓨어 캐스틸 솝 950ml</span>,\n",
       " <span style=\"font-size:13px;color:#555555;\">베이비 언센티드 퓨어 캐스틸 솝 950ml</span>,\n",
       " <span style=\"font-size:13px;color:#555555;\">시트러스 오렌지 퓨어 캐스틸 솝 950ml</span>,\n",
       " <span style=\"font-size:13px;color:#555555;\">유칼립투스 퓨어 캐스틸 솝 950ml</span>,\n",
       " <span style=\"font-size:13px;color:#555555;\">라벤더 퓨어 캐스틸 솝 950ml</span>]"
      ]
     },
     "execution_count": 3,
     "metadata": {},
     "output_type": "execute_result"
    }
   ],
   "source": [
    "# 상품명 수집\n",
    "item = html.find_all('span', style='font-size:13px;color:#555555;')\n",
    "print(len(item))\n",
    "item[:5]"
   ]
  },
  {
   "cell_type": "code",
   "execution_count": 4,
   "metadata": {},
   "outputs": [
    {
     "name": "stdout",
     "output_type": "stream",
     "text": [
      "48\n"
     ]
    },
    {
     "data": {
      "text/plain": [
       "[<span class=\"price \">31,000원</span>,\n",
       " <span class=\"price \">31,000원</span>,\n",
       " <span class=\"price \">31,000원</span>,\n",
       " <span class=\"price \">31,000원</span>,\n",
       " <span class=\"price \">31,000원</span>]"
      ]
     },
     "execution_count": 4,
     "metadata": {},
     "output_type": "execute_result"
    }
   ],
   "source": [
    "# 가격 수집 (정가)\n",
    "price = html.find_all('span', class_='price')\n",
    "print(len(price))\n",
    "price[:5]"
   ]
  },
  {
   "cell_type": "code",
   "execution_count": 5,
   "metadata": {},
   "outputs": [
    {
     "name": "stdout",
     "output_type": "stream",
     "text": [
      "48\n"
     ]
    },
    {
     "data": {
      "text/plain": [
       "[<span class=\"sale displaynone\"></span>,\n",
       " <span class=\"sale displaynone\"></span>,\n",
       " <span class=\"sale displaynone\"></span>,\n",
       " <span class=\"sale displaynone\"></span>,\n",
       " <span class=\"sale displaynone\"></span>]"
      ]
     },
     "execution_count": 5,
     "metadata": {},
     "output_type": "execute_result"
    }
   ],
   "source": [
    "# 가격 수집 (할인가)\n",
    "d_price = html.find_all('span', class_='sale')\n",
    "print(len(d_price))\n",
    "d_price[:5]"
   ]
  },
  {
   "cell_type": "code",
   "execution_count": 7,
   "metadata": {},
   "outputs": [],
   "source": [
    "# 최종 스크래핑 코드\n",
    "def cosmetic_scraping(category):\n",
    "    \n",
    "    total_data = []\n",
    "    for cat in category:\n",
    "        url = f'https://drbronnerskorea.com/product/list.html?cate_no={cat}'\n",
    "        html = BeautifulSoup(requests.get(url, headers={'User-agent': 'Mozilla/5.0'}).text, \"lxml\")\n",
    "        \n",
    "        # 소분류명, 상품명, 가격 (정가, 할인가)\n",
    "        so_cat = html.find('span', class_=\"xans-element- xans-product xans-product-headcategory \").text\n",
    "        item = html.find_all('span', style='font-size:13px;color:#555555;')\n",
    "        price = html.find_all('span', class_='price')\n",
    "        d_price = html.find_all('span', class_='sale')\n",
    "\n",
    "        data = []\n",
    "        for i in range(len(item)):\n",
    "            item2 = item[i].text\n",
    "            price2 = price[i].text\n",
    "            d_price2 = d_price[i].text\n",
    "            data.append([so_cat, item2, price2, d_price2])\n",
    "        total_data.append(data)\n",
    "    \n",
    "    df = pd.DataFrame(sum(total_data, []))\n",
    "    df.columns = ['소분류명', '상품명', '정가', '할인가']\n",
    "    return df"
   ]
  },
  {
   "cell_type": "code",
   "execution_count": 8,
   "metadata": {},
   "outputs": [
    {
     "name": "stdout",
     "output_type": "stream",
     "text": [
      "(91, 4)\n"
     ]
    },
    {
     "data": {
      "text/html": [
       "<div>\n",
       "<style scoped>\n",
       "    .dataframe tbody tr th:only-of-type {\n",
       "        vertical-align: middle;\n",
       "    }\n",
       "\n",
       "    .dataframe tbody tr th {\n",
       "        vertical-align: top;\n",
       "    }\n",
       "\n",
       "    .dataframe thead th {\n",
       "        text-align: right;\n",
       "    }\n",
       "</style>\n",
       "<table border=\"1\" class=\"dataframe\">\n",
       "  <thead>\n",
       "    <tr style=\"text-align: right;\">\n",
       "      <th></th>\n",
       "      <th>소분류명</th>\n",
       "      <th>상품명</th>\n",
       "      <th>정가</th>\n",
       "      <th>할인가</th>\n",
       "    </tr>\n",
       "  </thead>\n",
       "  <tbody>\n",
       "    <tr>\n",
       "      <th>0</th>\n",
       "      <td>퓨어 캐스틸 솝 (매직솝)</td>\n",
       "      <td>아몬드 퓨어 캐스틸 솝 950ml</td>\n",
       "      <td>31,000원</td>\n",
       "      <td></td>\n",
       "    </tr>\n",
       "    <tr>\n",
       "      <th>1</th>\n",
       "      <td>퓨어 캐스틸 솝 (매직솝)</td>\n",
       "      <td>베이비 언센티드 퓨어 캐스틸 솝 950ml</td>\n",
       "      <td>31,000원</td>\n",
       "      <td></td>\n",
       "    </tr>\n",
       "    <tr>\n",
       "      <th>2</th>\n",
       "      <td>퓨어 캐스틸 솝 (매직솝)</td>\n",
       "      <td>시트러스 오렌지 퓨어 캐스틸 솝 950ml</td>\n",
       "      <td>31,000원</td>\n",
       "      <td></td>\n",
       "    </tr>\n",
       "    <tr>\n",
       "      <th>3</th>\n",
       "      <td>퓨어 캐스틸 솝 (매직솝)</td>\n",
       "      <td>유칼립투스 퓨어 캐스틸 솝 950ml</td>\n",
       "      <td>31,000원</td>\n",
       "      <td></td>\n",
       "    </tr>\n",
       "    <tr>\n",
       "      <th>4</th>\n",
       "      <td>퓨어 캐스틸 솝 (매직솝)</td>\n",
       "      <td>라벤더 퓨어 캐스틸 솝 950ml</td>\n",
       "      <td>31,000원</td>\n",
       "      <td></td>\n",
       "    </tr>\n",
       "  </tbody>\n",
       "</table>\n",
       "</div>"
      ],
      "text/plain": [
       "             소분류명                      상품명       정가 할인가\n",
       "0  퓨어 캐스틸 솝 (매직솝)       아몬드 퓨어 캐스틸 솝 950ml  31,000원    \n",
       "1  퓨어 캐스틸 솝 (매직솝)  베이비 언센티드 퓨어 캐스틸 솝 950ml  31,000원    \n",
       "2  퓨어 캐스틸 솝 (매직솝)  시트러스 오렌지 퓨어 캐스틸 솝 950ml  31,000원    \n",
       "3  퓨어 캐스틸 솝 (매직솝)     유칼립투스 퓨어 캐스틸 솝 950ml  31,000원    \n",
       "4  퓨어 캐스틸 솝 (매직솝)       라벤더 퓨어 캐스틸 솝 950ml  31,000원    "
      ]
     },
     "execution_count": 8,
     "metadata": {},
     "output_type": "execute_result"
    }
   ],
   "source": [
    "# 카테고리 선정 후 수집\n",
    "df = cosmetic_scraping(['56','57','58','100','101','60'])\n",
    "print(df.shape)\n",
    "df.head()"
   ]
  },
  {
   "cell_type": "code",
   "execution_count": 9,
   "metadata": {},
   "outputs": [
    {
     "data": {
      "text/html": [
       "<div>\n",
       "<style scoped>\n",
       "    .dataframe tbody tr th:only-of-type {\n",
       "        vertical-align: middle;\n",
       "    }\n",
       "\n",
       "    .dataframe tbody tr th {\n",
       "        vertical-align: top;\n",
       "    }\n",
       "\n",
       "    .dataframe thead th {\n",
       "        text-align: right;\n",
       "    }\n",
       "</style>\n",
       "<table border=\"1\" class=\"dataframe\">\n",
       "  <thead>\n",
       "    <tr style=\"text-align: right;\">\n",
       "      <th></th>\n",
       "      <th>브랜드명</th>\n",
       "      <th>소분류명</th>\n",
       "      <th>상품명</th>\n",
       "      <th>정가</th>\n",
       "      <th>할인가</th>\n",
       "    </tr>\n",
       "  </thead>\n",
       "  <tbody>\n",
       "    <tr>\n",
       "      <th>0</th>\n",
       "      <td>닥터브로너스</td>\n",
       "      <td>퓨어 캐스틸 솝 (매직솝)</td>\n",
       "      <td>아몬드 퓨어 캐스틸 솝 950ml</td>\n",
       "      <td>31,000원</td>\n",
       "      <td></td>\n",
       "    </tr>\n",
       "    <tr>\n",
       "      <th>1</th>\n",
       "      <td>닥터브로너스</td>\n",
       "      <td>퓨어 캐스틸 솝 (매직솝)</td>\n",
       "      <td>베이비 언센티드 퓨어 캐스틸 솝 950ml</td>\n",
       "      <td>31,000원</td>\n",
       "      <td></td>\n",
       "    </tr>\n",
       "    <tr>\n",
       "      <th>2</th>\n",
       "      <td>닥터브로너스</td>\n",
       "      <td>퓨어 캐스틸 솝 (매직솝)</td>\n",
       "      <td>시트러스 오렌지 퓨어 캐스틸 솝 950ml</td>\n",
       "      <td>31,000원</td>\n",
       "      <td></td>\n",
       "    </tr>\n",
       "    <tr>\n",
       "      <th>3</th>\n",
       "      <td>닥터브로너스</td>\n",
       "      <td>퓨어 캐스틸 솝 (매직솝)</td>\n",
       "      <td>유칼립투스 퓨어 캐스틸 솝 950ml</td>\n",
       "      <td>31,000원</td>\n",
       "      <td></td>\n",
       "    </tr>\n",
       "    <tr>\n",
       "      <th>4</th>\n",
       "      <td>닥터브로너스</td>\n",
       "      <td>퓨어 캐스틸 솝 (매직솝)</td>\n",
       "      <td>라벤더 퓨어 캐스틸 솝 950ml</td>\n",
       "      <td>31,000원</td>\n",
       "      <td></td>\n",
       "    </tr>\n",
       "  </tbody>\n",
       "</table>\n",
       "</div>"
      ],
      "text/plain": [
       "     브랜드명            소분류명                      상품명       정가 할인가\n",
       "0  닥터브로너스  퓨어 캐스틸 솝 (매직솝)       아몬드 퓨어 캐스틸 솝 950ml  31,000원    \n",
       "1  닥터브로너스  퓨어 캐스틸 솝 (매직솝)  베이비 언센티드 퓨어 캐스틸 솝 950ml  31,000원    \n",
       "2  닥터브로너스  퓨어 캐스틸 솝 (매직솝)  시트러스 오렌지 퓨어 캐스틸 솝 950ml  31,000원    \n",
       "3  닥터브로너스  퓨어 캐스틸 솝 (매직솝)     유칼립투스 퓨어 캐스틸 솝 950ml  31,000원    \n",
       "4  닥터브로너스  퓨어 캐스틸 솝 (매직솝)       라벤더 퓨어 캐스틸 솝 950ml  31,000원    "
      ]
     },
     "execution_count": 9,
     "metadata": {},
     "output_type": "execute_result"
    }
   ],
   "source": [
    "df.reset_index(drop=True, inplace=True)\n",
    "df['브랜드명'] = '닥터브로너스'\n",
    "df = df[['브랜드명','소분류명','상품명','정가','할인가']]\n",
    "df.head()"
   ]
  },
  {
   "cell_type": "code",
   "execution_count": 14,
   "metadata": {},
   "outputs": [
    {
     "name": "stdout",
     "output_type": "stream",
     "text": [
      "(87, 5)\n"
     ]
    },
    {
     "data": {
      "text/html": [
       "<div>\n",
       "<style scoped>\n",
       "    .dataframe tbody tr th:only-of-type {\n",
       "        vertical-align: middle;\n",
       "    }\n",
       "\n",
       "    .dataframe tbody tr th {\n",
       "        vertical-align: top;\n",
       "    }\n",
       "\n",
       "    .dataframe thead th {\n",
       "        text-align: right;\n",
       "    }\n",
       "</style>\n",
       "<table border=\"1\" class=\"dataframe\">\n",
       "  <thead>\n",
       "    <tr style=\"text-align: right;\">\n",
       "      <th></th>\n",
       "      <th>브랜드명</th>\n",
       "      <th>소분류명</th>\n",
       "      <th>상품명</th>\n",
       "      <th>정가</th>\n",
       "      <th>할인가</th>\n",
       "    </tr>\n",
       "  </thead>\n",
       "  <tbody>\n",
       "    <tr>\n",
       "      <th>0</th>\n",
       "      <td>닥터브로너스</td>\n",
       "      <td>퓨어 캐스틸 솝 (매직솝)</td>\n",
       "      <td>아몬드 퓨어 캐스틸 솝 950ml</td>\n",
       "      <td>31,000원</td>\n",
       "      <td></td>\n",
       "    </tr>\n",
       "    <tr>\n",
       "      <th>1</th>\n",
       "      <td>닥터브로너스</td>\n",
       "      <td>퓨어 캐스틸 솝 (매직솝)</td>\n",
       "      <td>베이비 언센티드 퓨어 캐스틸 솝 950ml</td>\n",
       "      <td>31,000원</td>\n",
       "      <td></td>\n",
       "    </tr>\n",
       "    <tr>\n",
       "      <th>2</th>\n",
       "      <td>닥터브로너스</td>\n",
       "      <td>퓨어 캐스틸 솝 (매직솝)</td>\n",
       "      <td>시트러스 오렌지 퓨어 캐스틸 솝 950ml</td>\n",
       "      <td>31,000원</td>\n",
       "      <td></td>\n",
       "    </tr>\n",
       "    <tr>\n",
       "      <th>3</th>\n",
       "      <td>닥터브로너스</td>\n",
       "      <td>퓨어 캐스틸 솝 (매직솝)</td>\n",
       "      <td>유칼립투스 퓨어 캐스틸 솝 950ml</td>\n",
       "      <td>31,000원</td>\n",
       "      <td></td>\n",
       "    </tr>\n",
       "    <tr>\n",
       "      <th>4</th>\n",
       "      <td>닥터브로너스</td>\n",
       "      <td>퓨어 캐스틸 솝 (매직솝)</td>\n",
       "      <td>라벤더 퓨어 캐스틸 솝 950ml</td>\n",
       "      <td>31,000원</td>\n",
       "      <td></td>\n",
       "    </tr>\n",
       "  </tbody>\n",
       "</table>\n",
       "</div>"
      ],
      "text/plain": [
       "     브랜드명            소분류명                      상품명       정가 할인가\n",
       "0  닥터브로너스  퓨어 캐스틸 솝 (매직솝)       아몬드 퓨어 캐스틸 솝 950ml  31,000원    \n",
       "1  닥터브로너스  퓨어 캐스틸 솝 (매직솝)  베이비 언센티드 퓨어 캐스틸 솝 950ml  31,000원    \n",
       "2  닥터브로너스  퓨어 캐스틸 솝 (매직솝)  시트러스 오렌지 퓨어 캐스틸 솝 950ml  31,000원    \n",
       "3  닥터브로너스  퓨어 캐스틸 솝 (매직솝)     유칼립투스 퓨어 캐스틸 솝 950ml  31,000원    \n",
       "4  닥터브로너스  퓨어 캐스틸 솝 (매직솝)       라벤더 퓨어 캐스틸 솝 950ml  31,000원    "
      ]
     },
     "execution_count": 14,
     "metadata": {},
     "output_type": "execute_result"
    }
   ],
   "source": [
    "drop_idx = df[df['상품명'].str.contains('립밤|매직밤|스킨|코코넛 밤')].index\n",
    "df.drop(drop_idx, axis=0, inplace=True)\n",
    "df.reset_index(drop=True, inplace=True)\n",
    "print(df.shape)\n",
    "df.head()"
   ]
  },
  {
   "cell_type": "code",
   "execution_count": 15,
   "metadata": {},
   "outputs": [],
   "source": [
    "df.to_csv('./cosmetic/닥터브로너스.csv', index=False)"
   ]
  },
  {
   "cell_type": "code",
   "execution_count": 29,
   "metadata": {},
   "outputs": [
    {
     "data": {
      "text/html": [
       "<div>\n",
       "<style scoped>\n",
       "    .dataframe tbody tr th:only-of-type {\n",
       "        vertical-align: middle;\n",
       "    }\n",
       "\n",
       "    .dataframe tbody tr th {\n",
       "        vertical-align: top;\n",
       "    }\n",
       "\n",
       "    .dataframe thead th {\n",
       "        text-align: right;\n",
       "    }\n",
       "</style>\n",
       "<table border=\"1\" class=\"dataframe\">\n",
       "  <thead>\n",
       "    <tr style=\"text-align: right;\">\n",
       "      <th></th>\n",
       "      <th>브랜드명</th>\n",
       "      <th>소분류명</th>\n",
       "      <th>상품명</th>\n",
       "      <th>정가</th>\n",
       "      <th>할인가</th>\n",
       "    </tr>\n",
       "  </thead>\n",
       "  <tbody>\n",
       "    <tr>\n",
       "      <th>72</th>\n",
       "      <td>닥터브로너스</td>\n",
       "      <td>맨즈컬렉션</td>\n",
       "      <td>페퍼민트 퓨어 캐스틸 솝 950ml</td>\n",
       "      <td>31,000원</td>\n",
       "      <td>24,800원</td>\n",
       "    </tr>\n",
       "    <tr>\n",
       "      <th>73</th>\n",
       "      <td>닥터브로너스</td>\n",
       "      <td>맨즈컬렉션</td>\n",
       "      <td>샌달우드 자스민 퓨어 캐스틸 솝 950ml</td>\n",
       "      <td>31,000원</td>\n",
       "      <td></td>\n",
       "    </tr>\n",
       "    <tr>\n",
       "      <th>74</th>\n",
       "      <td>닥터브로너스</td>\n",
       "      <td>맨즈컬렉션</td>\n",
       "      <td>얼그레이 퓨어 캐스틸 솝 950ml</td>\n",
       "      <td>31,000원</td>\n",
       "      <td></td>\n",
       "    </tr>\n",
       "    <tr>\n",
       "      <th>75</th>\n",
       "      <td>닥터브로너스</td>\n",
       "      <td>맨즈컬렉션</td>\n",
       "      <td>페퍼민트 퓨어 캐스틸 솝 475ml</td>\n",
       "      <td>20,000원</td>\n",
       "      <td>16,000원</td>\n",
       "    </tr>\n",
       "    <tr>\n",
       "      <th>76</th>\n",
       "      <td>닥터브로너스</td>\n",
       "      <td>맨즈컬렉션</td>\n",
       "      <td>샌달우드 자스민 퓨어 캐스틸 솝 475ml</td>\n",
       "      <td>20,000원</td>\n",
       "      <td></td>\n",
       "    </tr>\n",
       "    <tr>\n",
       "      <th>77</th>\n",
       "      <td>닥터브로너스</td>\n",
       "      <td>맨즈컬렉션</td>\n",
       "      <td>얼그레이 퓨어 캐스틸 솝 475ml</td>\n",
       "      <td>20,000원</td>\n",
       "      <td></td>\n",
       "    </tr>\n",
       "    <tr>\n",
       "      <th>78</th>\n",
       "      <td>닥터브로너스</td>\n",
       "      <td>맨즈컬렉션</td>\n",
       "      <td>페퍼민트 퓨어 캐스틸 솝 240ml</td>\n",
       "      <td>12,500원</td>\n",
       "      <td>10,000원</td>\n",
       "    </tr>\n",
       "    <tr>\n",
       "      <th>79</th>\n",
       "      <td>닥터브로너스</td>\n",
       "      <td>맨즈컬렉션</td>\n",
       "      <td>샌달우드 자스민 퓨어 캐스틸 솝 240ml</td>\n",
       "      <td>12,500원</td>\n",
       "      <td></td>\n",
       "    </tr>\n",
       "    <tr>\n",
       "      <th>80</th>\n",
       "      <td>닥터브로너스</td>\n",
       "      <td>맨즈컬렉션</td>\n",
       "      <td>얼그레이 퓨어 캐스틸 솝 240ml</td>\n",
       "      <td>12,500원</td>\n",
       "      <td></td>\n",
       "    </tr>\n",
       "    <tr>\n",
       "      <th>81</th>\n",
       "      <td>닥터브로너스</td>\n",
       "      <td>맨즈컬렉션</td>\n",
       "      <td>페퍼민트 퓨어 캐스틸 솝 60ml</td>\n",
       "      <td>4,300원</td>\n",
       "      <td>3,440원</td>\n",
       "    </tr>\n",
       "    <tr>\n",
       "      <th>82</th>\n",
       "      <td>닥터브로너스</td>\n",
       "      <td>맨즈컬렉션</td>\n",
       "      <td>샌달우드 자스민 퓨어 캐스틸 솝 60ml</td>\n",
       "      <td>4,300원</td>\n",
       "      <td></td>\n",
       "    </tr>\n",
       "    <tr>\n",
       "      <th>83</th>\n",
       "      <td>닥터브로너스</td>\n",
       "      <td>맨즈컬렉션</td>\n",
       "      <td>얼그레이 퓨어 캐스틸 솝 60ml</td>\n",
       "      <td>4,300원</td>\n",
       "      <td></td>\n",
       "    </tr>\n",
       "    <tr>\n",
       "      <th>84</th>\n",
       "      <td>닥터브로너스</td>\n",
       "      <td>맨즈컬렉션</td>\n",
       "      <td>페퍼민트 퓨어 캐스틸 바솝 140g</td>\n",
       "      <td>8,000원</td>\n",
       "      <td>6,400원</td>\n",
       "    </tr>\n",
       "    <tr>\n",
       "      <th>85</th>\n",
       "      <td>닥터브로너스</td>\n",
       "      <td>맨즈컬렉션</td>\n",
       "      <td>샌달우드 자스민 퓨어 캐스틸 바솝 140g</td>\n",
       "      <td>8,000원</td>\n",
       "      <td></td>\n",
       "    </tr>\n",
       "    <tr>\n",
       "      <th>86</th>\n",
       "      <td>닥터브로너스</td>\n",
       "      <td>맨즈컬렉션</td>\n",
       "      <td>페퍼민트 슈가솝 360ml</td>\n",
       "      <td>20,000원</td>\n",
       "      <td>16,000원</td>\n",
       "    </tr>\n",
       "  </tbody>\n",
       "</table>\n",
       "</div>"
      ],
      "text/plain": [
       "      브랜드명   소분류명                      상품명       정가      할인가\n",
       "72  닥터브로너스  맨즈컬렉션      페퍼민트 퓨어 캐스틸 솝 950ml  31,000원  24,800원\n",
       "73  닥터브로너스  맨즈컬렉션  샌달우드 자스민 퓨어 캐스틸 솝 950ml  31,000원         \n",
       "74  닥터브로너스  맨즈컬렉션      얼그레이 퓨어 캐스틸 솝 950ml  31,000원         \n",
       "75  닥터브로너스  맨즈컬렉션      페퍼민트 퓨어 캐스틸 솝 475ml  20,000원  16,000원\n",
       "76  닥터브로너스  맨즈컬렉션  샌달우드 자스민 퓨어 캐스틸 솝 475ml  20,000원         \n",
       "77  닥터브로너스  맨즈컬렉션      얼그레이 퓨어 캐스틸 솝 475ml  20,000원         \n",
       "78  닥터브로너스  맨즈컬렉션      페퍼민트 퓨어 캐스틸 솝 240ml  12,500원  10,000원\n",
       "79  닥터브로너스  맨즈컬렉션  샌달우드 자스민 퓨어 캐스틸 솝 240ml  12,500원         \n",
       "80  닥터브로너스  맨즈컬렉션      얼그레이 퓨어 캐스틸 솝 240ml  12,500원         \n",
       "81  닥터브로너스  맨즈컬렉션       페퍼민트 퓨어 캐스틸 솝 60ml   4,300원   3,440원\n",
       "82  닥터브로너스  맨즈컬렉션   샌달우드 자스민 퓨어 캐스틸 솝 60ml   4,300원         \n",
       "83  닥터브로너스  맨즈컬렉션       얼그레이 퓨어 캐스틸 솝 60ml   4,300원         \n",
       "84  닥터브로너스  맨즈컬렉션      페퍼민트 퓨어 캐스틸 바솝 140g   8,000원   6,400원\n",
       "85  닥터브로너스  맨즈컬렉션  샌달우드 자스민 퓨어 캐스틸 바솝 140g   8,000원         \n",
       "86  닥터브로너스  맨즈컬렉션           페퍼민트 슈가솝 360ml  20,000원  16,000원"
      ]
     },
     "execution_count": 29,
     "metadata": {},
     "output_type": "execute_result"
    }
   ],
   "source": [
    "df[df.duplicated(['상품명'])]"
   ]
  },
  {
   "cell_type": "markdown",
   "metadata": {},
   "source": [
    "맨즈컬렉션 항목이 존재하지만, 해당하는 모든 상품이 다른 카테고리에도 있음\n",
    "\n",
    "따라서 남녀공용 제품이라는 의미이며, 이를 어떻게 기존 소분류명과 매치할 수 있을지 고민"
   ]
  },
  {
   "cell_type": "code",
   "execution_count": null,
   "metadata": {},
   "outputs": [],
   "source": []
  }
 ],
 "metadata": {
  "kernelspec": {
   "display_name": "Python 3",
   "language": "python",
   "name": "python3"
  },
  "language_info": {
   "codemirror_mode": {
    "name": "ipython",
    "version": 3
   },
   "file_extension": ".py",
   "mimetype": "text/x-python",
   "name": "python",
   "nbconvert_exporter": "python",
   "pygments_lexer": "ipython3",
   "version": "3.8.3"
  },
  "toc": {
   "base_numbering": 1,
   "nav_menu": {},
   "number_sections": false,
   "sideBar": false,
   "skip_h1_title": false,
   "title_cell": "Table of Contents",
   "title_sidebar": "Contents",
   "toc_cell": true,
   "toc_position": {},
   "toc_section_display": true,
   "toc_window_display": false
  }
 },
 "nbformat": 4,
 "nbformat_minor": 4
}
