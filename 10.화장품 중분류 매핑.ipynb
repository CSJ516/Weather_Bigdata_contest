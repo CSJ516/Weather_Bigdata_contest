{
 "cells": [
  {
   "cell_type": "markdown",
   "metadata": {
    "toc": true
   },
   "source": [
    "<h1>Table of Contents<span class=\"tocSkip\"></span></h1>\n",
    "<div class=\"toc\"><ul class=\"toc-item\"></ul></div>"
   ]
  },
  {
   "cell_type": "code",
   "execution_count": 1,
   "metadata": {},
   "outputs": [],
   "source": [
    "import numpy as np\n",
    "import pandas as pd\n",
    "import warnings\n",
    "warnings.filterwarnings('ignore')"
   ]
  },
  {
   "cell_type": "code",
   "execution_count": 2,
   "metadata": {},
   "outputs": [
    {
     "name": "stdout",
     "output_type": "stream",
     "text": [
      "(681, 5)\n"
     ]
    },
    {
     "data": {
      "text/html": [
       "<div>\n",
       "<style scoped>\n",
       "    .dataframe tbody tr th:only-of-type {\n",
       "        vertical-align: middle;\n",
       "    }\n",
       "\n",
       "    .dataframe tbody tr th {\n",
       "        vertical-align: top;\n",
       "    }\n",
       "\n",
       "    .dataframe thead th {\n",
       "        text-align: right;\n",
       "    }\n",
       "</style>\n",
       "<table border=\"1\" class=\"dataframe\">\n",
       "  <thead>\n",
       "    <tr style=\"text-align: right;\">\n",
       "      <th></th>\n",
       "      <th>브랜드명</th>\n",
       "      <th>소분류명</th>\n",
       "      <th>상품명</th>\n",
       "      <th>정가</th>\n",
       "      <th>할인가</th>\n",
       "    </tr>\n",
       "  </thead>\n",
       "  <tbody>\n",
       "    <tr>\n",
       "      <th>0</th>\n",
       "      <td>닥터브로너스</td>\n",
       "      <td>클렌징 폼,바디 클렌져</td>\n",
       "      <td>[공홈 기획세트] 닥터 브로너스 프리미엄 세트</td>\n",
       "      <td>34,400원</td>\n",
       "      <td></td>\n",
       "    </tr>\n",
       "    <tr>\n",
       "      <th>1</th>\n",
       "      <td>닥터브로너스</td>\n",
       "      <td>클렌징 폼,바디 클렌져</td>\n",
       "      <td>[청결생활]닥터 브로너스 슈가솝 360ml</td>\n",
       "      <td>20,000원</td>\n",
       "      <td></td>\n",
       "    </tr>\n",
       "    <tr>\n",
       "      <th>2</th>\n",
       "      <td>닥터브로너스</td>\n",
       "      <td>바디케어용 때비누,화장 비누</td>\n",
       "      <td>그린티 퓨어 캐스틸 바솝 140g</td>\n",
       "      <td>8,000원</td>\n",
       "      <td></td>\n",
       "    </tr>\n",
       "    <tr>\n",
       "      <th>3</th>\n",
       "      <td>닥터브로너스</td>\n",
       "      <td>클렌징 오일,바디 클렌져</td>\n",
       "      <td>그린티 퓨어 캐스틸 솝 240ml</td>\n",
       "      <td>12,500원</td>\n",
       "      <td></td>\n",
       "    </tr>\n",
       "    <tr>\n",
       "      <th>4</th>\n",
       "      <td>닥터브로너스</td>\n",
       "      <td>클렌징 오일,바디 클렌져</td>\n",
       "      <td>그린티 퓨어 캐스틸 솝 475ml</td>\n",
       "      <td>20,000원</td>\n",
       "      <td></td>\n",
       "    </tr>\n",
       "  </tbody>\n",
       "</table>\n",
       "</div>"
      ],
      "text/plain": [
       "     브랜드명             소분류명                        상품명       정가 할인가\n",
       "0  닥터브로너스     클렌징 폼,바디 클렌져  [공홈 기획세트] 닥터 브로너스 프리미엄 세트  34,400원    \n",
       "1  닥터브로너스     클렌징 폼,바디 클렌져    [청결생활]닥터 브로너스 슈가솝 360ml  20,000원    \n",
       "2  닥터브로너스  바디케어용 때비누,화장 비누         그린티 퓨어 캐스틸 바솝 140g   8,000원    \n",
       "3  닥터브로너스    클렌징 오일,바디 클렌져         그린티 퓨어 캐스틸 솝 240ml  12,500원    \n",
       "4  닥터브로너스    클렌징 오일,바디 클렌져         그린티 퓨어 캐스틸 솝 475ml  20,000원    "
      ]
     },
     "execution_count": 2,
     "metadata": {},
     "output_type": "execute_result"
    }
   ],
   "source": [
    "data = pd.read_csv('./cosmetic/beauty.csv')\n",
    "print(data.shape)\n",
    "data.head()"
   ]
  },
  {
   "cell_type": "code",
   "execution_count": 3,
   "metadata": {},
   "outputs": [
    {
     "data": {
      "text/html": [
       "<div>\n",
       "<style scoped>\n",
       "    .dataframe tbody tr th:only-of-type {\n",
       "        vertical-align: middle;\n",
       "    }\n",
       "\n",
       "    .dataframe tbody tr th {\n",
       "        vertical-align: top;\n",
       "    }\n",
       "\n",
       "    .dataframe thead th {\n",
       "        text-align: right;\n",
       "    }\n",
       "</style>\n",
       "<table border=\"1\" class=\"dataframe\">\n",
       "  <thead>\n",
       "    <tr style=\"text-align: right;\">\n",
       "      <th></th>\n",
       "      <th>브랜드명</th>\n",
       "      <th>소분류명</th>\n",
       "      <th>상품명</th>\n",
       "      <th>정가</th>\n",
       "      <th>할인가</th>\n",
       "    </tr>\n",
       "  </thead>\n",
       "  <tbody>\n",
       "    <tr>\n",
       "      <th>0</th>\n",
       "      <td>닥터브로너스</td>\n",
       "      <td>클렌징 폼</td>\n",
       "      <td>[공홈 기획세트] 닥터 브로너스 프리미엄 세트</td>\n",
       "      <td>34,400원</td>\n",
       "      <td></td>\n",
       "    </tr>\n",
       "    <tr>\n",
       "      <th>1</th>\n",
       "      <td>닥터브로너스</td>\n",
       "      <td>바디 클렌져</td>\n",
       "      <td>[공홈 기획세트] 닥터 브로너스 프리미엄 세트</td>\n",
       "      <td>34,400원</td>\n",
       "      <td></td>\n",
       "    </tr>\n",
       "    <tr>\n",
       "      <th>2</th>\n",
       "      <td>닥터브로너스</td>\n",
       "      <td>클렌징 폼</td>\n",
       "      <td>[청결생활]닥터 브로너스 슈가솝 360ml</td>\n",
       "      <td>20,000원</td>\n",
       "      <td></td>\n",
       "    </tr>\n",
       "    <tr>\n",
       "      <th>3</th>\n",
       "      <td>닥터브로너스</td>\n",
       "      <td>바디 클렌져</td>\n",
       "      <td>[청결생활]닥터 브로너스 슈가솝 360ml</td>\n",
       "      <td>20,000원</td>\n",
       "      <td></td>\n",
       "    </tr>\n",
       "    <tr>\n",
       "      <th>4</th>\n",
       "      <td>닥터브로너스</td>\n",
       "      <td>바디케어용 때비누</td>\n",
       "      <td>그린티 퓨어 캐스틸 바솝 140g</td>\n",
       "      <td>8,000원</td>\n",
       "      <td></td>\n",
       "    </tr>\n",
       "  </tbody>\n",
       "</table>\n",
       "</div>"
      ],
      "text/plain": [
       "     브랜드명       소분류명                        상품명       정가 할인가\n",
       "0  닥터브로너스      클렌징 폼  [공홈 기획세트] 닥터 브로너스 프리미엄 세트  34,400원    \n",
       "1  닥터브로너스     바디 클렌져  [공홈 기획세트] 닥터 브로너스 프리미엄 세트  34,400원    \n",
       "2  닥터브로너스      클렌징 폼    [청결생활]닥터 브로너스 슈가솝 360ml  20,000원    \n",
       "3  닥터브로너스     바디 클렌져    [청결생활]닥터 브로너스 슈가솝 360ml  20,000원    \n",
       "4  닥터브로너스  바디케어용 때비누         그린티 퓨어 캐스틸 바솝 140g   8,000원    "
      ]
     },
     "execution_count": 3,
     "metadata": {},
     "output_type": "execute_result"
    }
   ],
   "source": [
    "# 소분류명 분리\n",
    "data['소분류명'] = data['소분류명'].str.split(',')\n",
    "data = data.explode('소분류명')\n",
    "data.reset_index(drop=True, inplace=True)\n",
    "data.head()"
   ]
  },
  {
   "cell_type": "code",
   "execution_count": 4,
   "metadata": {},
   "outputs": [],
   "source": [
    "data['중분류명'] = np.nan"
   ]
  },
  {
   "cell_type": "code",
   "execution_count": 5,
   "metadata": {},
   "outputs": [],
   "source": [
    "for i in range(len(data)):\n",
    "    if '기능성' in data.소분류명[i]:\n",
    "        data.중분류명[i] = '기능성 화장품'\n",
    "    elif ('기초' in data.소분류명[i]) | ('남성 로션' in data.소분류명[i]) | ('남성 스킨' in data.소분류명[i]) | ('남성 에센스' in data.소분류명[i]) | ('남성 크림' in data.소분류명[i]):\n",
    "        data.중분류명[i] = '기초 화장품'\n",
    "    elif ('남성 메이크업' in data.소분류명[i]) | ('남성 세트' in data.소분류명[i]) | ('남성 쉐이빙' in data.소분류명[i]):\n",
    "        data.중분류명[i] = '남성 기타'\n",
    "    elif ('선' in data.소분류명[i]) | ('남성 선케어' in data.소분류명[i]):\n",
    "        data.중분류명[i] = '선 제품'\n",
    "    elif ('클렌징' in data.소분류명[i]) | ('립앤아이 리무버' in data.소분류명[i]) | ('화장 비누' in data.소분류명[i]):\n",
    "        data.중분류명[i] = '클렌징 용품'\n",
    "    elif ('향수' in data.소분류명[i]) | ('샤워코롱' in data.소분류명[i]):\n",
    "        data.중분류명[i] = '향수'\n",
    "    elif '네일' in data.소분류명[i]:\n",
    "        data.중분류명[i] = '네일 제품'\n",
    "    elif ('바디' in data.소분류명[i]) | ('데오드란트' in data.소분류명[i]) | ('애프터선' in data.소분류명[i]):\n",
    "        data.중분류명[i] = '바디 케어'\n",
    "    elif ('메이크업 박스' in data.소분류명[i]) | ('메이크업 브러쉬' in data.소분류명[i]):\n",
    "        data.중분류명[i] = '메이크업 도구'\n",
    "    elif ('뷰티' in data.소분류명[i]) | ('미용가위' in data.소분류명[i]) | ('도구' in data.소분류명[i]) | ('헤어 브러쉬' in data.소분류명[i]) | ('화장 퍼프' in data.소분류명[i]):\n",
    "        data.중분류명[i] = '뷰티 도구'\n",
    "    elif ('샴푸' in data.소분류명[i]) | ('린스' in data.소분류명[i]) | ('트리트먼트' in data.소분류명[i]) | ('헤어에센스' in data.소분류명[i]) | ('헤어젤' in data.소분류명[i]) | ('헤어케어' in data.소분류명[i]):\n",
    "        data.중분류명[i] = '헤어 케어'\n",
    "    elif '헤어' in data.소분류명[i]:\n",
    "        data.중분류명[i] = '헤어 미용'\n",
    "    elif '베이스 메이크업' in data.소분류명[i]:\n",
    "        data.중분류명[i] = '베이스 메이크업 제품'\n",
    "    elif '색조 메이크업' in data.소분류명[i]:\n",
    "        data.중분류명[i] = '색조 메이크업 기타'\n",
    "        if '립' in data.소분류명[i]: data.중분류명[i] = '색조 메이크업 립'\n",
    "        elif ('마스카라' in data.소분류명[i]) | ('속눈썹' in data.소분류명[i]) | ('아이' in data.소분류명[i]):\n",
    "            data.중분류명[i] = '색조 메이크업 아이'\n",
    "    elif ('스킨케어' in data.소분류명[i]) | ('스크럽/필링크림' in data.소분류명[i]):\n",
    "        data.중분류명[i] = '스킨 케어'\n",
    "    elif '입욕제' in data.소분류명[i]:\n",
    "        data.중분류명[i] = '입욕제'\n",
    "    elif '풋' in data.소분류명[i]:\n",
    "        data.중분류명[i] = '풋 제품'\n",
    "    elif '핸드' in data.소분류명[i]:\n",
    "        data.중분류명[i] = '핸드 제품'"
   ]
  },
  {
   "cell_type": "code",
   "execution_count": 6,
   "metadata": {},
   "outputs": [
    {
     "data": {
      "text/html": [
       "<div>\n",
       "<style scoped>\n",
       "    .dataframe tbody tr th:only-of-type {\n",
       "        vertical-align: middle;\n",
       "    }\n",
       "\n",
       "    .dataframe tbody tr th {\n",
       "        vertical-align: top;\n",
       "    }\n",
       "\n",
       "    .dataframe thead th {\n",
       "        text-align: right;\n",
       "    }\n",
       "</style>\n",
       "<table border=\"1\" class=\"dataframe\">\n",
       "  <thead>\n",
       "    <tr style=\"text-align: right;\">\n",
       "      <th></th>\n",
       "      <th>브랜드명</th>\n",
       "      <th>중분류명</th>\n",
       "      <th>소분류명</th>\n",
       "      <th>상품명</th>\n",
       "      <th>정가</th>\n",
       "      <th>할인가</th>\n",
       "    </tr>\n",
       "  </thead>\n",
       "  <tbody>\n",
       "    <tr>\n",
       "      <th>0</th>\n",
       "      <td>닥터브로너스</td>\n",
       "      <td>클렌징 용품</td>\n",
       "      <td>클렌징 폼</td>\n",
       "      <td>[공홈 기획세트] 닥터 브로너스 프리미엄 세트</td>\n",
       "      <td>34,400원</td>\n",
       "      <td></td>\n",
       "    </tr>\n",
       "    <tr>\n",
       "      <th>1</th>\n",
       "      <td>닥터브로너스</td>\n",
       "      <td>바디 케어</td>\n",
       "      <td>바디 클렌져</td>\n",
       "      <td>[공홈 기획세트] 닥터 브로너스 프리미엄 세트</td>\n",
       "      <td>34,400원</td>\n",
       "      <td></td>\n",
       "    </tr>\n",
       "    <tr>\n",
       "      <th>2</th>\n",
       "      <td>닥터브로너스</td>\n",
       "      <td>클렌징 용품</td>\n",
       "      <td>클렌징 폼</td>\n",
       "      <td>[청결생활]닥터 브로너스 슈가솝 360ml</td>\n",
       "      <td>20,000원</td>\n",
       "      <td></td>\n",
       "    </tr>\n",
       "    <tr>\n",
       "      <th>3</th>\n",
       "      <td>닥터브로너스</td>\n",
       "      <td>바디 케어</td>\n",
       "      <td>바디 클렌져</td>\n",
       "      <td>[청결생활]닥터 브로너스 슈가솝 360ml</td>\n",
       "      <td>20,000원</td>\n",
       "      <td></td>\n",
       "    </tr>\n",
       "    <tr>\n",
       "      <th>4</th>\n",
       "      <td>닥터브로너스</td>\n",
       "      <td>바디 케어</td>\n",
       "      <td>바디케어용 때비누</td>\n",
       "      <td>그린티 퓨어 캐스틸 바솝 140g</td>\n",
       "      <td>8,000원</td>\n",
       "      <td></td>\n",
       "    </tr>\n",
       "  </tbody>\n",
       "</table>\n",
       "</div>"
      ],
      "text/plain": [
       "     브랜드명    중분류명       소분류명                        상품명       정가 할인가\n",
       "0  닥터브로너스  클렌징 용품      클렌징 폼  [공홈 기획세트] 닥터 브로너스 프리미엄 세트  34,400원    \n",
       "1  닥터브로너스   바디 케어     바디 클렌져  [공홈 기획세트] 닥터 브로너스 프리미엄 세트  34,400원    \n",
       "2  닥터브로너스  클렌징 용품      클렌징 폼    [청결생활]닥터 브로너스 슈가솝 360ml  20,000원    \n",
       "3  닥터브로너스   바디 케어     바디 클렌져    [청결생활]닥터 브로너스 슈가솝 360ml  20,000원    \n",
       "4  닥터브로너스   바디 케어  바디케어용 때비누         그린티 퓨어 캐스틸 바솝 140g   8,000원    "
      ]
     },
     "execution_count": 6,
     "metadata": {},
     "output_type": "execute_result"
    }
   ],
   "source": [
    "data = data[['브랜드명','중분류명','소분류명','상품명','정가','할인가']]\n",
    "data.head()"
   ]
  },
  {
   "cell_type": "code",
   "execution_count": 7,
   "metadata": {},
   "outputs": [
    {
     "name": "stdout",
     "output_type": "stream",
     "text": [
      "17\n"
     ]
    },
    {
     "data": {
      "text/plain": [
       "array(['클렌징 용품', '바디 케어', '헤어 케어', '향수', '입욕제', '메이크업 도구', '색조 메이크업 립',\n",
       "       '헤어 미용', '색조 메이크업 아이', '스킨 케어', '풋 제품', '기초 화장품', '베이스 메이크업 제품',\n",
       "       '색조 메이크업 기타', '기능성 화장품', '핸드 제품', '선 제품'], dtype=object)"
      ]
     },
     "execution_count": 7,
     "metadata": {},
     "output_type": "execute_result"
    }
   ],
   "source": [
    "print(data.중분류명.nunique())\n",
    "data.중분류명.unique()"
   ]
  },
  {
   "cell_type": "markdown",
   "metadata": {},
   "source": [
    "남성 기타, 네일 제품, 뷰티 도구 X"
   ]
  },
  {
   "cell_type": "code",
   "execution_count": 26,
   "metadata": {},
   "outputs": [
    {
     "name": "stdout",
     "output_type": "stream",
     "text": [
      "53\n"
     ]
    },
    {
     "data": {
      "text/plain": [
       "array(['클렌징 폼', '바디 클렌져', '바디케어용 때비누', '화장 비누', '클렌징 오일', '바디 보습제',\n",
       "       '헤어에센스', '남성 클렌징', '여성향수', '입욕제', '메이크업 브러쉬', '클렌징 크림', '린스',\n",
       "       '색조 메이크업 립밤', '샴푸', '헤어왁스', '색조 메이크업 아이라이너', '스킨케어 마스크팩',\n",
       "       '색조 메이크업 립스틱', '트리트먼트', '풋워시/스크럽', '기초 화장용 스킨', '베이스 메이크업용 파운데이션',\n",
       "       '색조 메이크업 마스카라', '바디 스크럽', '스크럽/필링크림', '베이스 메이크업용 가루파우더',\n",
       "       '색조 메이크업 쉐딩/하이라이터', '기초 화장용 오일/앰플', '바디케어용 청 결제', '기초 화장용 에센스',\n",
       "       '기초 화장용 크림', '기능성 화장품 세트', '핸드크림', '클렌징 워터/젤', '선크림', '핸드워시/스크럽',\n",
       "       '기능성 영양보습 화장품', '클렌징 로션', '기능성 아이케어 화장품', '기능성 모공관리 화장품',\n",
       "       '베이스 메이크업용 프라이머', '색조 메이크업 볼터치', '색조 메이크업 아이섀도우', '기초 화장용 미스트',\n",
       "       '기초 화장용 로션', '스킨케어 시트마스크팩', '베이스 메이크업용 BB크림', '스킨케어 곡물팩',\n",
       "       '색조 메이크업 속눈썹영양제', '스킨케어 워시오프팩', '색조 메이크업 립틴트', '색조 메이크업 아이브로우'],\n",
       "      dtype=object)"
      ]
     },
     "execution_count": 26,
     "metadata": {},
     "output_type": "execute_result"
    }
   ],
   "source": [
    "print(data.소분류명.nunique())\n",
    "data.소분류명.unique()"
   ]
  },
  {
   "cell_type": "code",
   "execution_count": 30,
   "metadata": {},
   "outputs": [],
   "source": [
    "data.to_csv('./cosmetic/beauty2.csv', index=False)"
   ]
  },
  {
   "cell_type": "code",
   "execution_count": null,
   "metadata": {},
   "outputs": [],
   "source": []
  }
 ],
 "metadata": {
  "kernelspec": {
   "display_name": "Python 3",
   "language": "python",
   "name": "python3"
  },
  "language_info": {
   "codemirror_mode": {
    "name": "ipython",
    "version": 3
   },
   "file_extension": ".py",
   "mimetype": "text/x-python",
   "name": "python",
   "nbconvert_exporter": "python",
   "pygments_lexer": "ipython3",
   "version": "3.8.3"
  },
  "toc": {
   "base_numbering": 1,
   "nav_menu": {},
   "number_sections": false,
   "sideBar": false,
   "skip_h1_title": false,
   "title_cell": "Table of Contents",
   "title_sidebar": "Contents",
   "toc_cell": true,
   "toc_position": {},
   "toc_section_display": true,
   "toc_window_display": false
  }
 },
 "nbformat": 4,
 "nbformat_minor": 4
}
