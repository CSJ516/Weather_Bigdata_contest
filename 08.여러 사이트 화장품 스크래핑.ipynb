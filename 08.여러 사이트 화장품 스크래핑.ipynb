{
 "cells": [
  {
   "cell_type": "markdown",
   "metadata": {
    "toc": true
   },
   "source": [
    "<h1>Table of Contents<span class=\"tocSkip\"></span></h1>\n",
    "<div class=\"toc\"><ul class=\"toc-item\"><li><span><a href=\"#1.-러쉬\" data-toc-modified-id=\"1.-러쉬-1\">1. 러쉬</a></span></li><li><span><a href=\"#2.-아로마티카\" data-toc-modified-id=\"2.-아로마티카-2\">2. 아로마티카</a></span></li><li><span><a href=\"#3.-클레어스\" data-toc-modified-id=\"3.-클레어스-3\">3. 클레어스</a></span></li><li><span><a href=\"#4.-이든-미네랄\" data-toc-modified-id=\"4.-이든-미네랄-4\">4. 이든 미네랄</a></span></li><li><span><a href=\"#5.-오엠\" data-toc-modified-id=\"5.-오엠-5\">5. 오엠</a></span></li><li><span><a href=\"#6.-기타-사이트\" data-toc-modified-id=\"6.-기타-사이트-6\">6. 기타 사이트</a></span></li></ul></div>"
   ]
  },
  {
   "cell_type": "markdown",
   "metadata": {},
   "source": [
    "adorable(사이트 X), sephora(robots.txt -> search disallow)\n",
    "\n",
    "아떼"
   ]
  },
  {
   "cell_type": "code",
   "execution_count": 1,
   "metadata": {},
   "outputs": [],
   "source": [
    "import pandas as pd\n",
    "from tqdm import tqdm\n",
    "from bs4 import BeautifulSoup\n",
    "import requests\n",
    "\n",
    "import warnings\n",
    "warnings.filterwarnings('ignore')"
   ]
  },
  {
   "cell_type": "markdown",
   "metadata": {},
   "source": [
    "# 1. 러쉬"
   ]
  },
  {
   "cell_type": "code",
   "execution_count": 41,
   "metadata": {},
   "outputs": [],
   "source": [
    "url = 'https://lush.co.kr/goods/goods_list.php?cateCd=001019001'\n",
    "html = BeautifulSoup(requests.get(url, headers={'User-agent': 'Mozilla/5.0'}).text, \"lxml\")\n",
    "# html"
   ]
  },
  {
   "cell_type": "code",
   "execution_count": 11,
   "metadata": {},
   "outputs": [
    {
     "name": "stdout",
     "output_type": "stream",
     "text": [
      "1\n"
     ]
    },
    {
     "data": {
      "text/plain": [
       "[<span class=\"on\"><a href=\"?cateCd=001019001\">배쓰</a> <em>(72)</em> </span>]"
      ]
     },
     "execution_count": 11,
     "metadata": {},
     "output_type": "execute_result"
    }
   ],
   "source": [
    "# 소분류명 수집\n",
    "so_cat = html.find_all('span', class_='on')\n",
    "print(len(so_cat))\n",
    "so_cat"
   ]
  },
  {
   "cell_type": "code",
   "execution_count": 17,
   "metadata": {},
   "outputs": [
    {
     "data": {
      "text/plain": [
       "'배쓰'"
      ]
     },
     "execution_count": 17,
     "metadata": {},
     "output_type": "execute_result"
    }
   ],
   "source": [
    "import re\n",
    "\n",
    "re.compile('[가-힣]+').findall(so_cat[0].text)[0]"
   ]
  },
  {
   "cell_type": "code",
   "execution_count": 4,
   "metadata": {
    "scrolled": true
   },
   "outputs": [
    {
     "name": "stdout",
     "output_type": "stream",
     "text": [
      "72\n"
     ]
    },
    {
     "data": {
      "text/plain": [
       "[<span class=\"prdName\">킵 잇 플러피 퍼퓸 버블 보틀</span>,\n",
       " <span class=\"prdName\">카마 퍼퓸 버블 보틀</span>,\n",
       " <span class=\"prdName\">디어 존 퍼퓸 버블 보틀</span>,\n",
       " <span class=\"prdName\">더티 퍼퓸 버블 보틀</span>,\n",
       " <span class=\"prdName\">러브 퍼퓸 버블 보틀</span>]"
      ]
     },
     "execution_count": 4,
     "metadata": {},
     "output_type": "execute_result"
    }
   ],
   "source": [
    "# 상품명 수집\n",
    "item = html.find_all('span', class_='prdName')\n",
    "print(len(item))\n",
    "item[:5]"
   ]
  },
  {
   "cell_type": "code",
   "execution_count": 6,
   "metadata": {},
   "outputs": [
    {
     "name": "stdout",
     "output_type": "stream",
     "text": [
      "72\n"
     ]
    },
    {
     "data": {
      "text/plain": [
       "[<span class=\"cost\">\n",
       " <strong>￦ 23,000</strong> </span>,\n",
       " <span class=\"cost\">\n",
       " <strong>￦ 35,000</strong> </span>,\n",
       " <span class=\"cost\">\n",
       " <strong>￦ 35,000</strong> </span>,\n",
       " <span class=\"cost\">\n",
       " <strong>￦ 23,000</strong> </span>,\n",
       " <span class=\"cost\">\n",
       " <strong>￦ 35,000</strong> </span>]"
      ]
     },
     "execution_count": 6,
     "metadata": {},
     "output_type": "execute_result"
    }
   ],
   "source": [
    "# 가격 수집 (정가)\n",
    "price = html.find_all('span', class_='cost')\n",
    "print(len(price))\n",
    "price[:5]"
   ]
  },
  {
   "cell_type": "code",
   "execution_count": 9,
   "metadata": {},
   "outputs": [
    {
     "data": {
      "text/plain": [
       "'￦ 23,000'"
      ]
     },
     "execution_count": 9,
     "metadata": {},
     "output_type": "execute_result"
    }
   ],
   "source": [
    "price[0].text.replace('\\n','').strip()"
   ]
  },
  {
   "cell_type": "code",
   "execution_count": 10,
   "metadata": {},
   "outputs": [],
   "source": [
    "# 러쉬는 할인을 안 해.."
   ]
  },
  {
   "cell_type": "code",
   "execution_count": 18,
   "metadata": {},
   "outputs": [],
   "source": [
    "# 최종 스크래핑 코드\n",
    "def cosmetic_scraping(category):\n",
    "    \n",
    "    total_data = []\n",
    "    for cat in category:\n",
    "        url = f'https://lush.co.kr/goods/goods_list.php?cateCd={cat}'\n",
    "        html = BeautifulSoup(requests.get(url, headers={'User-agent': 'Mozilla/5.0'}).text, \"lxml\")\n",
    "        \n",
    "        # 소분류명, 상품명, 가격 (정가, 할인가)\n",
    "        so_cat = html.find_all('span', class_='on')\n",
    "        so_cat2 = re.compile('[가-힣]+').findall(so_cat[0].text)[0]\n",
    "        item = html.find_all('span', class_='prdName')\n",
    "        price = html.find_all('span', class_='cost')\n",
    "\n",
    "        data = []\n",
    "        for i in range(len(item)):\n",
    "            item2 = item[i].text\n",
    "            price2 = price[i].text.replace('\\n','').strip()\n",
    "            data.append([so_cat2, item2, price2])\n",
    "        total_data.append(data)\n",
    "    \n",
    "    df = pd.DataFrame(sum(total_data, []))\n",
    "    df.columns = ['소분류명', '상품명', '정가']\n",
    "    return df"
   ]
  },
  {
   "cell_type": "code",
   "execution_count": 34,
   "metadata": {},
   "outputs": [
    {
     "name": "stdout",
     "output_type": "stream",
     "text": [
      "(352, 3)\n"
     ]
    },
    {
     "data": {
      "text/html": [
       "<div>\n",
       "<style scoped>\n",
       "    .dataframe tbody tr th:only-of-type {\n",
       "        vertical-align: middle;\n",
       "    }\n",
       "\n",
       "    .dataframe tbody tr th {\n",
       "        vertical-align: top;\n",
       "    }\n",
       "\n",
       "    .dataframe thead th {\n",
       "        text-align: right;\n",
       "    }\n",
       "</style>\n",
       "<table border=\"1\" class=\"dataframe\">\n",
       "  <thead>\n",
       "    <tr style=\"text-align: right;\">\n",
       "      <th></th>\n",
       "      <th>소분류명</th>\n",
       "      <th>상품명</th>\n",
       "      <th>정가</th>\n",
       "    </tr>\n",
       "  </thead>\n",
       "  <tbody>\n",
       "    <tr>\n",
       "      <th>0</th>\n",
       "      <td>배쓰</td>\n",
       "      <td>킵 잇 플러피 퍼퓸 버블 보틀</td>\n",
       "      <td>￦ 23,000</td>\n",
       "    </tr>\n",
       "    <tr>\n",
       "      <th>1</th>\n",
       "      <td>배쓰</td>\n",
       "      <td>카마 퍼퓸 버블 보틀</td>\n",
       "      <td>￦ 35,000</td>\n",
       "    </tr>\n",
       "    <tr>\n",
       "      <th>2</th>\n",
       "      <td>배쓰</td>\n",
       "      <td>디어 존 퍼퓸 버블 보틀</td>\n",
       "      <td>￦ 35,000</td>\n",
       "    </tr>\n",
       "    <tr>\n",
       "      <th>3</th>\n",
       "      <td>배쓰</td>\n",
       "      <td>더티 퍼퓸 버블 보틀</td>\n",
       "      <td>￦ 23,000</td>\n",
       "    </tr>\n",
       "    <tr>\n",
       "      <th>4</th>\n",
       "      <td>배쓰</td>\n",
       "      <td>러브 퍼퓸 버블 보틀</td>\n",
       "      <td>￦ 35,000</td>\n",
       "    </tr>\n",
       "  </tbody>\n",
       "</table>\n",
       "</div>"
      ],
      "text/plain": [
       "  소분류명               상품명        정가\n",
       "0   배쓰  킵 잇 플러피 퍼퓸 버블 보틀  ￦ 23,000\n",
       "1   배쓰       카마 퍼퓸 버블 보틀  ￦ 35,000\n",
       "2   배쓰     디어 존 퍼퓸 버블 보틀  ￦ 35,000\n",
       "3   배쓰       더티 퍼퓸 버블 보틀  ￦ 23,000\n",
       "4   배쓰       러브 퍼퓸 버블 보틀  ￦ 35,000"
      ]
     },
     "execution_count": 34,
     "metadata": {},
     "output_type": "execute_result"
    }
   ],
   "source": [
    "# 카테고리 선정 후 수집\n",
    "df = cosmetic_scraping(['001019001','001019002','001019003','001019004','001019005','001019006','001019007'])\n",
    "print(df.shape)\n",
    "df.head()"
   ]
  },
  {
   "cell_type": "code",
   "execution_count": 36,
   "metadata": {},
   "outputs": [
    {
     "name": "stdout",
     "output_type": "stream",
     "text": [
      "(352, 5)\n"
     ]
    },
    {
     "data": {
      "text/html": [
       "<div>\n",
       "<style scoped>\n",
       "    .dataframe tbody tr th:only-of-type {\n",
       "        vertical-align: middle;\n",
       "    }\n",
       "\n",
       "    .dataframe tbody tr th {\n",
       "        vertical-align: top;\n",
       "    }\n",
       "\n",
       "    .dataframe thead th {\n",
       "        text-align: right;\n",
       "    }\n",
       "</style>\n",
       "<table border=\"1\" class=\"dataframe\">\n",
       "  <thead>\n",
       "    <tr style=\"text-align: right;\">\n",
       "      <th></th>\n",
       "      <th>브랜드명</th>\n",
       "      <th>소분류명</th>\n",
       "      <th>상품명</th>\n",
       "      <th>정가</th>\n",
       "      <th>할인가</th>\n",
       "    </tr>\n",
       "  </thead>\n",
       "  <tbody>\n",
       "    <tr>\n",
       "      <th>0</th>\n",
       "      <td>러쉬</td>\n",
       "      <td>배쓰</td>\n",
       "      <td>킵 잇 플러피 퍼퓸 버블 보틀</td>\n",
       "      <td>23,000원</td>\n",
       "      <td></td>\n",
       "    </tr>\n",
       "    <tr>\n",
       "      <th>1</th>\n",
       "      <td>러쉬</td>\n",
       "      <td>배쓰</td>\n",
       "      <td>카마 퍼퓸 버블 보틀</td>\n",
       "      <td>35,000원</td>\n",
       "      <td></td>\n",
       "    </tr>\n",
       "    <tr>\n",
       "      <th>2</th>\n",
       "      <td>러쉬</td>\n",
       "      <td>배쓰</td>\n",
       "      <td>디어 존 퍼퓸 버블 보틀</td>\n",
       "      <td>35,000원</td>\n",
       "      <td></td>\n",
       "    </tr>\n",
       "    <tr>\n",
       "      <th>3</th>\n",
       "      <td>러쉬</td>\n",
       "      <td>배쓰</td>\n",
       "      <td>더티 퍼퓸 버블 보틀</td>\n",
       "      <td>23,000원</td>\n",
       "      <td></td>\n",
       "    </tr>\n",
       "    <tr>\n",
       "      <th>4</th>\n",
       "      <td>러쉬</td>\n",
       "      <td>배쓰</td>\n",
       "      <td>러브 퍼퓸 버블 보틀</td>\n",
       "      <td>35,000원</td>\n",
       "      <td></td>\n",
       "    </tr>\n",
       "  </tbody>\n",
       "</table>\n",
       "</div>"
      ],
      "text/plain": [
       "  브랜드명 소분류명               상품명       정가 할인가\n",
       "0   러쉬   배쓰  킵 잇 플러피 퍼퓸 버블 보틀  23,000원    \n",
       "1   러쉬   배쓰       카마 퍼퓸 버블 보틀  35,000원    \n",
       "2   러쉬   배쓰     디어 존 퍼퓸 버블 보틀  35,000원    \n",
       "3   러쉬   배쓰       더티 퍼퓸 버블 보틀  23,000원    \n",
       "4   러쉬   배쓰       러브 퍼퓸 버블 보틀  35,000원    "
      ]
     },
     "execution_count": 36,
     "metadata": {},
     "output_type": "execute_result"
    }
   ],
   "source": [
    "df['브랜드명'], df['할인가'] = '러쉬', ' '\n",
    "df = df[['브랜드명','소분류명','상품명','정가','할인가']]\n",
    "df['정가'] = df['정가'].apply(lambda x: x.replace('￦ ','') + '원')\n",
    "df.reset_index(drop=True, inplace=True)\n",
    "print(df.shape)\n",
    "df.head()"
   ]
  },
  {
   "cell_type": "code",
   "execution_count": 37,
   "metadata": {},
   "outputs": [],
   "source": [
    "df.to_csv('./cosmetic/러쉬.csv', index=False)"
   ]
  },
  {
   "cell_type": "code",
   "execution_count": 39,
   "metadata": {},
   "outputs": [
    {
     "data": {
      "text/html": [
       "<div>\n",
       "<style scoped>\n",
       "    .dataframe tbody tr th:only-of-type {\n",
       "        vertical-align: middle;\n",
       "    }\n",
       "\n",
       "    .dataframe tbody tr th {\n",
       "        vertical-align: top;\n",
       "    }\n",
       "\n",
       "    .dataframe thead th {\n",
       "        text-align: right;\n",
       "    }\n",
       "</style>\n",
       "<table border=\"1\" class=\"dataframe\">\n",
       "  <thead>\n",
       "    <tr style=\"text-align: right;\">\n",
       "      <th></th>\n",
       "      <th>브랜드명</th>\n",
       "      <th>소분류명</th>\n",
       "      <th>상품명</th>\n",
       "      <th>정가</th>\n",
       "      <th>할인가</th>\n",
       "    </tr>\n",
       "  </thead>\n",
       "  <tbody>\n",
       "    <tr>\n",
       "      <th>54</th>\n",
       "      <td>러쉬</td>\n",
       "      <td>배쓰</td>\n",
       "      <td>레인보우</td>\n",
       "      <td>20,000원</td>\n",
       "      <td></td>\n",
       "    </tr>\n",
       "    <tr>\n",
       "      <th>71</th>\n",
       "      <td>러쉬</td>\n",
       "      <td>배쓰</td>\n",
       "      <td>더 컴포터</td>\n",
       "      <td>18,000원</td>\n",
       "      <td></td>\n",
       "    </tr>\n",
       "    <tr>\n",
       "      <th>80</th>\n",
       "      <td>러쉬</td>\n",
       "      <td>샤워</td>\n",
       "      <td>슬리피</td>\n",
       "      <td>8,000원</td>\n",
       "      <td></td>\n",
       "    </tr>\n",
       "    <tr>\n",
       "      <th>92</th>\n",
       "      <td>러쉬</td>\n",
       "      <td>샤워</td>\n",
       "      <td>레인보우</td>\n",
       "      <td>20,000원</td>\n",
       "      <td></td>\n",
       "    </tr>\n",
       "    <tr>\n",
       "      <th>93</th>\n",
       "      <td>러쉬</td>\n",
       "      <td>샤워</td>\n",
       "      <td>몬스터스 &amp; 에일리언스</td>\n",
       "      <td>19,000원</td>\n",
       "      <td></td>\n",
       "    </tr>\n",
       "    <tr>\n",
       "      <th>110</th>\n",
       "      <td>러쉬</td>\n",
       "      <td>보디</td>\n",
       "      <td>팅글</td>\n",
       "      <td>34,000원</td>\n",
       "      <td></td>\n",
       "    </tr>\n",
       "    <tr>\n",
       "      <th>111</th>\n",
       "      <td>러쉬</td>\n",
       "      <td>보디</td>\n",
       "      <td>팅글 225g</td>\n",
       "      <td>45,000원</td>\n",
       "      <td></td>\n",
       "    </tr>\n",
       "    <tr>\n",
       "      <th>116</th>\n",
       "      <td>러쉬</td>\n",
       "      <td>보디</td>\n",
       "      <td>오션 솔트 셀프-프리저빙 120g/250g</td>\n",
       "      <td>27,000원</td>\n",
       "      <td></td>\n",
       "    </tr>\n",
       "    <tr>\n",
       "      <th>131</th>\n",
       "      <td>러쉬</td>\n",
       "      <td>보디</td>\n",
       "      <td>버피 90g</td>\n",
       "      <td>17,000원</td>\n",
       "      <td></td>\n",
       "    </tr>\n",
       "    <tr>\n",
       "      <th>149</th>\n",
       "      <td>러쉬</td>\n",
       "      <td>페이스</td>\n",
       "      <td>오션 솔트 셀프-프리저빙 120g/250g</td>\n",
       "      <td>27,000원</td>\n",
       "      <td></td>\n",
       "    </tr>\n",
       "    <tr>\n",
       "      <th>151</th>\n",
       "      <td>러쉬</td>\n",
       "      <td>페이스</td>\n",
       "      <td>렛 더 굿 타임즈 롤 100g/250g</td>\n",
       "      <td>22,000원</td>\n",
       "      <td></td>\n",
       "    </tr>\n",
       "    <tr>\n",
       "      <th>154</th>\n",
       "      <td>러쉬</td>\n",
       "      <td>페이스</td>\n",
       "      <td>허벌리즘 100g/250g</td>\n",
       "      <td>22,000원</td>\n",
       "      <td></td>\n",
       "    </tr>\n",
       "    <tr>\n",
       "      <th>159</th>\n",
       "      <td>러쉬</td>\n",
       "      <td>페이스</td>\n",
       "      <td>엔젤스 온 배어 스킨 100g/250g</td>\n",
       "      <td>22,000원</td>\n",
       "      <td></td>\n",
       "    </tr>\n",
       "    <tr>\n",
       "      <th>160</th>\n",
       "      <td>러쉬</td>\n",
       "      <td>페이스</td>\n",
       "      <td>아쿠아 마리나 100g/250g</td>\n",
       "      <td>22,000원</td>\n",
       "      <td></td>\n",
       "    </tr>\n",
       "    <tr>\n",
       "      <th>164</th>\n",
       "      <td>러쉬</td>\n",
       "      <td>페이스</td>\n",
       "      <td>다크 엔젤스 100g/250g</td>\n",
       "      <td>22,000원</td>\n",
       "      <td></td>\n",
       "    </tr>\n",
       "    <tr>\n",
       "      <th>251</th>\n",
       "      <td>러쉬</td>\n",
       "      <td>퍼퓸</td>\n",
       "      <td>사쿠라</td>\n",
       "      <td>60,000원</td>\n",
       "      <td></td>\n",
       "    </tr>\n",
       "    <tr>\n",
       "      <th>337</th>\n",
       "      <td>러쉬</td>\n",
       "      <td>퍼퓸</td>\n",
       "      <td>트와일라잇</td>\n",
       "      <td>50,000원</td>\n",
       "      <td></td>\n",
       "    </tr>\n",
       "  </tbody>\n",
       "</table>\n",
       "</div>"
      ],
      "text/plain": [
       "    브랜드명 소분류명                      상품명       정가 할인가\n",
       "54    러쉬   배쓰                     레인보우  20,000원    \n",
       "71    러쉬   배쓰                    더 컴포터  18,000원    \n",
       "80    러쉬   샤워                      슬리피   8,000원    \n",
       "92    러쉬   샤워                     레인보우  20,000원    \n",
       "93    러쉬   샤워             몬스터스 & 에일리언스  19,000원    \n",
       "110   러쉬   보디                       팅글  34,000원    \n",
       "111   러쉬   보디                  팅글 225g  45,000원    \n",
       "116   러쉬   보디  오션 솔트 셀프-프리저빙 120g/250g  27,000원    \n",
       "131   러쉬   보디                   버피 90g  17,000원    \n",
       "149   러쉬  페이스  오션 솔트 셀프-프리저빙 120g/250g  27,000원    \n",
       "151   러쉬  페이스    렛 더 굿 타임즈 롤 100g/250g  22,000원    \n",
       "154   러쉬  페이스           허벌리즘 100g/250g  22,000원    \n",
       "159   러쉬  페이스    엔젤스 온 배어 스킨 100g/250g  22,000원    \n",
       "160   러쉬  페이스        아쿠아 마리나 100g/250g  22,000원    \n",
       "164   러쉬  페이스         다크 엔젤스 100g/250g  22,000원    \n",
       "251   러쉬   퍼퓸                      사쿠라  60,000원    \n",
       "337   러쉬   퍼퓸                    트와일라잇  50,000원    "
      ]
     },
     "execution_count": 39,
     "metadata": {},
     "output_type": "execute_result"
    }
   ],
   "source": [
    "df[df.상품명.duplicated()]"
   ]
  },
  {
   "cell_type": "markdown",
   "metadata": {},
   "source": [
    "# 2. 아로마티카"
   ]
  },
  {
   "cell_type": "code",
   "execution_count": 102,
   "metadata": {},
   "outputs": [],
   "source": [
    "url = 'https://aromatica.co.kr/product/list.html?cate_no=681'\n",
    "html = BeautifulSoup(requests.get(url, headers={'User-agent': 'Mozilla/5.0'}).text, \"lxml\")\n",
    "# html"
   ]
  },
  {
   "cell_type": "code",
   "execution_count": 103,
   "metadata": {},
   "outputs": [
    {
     "name": "stdout",
     "output_type": "stream",
     "text": [
      "51\n"
     ]
    },
    {
     "data": {
      "text/plain": [
       "[<span style=\"font-size:15px;color:#000000;\">티트리 밸런싱 클렌징 바</span>,\n",
       " <span style=\"font-size:15px;color:#000000;\">티트리 포어 퓨리파잉 클렌징 워터<br/>1% 나이아신아마이드+0.5% BHA</span>,\n",
       " <span style=\"font-size:15px;color:#000000;\">티트리 포어 퓨리파잉 클렌징 워터 리필<br/>1% 나이아신아마이드+0.5% BHA 300ml</span>,\n",
       " <span style=\"font-size:15px;color:#000000;\">알로에 하이펙티브 클렌저5% Hyaluronic sol.+ 0.1% Enzyme</span>,\n",
       " <span style=\"font-size:15px;color:#000000;\">바이탈라이징 로즈마리 올인원 워시</span>]"
      ]
     },
     "execution_count": 103,
     "metadata": {},
     "output_type": "execute_result"
    }
   ],
   "source": [
    "# 상품명 수집\n",
    "item = html.find_all('span', style='font-size:15px;color:#000000;')\n",
    "print(len(item))\n",
    "item[:5]"
   ]
  },
  {
   "cell_type": "code",
   "execution_count": 139,
   "metadata": {},
   "outputs": [
    {
     "name": "stdout",
     "output_type": "stream",
     "text": [
      "51\n"
     ]
    },
    {
     "data": {
      "text/plain": [
       "<ul class=\"xans-element- xans-product xans-product-listitem\"><li class=\" xans-record-\">\n",
       "<strong class=\"title displaynone\"><span style=\"font-size:13px;color:#000000;\">판매가</span> </strong> <span style=\"font-size:13px;color:#000000;text-decoration:line-through;\">15,000 won</span><span id=\"span_product_tax_type_text\" style=\"text-decoration:line-through;\"> </span></li>\n",
       "<li class=\" xans-record-\">\n",
       "<strong class=\"title displaynone\"><span style=\"font-size:15px;color:#44918c;font-weight:bold;\">혜택가</span> </strong> <span style=\"font-size:15px;color:#44918c;font-weight:bold;\">9,000 won <span style=\"font-size:12px;color:#797979;\">(40%↓)</span></span></li>\n",
       "</ul>"
      ]
     },
     "execution_count": 139,
     "metadata": {},
     "output_type": "execute_result"
    }
   ],
   "source": [
    "# 가격 수집 (정가, 할인가)\n",
    "price = html.find_all('ul', class_='xans-element- xans-product xans-product-listitem')\n",
    "print(len(price))\n",
    "price[0]"
   ]
  },
  {
   "cell_type": "code",
   "execution_count": 155,
   "metadata": {},
   "outputs": [
    {
     "name": "stdout",
     "output_type": "stream",
     "text": [
      "할인가: 12,000 won (40%↓)\n",
      "원가: 20,000 won\n"
     ]
    }
   ],
   "source": [
    "if price[2].find_all('span', style='font-size:15px;color:#44918c;font-weight:bold;') == []:\n",
    "    print(price[2].find_all('span', style='font-size:13px;color:#000000;')[1].text)\n",
    "else:\n",
    "    print('할인가:', price[2].find_all('span', style='font-size:15px;color:#44918c;font-weight:bold;')[1].text)\n",
    "    print('원가:', price[2].find('span', style='font-size:13px;color:#000000;text-decoration:line-through;').text)"
   ]
  },
  {
   "cell_type": "code",
   "execution_count": 156,
   "metadata": {},
   "outputs": [],
   "source": [
    "# 최종 스크래핑 코드\n",
    "def cosmetic_scraping(category):\n",
    "    \n",
    "    total_data = []\n",
    "    for cat in category:\n",
    "        url = f'https://aromatica.co.kr/product/list.html?cate_no={cat}'\n",
    "        html = BeautifulSoup(requests.get(url, headers={'User-agent': 'Mozilla/5.0'}).text, \"lxml\")\n",
    "        \n",
    "        # 소분류명, 상품명, 가격 (정가, 할인가)\n",
    "        cat_dict = {'681':'스킨 케어','682':'헤어 케어','668':'바디 케어',\\\n",
    "                    '766':'메이크업','696':'라이프 케어','565':'아로마테라피'}\n",
    "        so_cat = cat_dict[cat]\n",
    "        item = html.find_all('span', style='font-size:15px;color:#000000;')\n",
    "        price = html.find_all('ul', class_='xans-element- xans-product xans-product-listitem')\n",
    "\n",
    "        data = []\n",
    "        for i in range(len(item)):\n",
    "            item2 = item[i].text\n",
    "            if price[i].find_all('span', style='font-size:15px;color:#44918c;font-weight:bold;') == []:\n",
    "                price2 = price[i].find_all('span', style='font-size:13px;color:#000000;')[1].text\n",
    "                price3 = ' '\n",
    "            else:\n",
    "                price2 = price[i].find('span', style='font-size:13px;color:#000000;text-decoration:line-through;').text\n",
    "                price3 = price[i].find_all('span', style='font-size:15px;color:#44918c;font-weight:bold;')[1].text\n",
    "            data.append([so_cat, item2, price2, price3])\n",
    "        total_data.append(data)\n",
    "    \n",
    "    df = pd.DataFrame(sum(total_data, []))\n",
    "    df.columns = ['소분류명', '상품명', '정가', '할인가']\n",
    "    return df"
   ]
  },
  {
   "cell_type": "code",
   "execution_count": 157,
   "metadata": {},
   "outputs": [
    {
     "name": "stdout",
     "output_type": "stream",
     "text": [
      "(148, 4)\n"
     ]
    },
    {
     "data": {
      "text/html": [
       "<div>\n",
       "<style scoped>\n",
       "    .dataframe tbody tr th:only-of-type {\n",
       "        vertical-align: middle;\n",
       "    }\n",
       "\n",
       "    .dataframe tbody tr th {\n",
       "        vertical-align: top;\n",
       "    }\n",
       "\n",
       "    .dataframe thead th {\n",
       "        text-align: right;\n",
       "    }\n",
       "</style>\n",
       "<table border=\"1\" class=\"dataframe\">\n",
       "  <thead>\n",
       "    <tr style=\"text-align: right;\">\n",
       "      <th></th>\n",
       "      <th>소분류명</th>\n",
       "      <th>상품명</th>\n",
       "      <th>정가</th>\n",
       "      <th>할인가</th>\n",
       "    </tr>\n",
       "  </thead>\n",
       "  <tbody>\n",
       "    <tr>\n",
       "      <th>0</th>\n",
       "      <td>스킨 케어</td>\n",
       "      <td>티트리 밸런싱 클렌징 바</td>\n",
       "      <td>15,000 won</td>\n",
       "      <td>9,000 won (40%↓)</td>\n",
       "    </tr>\n",
       "    <tr>\n",
       "      <th>1</th>\n",
       "      <td>스킨 케어</td>\n",
       "      <td>티트리 포어 퓨리파잉 클렌징 워터1% 나이아신아마이드+0.5% BHA</td>\n",
       "      <td>22,000 won</td>\n",
       "      <td>13,200 won (40%↓)</td>\n",
       "    </tr>\n",
       "    <tr>\n",
       "      <th>2</th>\n",
       "      <td>스킨 케어</td>\n",
       "      <td>티트리 포어 퓨리파잉 클렌징 워터 리필1% 나이아신아마이드+0.5% BHA 300ml</td>\n",
       "      <td>20,000 won</td>\n",
       "      <td>12,000 won (40%↓)</td>\n",
       "    </tr>\n",
       "    <tr>\n",
       "      <th>3</th>\n",
       "      <td>스킨 케어</td>\n",
       "      <td>알로에 하이펙티브 클렌저5% Hyaluronic sol.+ 0.1% Enzyme</td>\n",
       "      <td>16,000 won</td>\n",
       "      <td>9,600 won (40%↓)</td>\n",
       "    </tr>\n",
       "    <tr>\n",
       "      <th>4</th>\n",
       "      <td>스킨 케어</td>\n",
       "      <td>바이탈라이징 로즈마리 올인원 워시</td>\n",
       "      <td>18,000 won</td>\n",
       "      <td>10,800 won (40%↓)</td>\n",
       "    </tr>\n",
       "  </tbody>\n",
       "</table>\n",
       "</div>"
      ],
      "text/plain": [
       "    소분류명                                              상품명          정가  \\\n",
       "0  스킨 케어                                    티트리 밸런싱 클렌징 바  15,000 won   \n",
       "1  스킨 케어           티트리 포어 퓨리파잉 클렌징 워터1% 나이아신아마이드+0.5% BHA  22,000 won   \n",
       "2  스킨 케어  티트리 포어 퓨리파잉 클렌징 워터 리필1% 나이아신아마이드+0.5% BHA 300ml  20,000 won   \n",
       "3  스킨 케어     알로에 하이펙티브 클렌저5% Hyaluronic sol.+ 0.1% Enzyme  16,000 won   \n",
       "4  스킨 케어                               바이탈라이징 로즈마리 올인원 워시  18,000 won   \n",
       "\n",
       "                 할인가  \n",
       "0   9,000 won (40%↓)  \n",
       "1  13,200 won (40%↓)  \n",
       "2  12,000 won (40%↓)  \n",
       "3   9,600 won (40%↓)  \n",
       "4  10,800 won (40%↓)  "
      ]
     },
     "execution_count": 157,
     "metadata": {},
     "output_type": "execute_result"
    }
   ],
   "source": [
    "# 카테고리 선정 후 수집\n",
    "category = ['681','682','668','766','696','565']\n",
    "df = cosmetic_scraping(category)\n",
    "print(df.shape)\n",
    "df.head()"
   ]
  },
  {
   "cell_type": "code",
   "execution_count": 171,
   "metadata": {},
   "outputs": [
    {
     "name": "stdout",
     "output_type": "stream",
     "text": [
      "(148, 5)\n"
     ]
    },
    {
     "data": {
      "text/html": [
       "<div>\n",
       "<style scoped>\n",
       "    .dataframe tbody tr th:only-of-type {\n",
       "        vertical-align: middle;\n",
       "    }\n",
       "\n",
       "    .dataframe tbody tr th {\n",
       "        vertical-align: top;\n",
       "    }\n",
       "\n",
       "    .dataframe thead th {\n",
       "        text-align: right;\n",
       "    }\n",
       "</style>\n",
       "<table border=\"1\" class=\"dataframe\">\n",
       "  <thead>\n",
       "    <tr style=\"text-align: right;\">\n",
       "      <th></th>\n",
       "      <th>브랜드명</th>\n",
       "      <th>소분류명</th>\n",
       "      <th>상품명</th>\n",
       "      <th>정가</th>\n",
       "      <th>할인가</th>\n",
       "    </tr>\n",
       "  </thead>\n",
       "  <tbody>\n",
       "    <tr>\n",
       "      <th>0</th>\n",
       "      <td>아로마티카</td>\n",
       "      <td>스킨 케어</td>\n",
       "      <td>티트리 밸런싱 클렌징 바</td>\n",
       "      <td>15,000원</td>\n",
       "      <td>9,000원</td>\n",
       "    </tr>\n",
       "    <tr>\n",
       "      <th>1</th>\n",
       "      <td>아로마티카</td>\n",
       "      <td>스킨 케어</td>\n",
       "      <td>티트리 포어 퓨리파잉 클렌징 워터1% 나이아신아마이드+0.5% BHA</td>\n",
       "      <td>22,000원</td>\n",
       "      <td>13,200원</td>\n",
       "    </tr>\n",
       "    <tr>\n",
       "      <th>2</th>\n",
       "      <td>아로마티카</td>\n",
       "      <td>스킨 케어</td>\n",
       "      <td>티트리 포어 퓨리파잉 클렌징 워터 리필1% 나이아신아마이드+0.5% BHA 300ml</td>\n",
       "      <td>20,000원</td>\n",
       "      <td>12,000원</td>\n",
       "    </tr>\n",
       "    <tr>\n",
       "      <th>3</th>\n",
       "      <td>아로마티카</td>\n",
       "      <td>스킨 케어</td>\n",
       "      <td>알로에 하이펙티브 클렌저5% Hyaluronic sol.+ 0.1% Enzyme</td>\n",
       "      <td>16,000원</td>\n",
       "      <td>9,600원</td>\n",
       "    </tr>\n",
       "    <tr>\n",
       "      <th>4</th>\n",
       "      <td>아로마티카</td>\n",
       "      <td>스킨 케어</td>\n",
       "      <td>바이탈라이징 로즈마리 올인원 워시</td>\n",
       "      <td>18,000원</td>\n",
       "      <td>10,800원</td>\n",
       "    </tr>\n",
       "  </tbody>\n",
       "</table>\n",
       "</div>"
      ],
      "text/plain": [
       "    브랜드명   소분류명                                              상품명       정가  \\\n",
       "0  아로마티카  스킨 케어                                    티트리 밸런싱 클렌징 바  15,000원   \n",
       "1  아로마티카  스킨 케어           티트리 포어 퓨리파잉 클렌징 워터1% 나이아신아마이드+0.5% BHA  22,000원   \n",
       "2  아로마티카  스킨 케어  티트리 포어 퓨리파잉 클렌징 워터 리필1% 나이아신아마이드+0.5% BHA 300ml  20,000원   \n",
       "3  아로마티카  스킨 케어     알로에 하이펙티브 클렌저5% Hyaluronic sol.+ 0.1% Enzyme  16,000원   \n",
       "4  아로마티카  스킨 케어                               바이탈라이징 로즈마리 올인원 워시  18,000원   \n",
       "\n",
       "       할인가  \n",
       "0   9,000원  \n",
       "1  13,200원  \n",
       "2  12,000원  \n",
       "3   9,600원  \n",
       "4  10,800원  "
      ]
     },
     "execution_count": 171,
     "metadata": {},
     "output_type": "execute_result"
    }
   ],
   "source": [
    "df['브랜드명'] = '아로마티카'\n",
    "\n",
    "df['정가'] = df['정가'].apply(lambda x: x.split(' ')[0]+'원')\n",
    "for i in range(len(df)):\n",
    "    if df['할인가'][i] != ' ':\n",
    "        df['할인가'][i] = df['할인가'][i].split(' ')[0]+'원'\n",
    "\n",
    "df = df[['브랜드명','소분류명','상품명','정가','할인가']]\n",
    "df.reset_index(drop=True, inplace=True)\n",
    "print(df.shape)\n",
    "df.head()"
   ]
  },
  {
   "cell_type": "code",
   "execution_count": 174,
   "metadata": {},
   "outputs": [],
   "source": [
    "df.to_csv('./cosmetic/아로마티카.csv', index=False)"
   ]
  },
  {
   "cell_type": "code",
   "execution_count": 175,
   "metadata": {},
   "outputs": [
    {
     "data": {
      "text/html": [
       "<div>\n",
       "<style scoped>\n",
       "    .dataframe tbody tr th:only-of-type {\n",
       "        vertical-align: middle;\n",
       "    }\n",
       "\n",
       "    .dataframe tbody tr th {\n",
       "        vertical-align: top;\n",
       "    }\n",
       "\n",
       "    .dataframe thead th {\n",
       "        text-align: right;\n",
       "    }\n",
       "</style>\n",
       "<table border=\"1\" class=\"dataframe\">\n",
       "  <thead>\n",
       "    <tr style=\"text-align: right;\">\n",
       "      <th></th>\n",
       "      <th>브랜드명</th>\n",
       "      <th>소분류명</th>\n",
       "      <th>상품명</th>\n",
       "      <th>정가</th>\n",
       "      <th>할인가</th>\n",
       "    </tr>\n",
       "  </thead>\n",
       "  <tbody>\n",
       "    <tr>\n",
       "      <th>84</th>\n",
       "      <td>아로마티카</td>\n",
       "      <td>바디 케어</td>\n",
       "      <td>티트리 밸런싱 클렌징 바</td>\n",
       "      <td>15,000원</td>\n",
       "      <td>9,000원</td>\n",
       "    </tr>\n",
       "    <tr>\n",
       "      <th>85</th>\n",
       "      <td>아로마티카</td>\n",
       "      <td>바디 케어</td>\n",
       "      <td>바이탈라이징 로즈마리 올인원 워시</td>\n",
       "      <td>18,000원</td>\n",
       "      <td>10,800원</td>\n",
       "    </tr>\n",
       "    <tr>\n",
       "      <th>86</th>\n",
       "      <td>아로마티카</td>\n",
       "      <td>바디 케어</td>\n",
       "      <td>바이탈라이징 로즈마리 올인원 워시 리필 500ml</td>\n",
       "      <td>22,000원</td>\n",
       "      <td>13,200원</td>\n",
       "    </tr>\n",
       "    <tr>\n",
       "      <th>89</th>\n",
       "      <td>아로마티카</td>\n",
       "      <td>바디 케어</td>\n",
       "      <td>바이탈라이징 로즈마리 올인원 로션 300ml</td>\n",
       "      <td>22,000원</td>\n",
       "      <td>13,200원</td>\n",
       "    </tr>\n",
       "    <tr>\n",
       "      <th>90</th>\n",
       "      <td>아로마티카</td>\n",
       "      <td>바디 케어</td>\n",
       "      <td>바이탈라이징 로즈마리 올인원 로션 리필 500ml</td>\n",
       "      <td>28,000원</td>\n",
       "      <td>16,800원</td>\n",
       "    </tr>\n",
       "    <tr>\n",
       "      <th>97</th>\n",
       "      <td>아로마티카</td>\n",
       "      <td>바디 케어</td>\n",
       "      <td>나무 돌고래 페이스 &amp; 바디 마사지툴</td>\n",
       "      <td>19,000원</td>\n",
       "      <td></td>\n",
       "    </tr>\n",
       "    <tr>\n",
       "      <th>111</th>\n",
       "      <td>아로마티카</td>\n",
       "      <td>라이프 케어</td>\n",
       "      <td>아로마티카 에이콜로지 브랜드 북 세트</td>\n",
       "      <td>28,000원</td>\n",
       "      <td>16,800원</td>\n",
       "    </tr>\n",
       "    <tr>\n",
       "      <th>117</th>\n",
       "      <td>아로마티카</td>\n",
       "      <td>라이프 케어</td>\n",
       "      <td>에센셜 핸드 새니타이저겔 500ml</td>\n",
       "      <td>12,000원</td>\n",
       "      <td>7,200원</td>\n",
       "    </tr>\n",
       "    <tr>\n",
       "      <th>118</th>\n",
       "      <td>아로마티카</td>\n",
       "      <td>라이프 케어</td>\n",
       "      <td>에센셜 핸드 새니타이저겔 30ml</td>\n",
       "      <td>3,000원</td>\n",
       "      <td></td>\n",
       "    </tr>\n",
       "    <tr>\n",
       "      <th>123</th>\n",
       "      <td>아로마티카</td>\n",
       "      <td>라이프 케어</td>\n",
       "      <td>퓨어 앤 소프트 여성청결제 300ml</td>\n",
       "      <td>22,000원</td>\n",
       "      <td>13,200원</td>\n",
       "    </tr>\n",
       "    <tr>\n",
       "      <th>124</th>\n",
       "      <td>아로마티카</td>\n",
       "      <td>라이프 케어</td>\n",
       "      <td>단델리온 페미닌 젤 250ml</td>\n",
       "      <td>18,000원</td>\n",
       "      <td>10,800원</td>\n",
       "    </tr>\n",
       "    <tr>\n",
       "      <th>125</th>\n",
       "      <td>아로마티카</td>\n",
       "      <td>라이프 케어</td>\n",
       "      <td>단델리온 페미닌 젤 30ml</td>\n",
       "      <td>3,000원</td>\n",
       "      <td></td>\n",
       "    </tr>\n",
       "    <tr>\n",
       "      <th>126</th>\n",
       "      <td>아로마티카</td>\n",
       "      <td>라이프 케어</td>\n",
       "      <td>로즈마리 스칼프 스케일링 샴푸 바</td>\n",
       "      <td>15,000원</td>\n",
       "      <td>9,000원</td>\n",
       "    </tr>\n",
       "    <tr>\n",
       "      <th>127</th>\n",
       "      <td>아로마티카</td>\n",
       "      <td>라이프 케어</td>\n",
       "      <td>로즈마리 헤어 씨크닝 컨디셔너 바</td>\n",
       "      <td>15,000원</td>\n",
       "      <td>9,000원</td>\n",
       "    </tr>\n",
       "    <tr>\n",
       "      <th>145</th>\n",
       "      <td>아로마티카</td>\n",
       "      <td>아로마테라피</td>\n",
       "      <td>컴포팅 칼렌듈라 디콕션 밤</td>\n",
       "      <td>12,000원</td>\n",
       "      <td>7,200원</td>\n",
       "    </tr>\n",
       "    <tr>\n",
       "      <th>146</th>\n",
       "      <td>아로마티카</td>\n",
       "      <td>아로마테라피</td>\n",
       "      <td>홀리스틱 레미디 어노인팅 (동방박사) 밤</td>\n",
       "      <td>16,000원</td>\n",
       "      <td>9,600원</td>\n",
       "    </tr>\n",
       "  </tbody>\n",
       "</table>\n",
       "</div>"
      ],
      "text/plain": [
       "      브랜드명    소분류명                          상품명       정가      할인가\n",
       "84   아로마티카   바디 케어                티트리 밸런싱 클렌징 바  15,000원   9,000원\n",
       "85   아로마티카   바디 케어           바이탈라이징 로즈마리 올인원 워시  18,000원  10,800원\n",
       "86   아로마티카   바디 케어  바이탈라이징 로즈마리 올인원 워시 리필 500ml  22,000원  13,200원\n",
       "89   아로마티카   바디 케어     바이탈라이징 로즈마리 올인원 로션 300ml  22,000원  13,200원\n",
       "90   아로마티카   바디 케어  바이탈라이징 로즈마리 올인원 로션 리필 500ml  28,000원  16,800원\n",
       "97   아로마티카   바디 케어         나무 돌고래 페이스 & 바디 마사지툴  19,000원         \n",
       "111  아로마티카  라이프 케어         아로마티카 에이콜로지 브랜드 북 세트  28,000원  16,800원\n",
       "117  아로마티카  라이프 케어          에센셜 핸드 새니타이저겔 500ml  12,000원   7,200원\n",
       "118  아로마티카  라이프 케어           에센셜 핸드 새니타이저겔 30ml   3,000원         \n",
       "123  아로마티카  라이프 케어         퓨어 앤 소프트 여성청결제 300ml  22,000원  13,200원\n",
       "124  아로마티카  라이프 케어             단델리온 페미닌 젤 250ml  18,000원  10,800원\n",
       "125  아로마티카  라이프 케어              단델리온 페미닌 젤 30ml   3,000원         \n",
       "126  아로마티카  라이프 케어           로즈마리 스칼프 스케일링 샴푸 바  15,000원   9,000원\n",
       "127  아로마티카  라이프 케어           로즈마리 헤어 씨크닝 컨디셔너 바  15,000원   9,000원\n",
       "145  아로마티카  아로마테라피               컴포팅 칼렌듈라 디콕션 밤  12,000원   7,200원\n",
       "146  아로마티카  아로마테라피       홀리스틱 레미디 어노인팅 (동방박사) 밤  16,000원   9,600원"
      ]
     },
     "execution_count": 175,
     "metadata": {},
     "output_type": "execute_result"
    }
   ],
   "source": [
    "df[df.상품명.duplicated()]"
   ]
  },
  {
   "cell_type": "markdown",
   "metadata": {},
   "source": [
    "# 3. 클레어스"
   ]
  },
  {
   "cell_type": "code",
   "execution_count": 3,
   "metadata": {},
   "outputs": [],
   "source": [
    "url = 'https://www.klairs.com/shop/search_result.php?search_str=%EB%B9%84%EA%B1%B4&cate=1030&ctype=big'\n",
    "html = BeautifulSoup(requests.get(url, headers={'User-agent': 'Mozilla/5.0'}).text, \"lxml\")\n",
    "# html"
   ]
  },
  {
   "cell_type": "code",
   "execution_count": 4,
   "metadata": {},
   "outputs": [
    {
     "name": "stdout",
     "output_type": "stream",
     "text": [
      "2\n"
     ]
    },
    {
     "data": {
      "text/plain": [
       "[<a class=\"selected\" href=\"?search_str=%EB%B9%84%EA%B1%B4&amp;cate=1030&amp;ctype=big\">클렌징</a>,\n",
       " <a class=\"selected\" href=\"https://www.klairs.com/shop/search_result.php?search_str=%EB%B9%84%EA%B1%B4&amp;cate=1030&amp;ctype=big\">ALL</a>]"
      ]
     },
     "execution_count": 4,
     "metadata": {},
     "output_type": "execute_result"
    }
   ],
   "source": [
    "# 소분류명 수집\n",
    "so_cat = html.find_all('a', class_='selected')\n",
    "print(len(so_cat))\n",
    "so_cat"
   ]
  },
  {
   "cell_type": "code",
   "execution_count": 5,
   "metadata": {},
   "outputs": [
    {
     "data": {
      "text/plain": [
       "'클렌징'"
      ]
     },
     "execution_count": 5,
     "metadata": {},
     "output_type": "execute_result"
    }
   ],
   "source": [
    "so_cat[0].text"
   ]
  },
  {
   "cell_type": "code",
   "execution_count": 36,
   "metadata": {},
   "outputs": [
    {
     "name": "stdout",
     "output_type": "stream",
     "text": [
      "11\n"
     ]
    },
    {
     "data": {
      "text/plain": [
       "[<p class=\"name\"><a href=\"https://www.klairs.com/shop/detail.php?pno=1679091C5A880FAF6FB5E6087EB1B2DC&amp;rURL=https%3A%2F%2Fwww.klairs.com%2Fshop%2Fsearch_result.php%3Fsearch_str%3D%25EB%25B9%2584%25EA%25B1%25B4%26cate%3D1030%26ctype%3Dbig&amp;ctype=1&amp;cno1=\">리치 모이스트 포밍 클렌저</a></p>,\n",
       " <p class=\"name\"><a href=\"https://www.klairs.com/shop/detail.php?pno=6C3CF77D52820CD0FE646D38BC2145CA&amp;rURL=https%3A%2F%2Fwww.klairs.com%2Fshop%2Fsearch_result.php%3Fsearch_str%3D%25EB%25B9%2584%25EA%25B1%25B4%26cate%3D1030%26ctype%3Dbig&amp;ctype=1&amp;cno1=\">젠틀 블랙 프레쉬 클렌징 오일</a></p>,\n",
       " <p class=\"name\"><a href=\"https://www.klairs.com/shop/detail.php?pno=F718499C1C8CEF6730F9FD03C8125CAB&amp;rURL=https%3A%2F%2Fwww.klairs.com%2Fshop%2Fsearch_result.php%3Fsearch_str%3D%25EB%25B9%2584%25EA%25B1%25B4%26cate%3D1030%26ctype%3Dbig&amp;ctype=1&amp;cno1=\">젠틀 블랙 딥 클렌징 오일</a></p>]"
      ]
     },
     "execution_count": 36,
     "metadata": {},
     "output_type": "execute_result"
    }
   ],
   "source": [
    "# 상품명 수집\n",
    "item = html.find_all('p', class_='name')\n",
    "print(len(item))\n",
    "item[:3]"
   ]
  },
  {
   "cell_type": "code",
   "execution_count": 39,
   "metadata": {},
   "outputs": [
    {
     "name": "stdout",
     "output_type": "stream",
     "text": [
      "11\n"
     ]
    },
    {
     "data": {
      "text/plain": [
       "[<p class=\"price\">\n",
       " <span class=\"sprice\">12,500</span>원\n",
       " \t\t\n",
       " \t</p>,\n",
       " <p class=\"price\">\n",
       " <span class=\"sprice\">16,900</span>원\n",
       " \t\t\n",
       " \t</p>,\n",
       " <p class=\"price\">\n",
       " <span class=\"sprice\">14,900</span>원\n",
       " \t\t\n",
       " \t</p>,\n",
       " <p class=\"price\">\n",
       " <span class=\"sale\">10%</span>\n",
       " <span class=\"sprice\">22,800</span>원\n",
       " \t\t<span class=\"nprice\">25,400</span>\n",
       " </p>,\n",
       " <p class=\"price\">\n",
       " <span class=\"sale\">10%</span>\n",
       " <span class=\"sprice\">39,500</span>원\n",
       " \t\t<span class=\"nprice\">43,900</span>\n",
       " </p>]"
      ]
     },
     "execution_count": 39,
     "metadata": {},
     "output_type": "execute_result"
    }
   ],
   "source": [
    "# 가격 수집 (정가, 할인가)\n",
    "price = html.find_all('p', class_='price')\n",
    "print(len(price))\n",
    "price[:5]"
   ]
  },
  {
   "cell_type": "code",
   "execution_count": 40,
   "metadata": {},
   "outputs": [
    {
     "name": "stdout",
     "output_type": "stream",
     "text": [
      "할인가: 22,800\n",
      "원가: 25,400원\n"
     ]
    }
   ],
   "source": [
    "if price[3].find('span', class_='sale') is None:\n",
    "    print(price[3].text.strip())\n",
    "else:\n",
    "    print('할인가:', price[3].find('span', class_='sprice').text)\n",
    "    print('원가:', price[3].find('span', class_='nprice').text + '원')"
   ]
  },
  {
   "cell_type": "code",
   "execution_count": 46,
   "metadata": {},
   "outputs": [],
   "source": [
    "# 최종 스크래핑 코드\n",
    "def cosmetic_scraping(category):\n",
    "    \n",
    "    total_data = []\n",
    "    for cat in category:\n",
    "        url = f'https://www.klairs.com/shop/search_result.php?search_str=%EB%B9%84%EA%B1%B4&cate={cat}&ctype=big'\n",
    "        html = BeautifulSoup(requests.get(url, headers={'User-agent': 'Mozilla/5.0'}).text, \"lxml\")\n",
    "        \n",
    "        # 소분류명, 상품명, 가격 (정가, 할인가)\n",
    "        so_cat = html.find_all('a', class_='selected')[0].text\n",
    "        item = html.find_all('p', class_='name')\n",
    "        price = html.find_all('p', class_='price')\n",
    "\n",
    "        data = []\n",
    "        for i in range(len(item)):\n",
    "            item2 = item[i].text\n",
    "            if price[i].find('span', class_='sale') is None:\n",
    "                price2 = price[i].text.strip()\n",
    "                price3 = ' '\n",
    "            else:\n",
    "                price2 = price[i].find('span', class_='nprice').text + '원'\n",
    "                price3 = price[i].find('span', class_='sprice').text + '원'\n",
    "            data.append([so_cat, item2, price2, price3])\n",
    "        total_data.append(data)\n",
    "    \n",
    "    df = pd.DataFrame(sum(total_data, []))\n",
    "    df.columns = ['소분류명', '상품명', '정가', '할인가']\n",
    "    return df"
   ]
  },
  {
   "cell_type": "code",
   "execution_count": 47,
   "metadata": {},
   "outputs": [
    {
     "name": "stdout",
     "output_type": "stream",
     "text": [
      "(36, 4)\n"
     ]
    },
    {
     "data": {
      "text/html": [
       "<div>\n",
       "<style scoped>\n",
       "    .dataframe tbody tr th:only-of-type {\n",
       "        vertical-align: middle;\n",
       "    }\n",
       "\n",
       "    .dataframe tbody tr th {\n",
       "        vertical-align: top;\n",
       "    }\n",
       "\n",
       "    .dataframe thead th {\n",
       "        text-align: right;\n",
       "    }\n",
       "</style>\n",
       "<table border=\"1\" class=\"dataframe\">\n",
       "  <thead>\n",
       "    <tr style=\"text-align: right;\">\n",
       "      <th></th>\n",
       "      <th>소분류명</th>\n",
       "      <th>상품명</th>\n",
       "      <th>정가</th>\n",
       "      <th>할인가</th>\n",
       "    </tr>\n",
       "  </thead>\n",
       "  <tbody>\n",
       "    <tr>\n",
       "      <th>0</th>\n",
       "      <td>클렌징</td>\n",
       "      <td>리치 모이스트 포밍 클렌저</td>\n",
       "      <td>12,500원</td>\n",
       "      <td></td>\n",
       "    </tr>\n",
       "    <tr>\n",
       "      <th>1</th>\n",
       "      <td>클렌징</td>\n",
       "      <td>젠틀 블랙 프레쉬 클렌징 오일</td>\n",
       "      <td>16,900원</td>\n",
       "      <td></td>\n",
       "    </tr>\n",
       "    <tr>\n",
       "      <th>2</th>\n",
       "      <td>클렌징</td>\n",
       "      <td>젠틀 블랙 딥 클렌징 오일</td>\n",
       "      <td>14,900원</td>\n",
       "      <td></td>\n",
       "    </tr>\n",
       "    <tr>\n",
       "      <th>3</th>\n",
       "      <td>클렌징</td>\n",
       "      <td>GENTLE BLACK duo</td>\n",
       "      <td>25,400원</td>\n",
       "      <td>22,800원</td>\n",
       "    </tr>\n",
       "    <tr>\n",
       "      <th>4</th>\n",
       "      <td>클렌징</td>\n",
       "      <td>GENTLE BLACK BOX</td>\n",
       "      <td>43,900원</td>\n",
       "      <td>39,500원</td>\n",
       "    </tr>\n",
       "  </tbody>\n",
       "</table>\n",
       "</div>"
      ],
      "text/plain": [
       "  소분류명               상품명       정가      할인가\n",
       "0  클렌징    리치 모이스트 포밍 클렌저  12,500원         \n",
       "1  클렌징  젠틀 블랙 프레쉬 클렌징 오일  16,900원         \n",
       "2  클렌징    젠틀 블랙 딥 클렌징 오일  14,900원         \n",
       "3  클렌징  GENTLE BLACK duo  25,400원  22,800원\n",
       "4  클렌징  GENTLE BLACK BOX  43,900원  39,500원"
      ]
     },
     "execution_count": 47,
     "metadata": {},
     "output_type": "execute_result"
    }
   ],
   "source": [
    "# 카테고리 선정 후 수집\n",
    "df = cosmetic_scraping(['1030','1005','1024','1025','1028'])\n",
    "print(df.shape)\n",
    "df.head()"
   ]
  },
  {
   "cell_type": "code",
   "execution_count": 49,
   "metadata": {},
   "outputs": [
    {
     "name": "stdout",
     "output_type": "stream",
     "text": [
      "(36, 5)\n"
     ]
    },
    {
     "data": {
      "text/html": [
       "<div>\n",
       "<style scoped>\n",
       "    .dataframe tbody tr th:only-of-type {\n",
       "        vertical-align: middle;\n",
       "    }\n",
       "\n",
       "    .dataframe tbody tr th {\n",
       "        vertical-align: top;\n",
       "    }\n",
       "\n",
       "    .dataframe thead th {\n",
       "        text-align: right;\n",
       "    }\n",
       "</style>\n",
       "<table border=\"1\" class=\"dataframe\">\n",
       "  <thead>\n",
       "    <tr style=\"text-align: right;\">\n",
       "      <th></th>\n",
       "      <th>브랜드명</th>\n",
       "      <th>소분류명</th>\n",
       "      <th>상품명</th>\n",
       "      <th>정가</th>\n",
       "      <th>할인가</th>\n",
       "    </tr>\n",
       "  </thead>\n",
       "  <tbody>\n",
       "    <tr>\n",
       "      <th>0</th>\n",
       "      <td>클레어스</td>\n",
       "      <td>클렌징</td>\n",
       "      <td>리치 모이스트 포밍 클렌저</td>\n",
       "      <td>12,500원</td>\n",
       "      <td></td>\n",
       "    </tr>\n",
       "    <tr>\n",
       "      <th>1</th>\n",
       "      <td>클레어스</td>\n",
       "      <td>클렌징</td>\n",
       "      <td>젠틀 블랙 프레쉬 클렌징 오일</td>\n",
       "      <td>16,900원</td>\n",
       "      <td></td>\n",
       "    </tr>\n",
       "    <tr>\n",
       "      <th>2</th>\n",
       "      <td>클레어스</td>\n",
       "      <td>클렌징</td>\n",
       "      <td>젠틀 블랙 딥 클렌징 오일</td>\n",
       "      <td>14,900원</td>\n",
       "      <td></td>\n",
       "    </tr>\n",
       "    <tr>\n",
       "      <th>3</th>\n",
       "      <td>클레어스</td>\n",
       "      <td>클렌징</td>\n",
       "      <td>GENTLE BLACK duo</td>\n",
       "      <td>25,400원</td>\n",
       "      <td>22,800원</td>\n",
       "    </tr>\n",
       "    <tr>\n",
       "      <th>4</th>\n",
       "      <td>클레어스</td>\n",
       "      <td>클렌징</td>\n",
       "      <td>GENTLE BLACK BOX</td>\n",
       "      <td>43,900원</td>\n",
       "      <td>39,500원</td>\n",
       "    </tr>\n",
       "  </tbody>\n",
       "</table>\n",
       "</div>"
      ],
      "text/plain": [
       "   브랜드명 소분류명               상품명       정가      할인가\n",
       "0  클레어스  클렌징    리치 모이스트 포밍 클렌저  12,500원         \n",
       "1  클레어스  클렌징  젠틀 블랙 프레쉬 클렌징 오일  16,900원         \n",
       "2  클레어스  클렌징    젠틀 블랙 딥 클렌징 오일  14,900원         \n",
       "3  클레어스  클렌징  GENTLE BLACK duo  25,400원  22,800원\n",
       "4  클레어스  클렌징  GENTLE BLACK BOX  43,900원  39,500원"
      ]
     },
     "execution_count": 49,
     "metadata": {},
     "output_type": "execute_result"
    }
   ],
   "source": [
    "df['브랜드명'] = '클레어스'\n",
    "df = df[['브랜드명','소분류명','상품명','정가','할인가']]\n",
    "df.reset_index(drop=True, inplace=True)\n",
    "print(df.shape)\n",
    "df.head()"
   ]
  },
  {
   "cell_type": "code",
   "execution_count": 50,
   "metadata": {},
   "outputs": [],
   "source": [
    "df.to_csv('./cosmetic/클레어스.csv', index=False)"
   ]
  },
  {
   "cell_type": "code",
   "execution_count": 51,
   "metadata": {},
   "outputs": [
    {
     "data": {
      "text/html": [
       "<div>\n",
       "<style scoped>\n",
       "    .dataframe tbody tr th:only-of-type {\n",
       "        vertical-align: middle;\n",
       "    }\n",
       "\n",
       "    .dataframe tbody tr th {\n",
       "        vertical-align: top;\n",
       "    }\n",
       "\n",
       "    .dataframe thead th {\n",
       "        text-align: right;\n",
       "    }\n",
       "</style>\n",
       "<table border=\"1\" class=\"dataframe\">\n",
       "  <thead>\n",
       "    <tr style=\"text-align: right;\">\n",
       "      <th></th>\n",
       "      <th>브랜드명</th>\n",
       "      <th>소분류명</th>\n",
       "      <th>상품명</th>\n",
       "      <th>정가</th>\n",
       "      <th>할인가</th>\n",
       "    </tr>\n",
       "  </thead>\n",
       "  <tbody>\n",
       "  </tbody>\n",
       "</table>\n",
       "</div>"
      ],
      "text/plain": [
       "Empty DataFrame\n",
       "Columns: [브랜드명, 소분류명, 상품명, 정가, 할인가]\n",
       "Index: []"
      ]
     },
     "execution_count": 51,
     "metadata": {},
     "output_type": "execute_result"
    }
   ],
   "source": [
    "df[df.상품명.duplicated()]"
   ]
  },
  {
   "cell_type": "markdown",
   "metadata": {},
   "source": [
    "# 4. 이든 미네랄"
   ]
  },
  {
   "cell_type": "code",
   "execution_count": 52,
   "metadata": {},
   "outputs": [],
   "source": [
    "url = 'https://idunminerals.co.kr/category/face/29/'\n",
    "html = BeautifulSoup(requests.get(url, headers={'User-agent': 'Mozilla/5.0'}).text, \"lxml\")\n",
    "# html"
   ]
  },
  {
   "cell_type": "code",
   "execution_count": 55,
   "metadata": {},
   "outputs": [
    {
     "name": "stdout",
     "output_type": "stream",
     "text": [
      "12\n"
     ]
    },
    {
     "data": {
      "text/plain": [
       "[<strong class=\"name\"><a class=\"\" href=\"/product/아이리스-페이스-프라이머/9/category/29/display/1/\"><span class=\"title displaynone\"><span style=\"font-size:15px;color:#282623;\">상품명</span> :</span> <span style=\"font-size:15px;color:#282623;\">아이리스 페이스 프라이머</span></a></strong>,\n",
       " <strong class=\"name\"><a class=\"\" href=\"/product/파우더-파운데이션/13/category/29/display/1/\"><span class=\"title displaynone\"><span style=\"font-size:15px;color:#282623;\">상품명</span> :</span> <span style=\"font-size:15px;color:#282623;\">파우더 파운데이션</span></a></strong>,\n",
       " <strong class=\"name\"><a class=\"\" href=\"/product/미네랄-브론저/18/category/29/display/1/\"><span class=\"title displaynone\"><span style=\"font-size:15px;color:#282623;\">상품명</span> :</span> <span style=\"font-size:15px;color:#282623;\">미네랄 브론저</span></a></strong>]"
      ]
     },
     "execution_count": 55,
     "metadata": {},
     "output_type": "execute_result"
    }
   ],
   "source": [
    "# 상품명 수집\n",
    "item = html.find_all('strong', class_='name')\n",
    "print(len(item))\n",
    "item[:3]"
   ]
  },
  {
   "cell_type": "code",
   "execution_count": 58,
   "metadata": {},
   "outputs": [
    {
     "data": {
      "text/plain": [
       "'아이리스 페이스 프라이머'"
      ]
     },
     "execution_count": 58,
     "metadata": {},
     "output_type": "execute_result"
    }
   ],
   "source": [
    "item[0].text.replace('상품명 : ', '')"
   ]
  },
  {
   "cell_type": "code",
   "execution_count": 83,
   "metadata": {},
   "outputs": [
    {
     "name": "stdout",
     "output_type": "stream",
     "text": [
      "12\n"
     ]
    },
    {
     "data": {
      "text/plain": [
       "[<ul class=\"xans-element- xans-product xans-product-listitem spec\"><li class=\" display판매가 xans-record-\">\n",
       " <strong class=\"title displaynone\"><span style=\"font-size:14px;color:#282623;\">판매가</span> :</strong> <span style=\"font-size:14px;color:#282623;\">42,000원</span><span id=\"span_product_tax_type_text\" style=\"\"> </span></li>\n",
       " </ul>,\n",
       " <ul class=\"xans-element- xans-product xans-product-listitem spec\"><li class=\" display판매가 xans-record-\">\n",
       " <strong class=\"title displaynone\"><span style=\"font-size:14px;color:#282623;\">판매가</span> :</strong> <span style=\"font-size:14px;color:#282623;\">48,000원</span><span id=\"span_product_tax_type_text\" style=\"\"> </span></li>\n",
       " </ul>]"
      ]
     },
     "execution_count": 83,
     "metadata": {},
     "output_type": "execute_result"
    }
   ],
   "source": [
    "# 가격 수집 (정가, 할인가)\n",
    "price = html.find_all('ul', class_='xans-element- xans-product xans-product-listitem spec')\n",
    "print(len(price))\n",
    "price[:2]"
   ]
  },
  {
   "cell_type": "code",
   "execution_count": 86,
   "metadata": {},
   "outputs": [
    {
     "name": "stdout",
     "output_type": "stream",
     "text": [
      "할인가: 65,600원\n",
      "원가: 82,000원\n"
     ]
    }
   ],
   "source": [
    "if price[3].find('li', class_=' display할인판매가 xans-record-') is None:\n",
    "    print(price[3].find('li', class_=' display판매가 xans-record-').text.replace('판매가 : ', '').strip())\n",
    "else:\n",
    "    print('할인가:', price[3].find('li', class_=' display할인판매가 xans-record-').text.replace('할인판매가 : ', '').strip())\n",
    "    print('원가:', price[3].find('li', class_=' display판매가 xans-record-').text.replace('판매가 : ', '').strip())"
   ]
  },
  {
   "cell_type": "code",
   "execution_count": 94,
   "metadata": {},
   "outputs": [],
   "source": [
    "# 최종 스크래핑 코드\n",
    "def cosmetic_scraping(category, number):\n",
    "    \n",
    "    total_data = []\n",
    "    for cat, num in zip(category, number):\n",
    "        url = f'https://idunminerals.co.kr/category/{cat}/{num}/'\n",
    "        html = BeautifulSoup(requests.get(url, headers={'User-agent': 'Mozilla/5.0'}).text, \"lxml\")\n",
    "        \n",
    "        # 소분류명, 상품명, 가격 (정가, 할인가)\n",
    "        so_cat = cat\n",
    "        item = html.find_all('strong', class_='name')\n",
    "        price = html.find_all('ul', class_='xans-element- xans-product xans-product-listitem spec')\n",
    "\n",
    "        data = []\n",
    "        for i in range(len(item)):\n",
    "            item2 = item[i].text.replace('상품명 : ', '')\n",
    "            price2 = price[i].find('li', class_=' display판매가 xans-record-').text.replace('판매가 : ', '').strip()\n",
    "            if price[i].find('li', class_=' display할인판매가 xans-record-') is None:\n",
    "                price3 = ' '\n",
    "            else:\n",
    "                price3 = price[i].find('li', class_=' display할인판매가 xans-record-').text.replace('할인판매가 : ', '').strip()\n",
    "            data.append([so_cat, item2, price2, price3])\n",
    "        total_data.append(data)\n",
    "    \n",
    "    df = pd.DataFrame(sum(total_data, []))\n",
    "    df.columns = ['소분류명', '상품명', '정가', '할인가']\n",
    "    return df"
   ]
  },
  {
   "cell_type": "code",
   "execution_count": 98,
   "metadata": {},
   "outputs": [
    {
     "name": "stdout",
     "output_type": "stream",
     "text": [
      "(26, 4)\n"
     ]
    },
    {
     "data": {
      "text/html": [
       "<div>\n",
       "<style scoped>\n",
       "    .dataframe tbody tr th:only-of-type {\n",
       "        vertical-align: middle;\n",
       "    }\n",
       "\n",
       "    .dataframe tbody tr th {\n",
       "        vertical-align: top;\n",
       "    }\n",
       "\n",
       "    .dataframe thead th {\n",
       "        text-align: right;\n",
       "    }\n",
       "</style>\n",
       "<table border=\"1\" class=\"dataframe\">\n",
       "  <thead>\n",
       "    <tr style=\"text-align: right;\">\n",
       "      <th></th>\n",
       "      <th>소분류명</th>\n",
       "      <th>상품명</th>\n",
       "      <th>정가</th>\n",
       "      <th>할인가</th>\n",
       "    </tr>\n",
       "  </thead>\n",
       "  <tbody>\n",
       "    <tr>\n",
       "      <th>0</th>\n",
       "      <td>프라이머</td>\n",
       "      <td>아이리스 페이스 프라이머</td>\n",
       "      <td>42,000원</td>\n",
       "      <td></td>\n",
       "    </tr>\n",
       "    <tr>\n",
       "      <th>1</th>\n",
       "      <td>파운데이션</td>\n",
       "      <td>롱웨어 리퀴드 파운데이션 노르딕 베일</td>\n",
       "      <td>48,000원</td>\n",
       "      <td></td>\n",
       "    </tr>\n",
       "    <tr>\n",
       "      <th>2</th>\n",
       "      <td>파운데이션</td>\n",
       "      <td>모이스처 리퀴드 파운데이션 노르스켄</td>\n",
       "      <td>48,000원</td>\n",
       "      <td></td>\n",
       "    </tr>\n",
       "    <tr>\n",
       "      <th>3</th>\n",
       "      <td>파운데이션</td>\n",
       "      <td>파우더 파운데이션</td>\n",
       "      <td>48,000원</td>\n",
       "      <td></td>\n",
       "    </tr>\n",
       "    <tr>\n",
       "      <th>4</th>\n",
       "      <td>블러셔</td>\n",
       "      <td>미네랄 블러셔 &amp; 브러쉬 세트</td>\n",
       "      <td>66,000원</td>\n",
       "      <td>52,800원</td>\n",
       "    </tr>\n",
       "  </tbody>\n",
       "</table>\n",
       "</div>"
      ],
      "text/plain": [
       "    소분류명                   상품명       정가      할인가\n",
       "0   프라이머         아이리스 페이스 프라이머  42,000원         \n",
       "1  파운데이션  롱웨어 리퀴드 파운데이션 노르딕 베일  48,000원         \n",
       "2  파운데이션   모이스처 리퀴드 파운데이션 노르스켄  48,000원         \n",
       "3  파운데이션             파우더 파운데이션  48,000원         \n",
       "4    블러셔      미네랄 블러셔 & 브러쉬 세트  66,000원  52,800원"
      ]
     },
     "execution_count": 98,
     "metadata": {},
     "output_type": "execute_result"
    }
   ],
   "source": [
    "# 카테고리 선정 후 수집\n",
    "category = ['프라이머','파운데이션','블러셔','컨투어링','파우더',\\\n",
    "            '마스카라','아이섀도우','페이스','아이','cleansing']\n",
    "number = ['52','54','56','57','58','64','65','68','69','32']\n",
    "df = cosmetic_scraping(category, number)\n",
    "print(df.shape)\n",
    "df.head()"
   ]
  },
  {
   "cell_type": "code",
   "execution_count": 99,
   "metadata": {},
   "outputs": [
    {
     "name": "stdout",
     "output_type": "stream",
     "text": [
      "(26, 5)\n"
     ]
    },
    {
     "data": {
      "text/html": [
       "<div>\n",
       "<style scoped>\n",
       "    .dataframe tbody tr th:only-of-type {\n",
       "        vertical-align: middle;\n",
       "    }\n",
       "\n",
       "    .dataframe tbody tr th {\n",
       "        vertical-align: top;\n",
       "    }\n",
       "\n",
       "    .dataframe thead th {\n",
       "        text-align: right;\n",
       "    }\n",
       "</style>\n",
       "<table border=\"1\" class=\"dataframe\">\n",
       "  <thead>\n",
       "    <tr style=\"text-align: right;\">\n",
       "      <th></th>\n",
       "      <th>브랜드명</th>\n",
       "      <th>소분류명</th>\n",
       "      <th>상품명</th>\n",
       "      <th>정가</th>\n",
       "      <th>할인가</th>\n",
       "    </tr>\n",
       "  </thead>\n",
       "  <tbody>\n",
       "    <tr>\n",
       "      <th>0</th>\n",
       "      <td>이든 미네랄</td>\n",
       "      <td>프라이머</td>\n",
       "      <td>아이리스 페이스 프라이머</td>\n",
       "      <td>42,000원</td>\n",
       "      <td></td>\n",
       "    </tr>\n",
       "    <tr>\n",
       "      <th>1</th>\n",
       "      <td>이든 미네랄</td>\n",
       "      <td>파운데이션</td>\n",
       "      <td>롱웨어 리퀴드 파운데이션 노르딕 베일</td>\n",
       "      <td>48,000원</td>\n",
       "      <td></td>\n",
       "    </tr>\n",
       "    <tr>\n",
       "      <th>2</th>\n",
       "      <td>이든 미네랄</td>\n",
       "      <td>파운데이션</td>\n",
       "      <td>모이스처 리퀴드 파운데이션 노르스켄</td>\n",
       "      <td>48,000원</td>\n",
       "      <td></td>\n",
       "    </tr>\n",
       "    <tr>\n",
       "      <th>3</th>\n",
       "      <td>이든 미네랄</td>\n",
       "      <td>파운데이션</td>\n",
       "      <td>파우더 파운데이션</td>\n",
       "      <td>48,000원</td>\n",
       "      <td></td>\n",
       "    </tr>\n",
       "    <tr>\n",
       "      <th>4</th>\n",
       "      <td>이든 미네랄</td>\n",
       "      <td>블러셔</td>\n",
       "      <td>미네랄 블러셔 &amp; 브러쉬 세트</td>\n",
       "      <td>66,000원</td>\n",
       "      <td>52,800원</td>\n",
       "    </tr>\n",
       "  </tbody>\n",
       "</table>\n",
       "</div>"
      ],
      "text/plain": [
       "     브랜드명   소분류명                   상품명       정가      할인가\n",
       "0  이든 미네랄   프라이머         아이리스 페이스 프라이머  42,000원         \n",
       "1  이든 미네랄  파운데이션  롱웨어 리퀴드 파운데이션 노르딕 베일  48,000원         \n",
       "2  이든 미네랄  파운데이션   모이스처 리퀴드 파운데이션 노르스켄  48,000원         \n",
       "3  이든 미네랄  파운데이션             파우더 파운데이션  48,000원         \n",
       "4  이든 미네랄    블러셔      미네랄 블러셔 & 브러쉬 세트  66,000원  52,800원"
      ]
     },
     "execution_count": 99,
     "metadata": {},
     "output_type": "execute_result"
    }
   ],
   "source": [
    "df['브랜드명'] = '이든 미네랄'\n",
    "df = df[['브랜드명','소분류명','상품명','정가','할인가']]\n",
    "df.reset_index(drop=True, inplace=True)\n",
    "print(df.shape)\n",
    "df.head()"
   ]
  },
  {
   "cell_type": "code",
   "execution_count": 100,
   "metadata": {},
   "outputs": [],
   "source": [
    "df.to_csv('./cosmetic/이든 미네랄.csv', index=False)"
   ]
  },
  {
   "cell_type": "code",
   "execution_count": 101,
   "metadata": {},
   "outputs": [
    {
     "data": {
      "text/html": [
       "<div>\n",
       "<style scoped>\n",
       "    .dataframe tbody tr th:only-of-type {\n",
       "        vertical-align: middle;\n",
       "    }\n",
       "\n",
       "    .dataframe tbody tr th {\n",
       "        vertical-align: top;\n",
       "    }\n",
       "\n",
       "    .dataframe thead th {\n",
       "        text-align: right;\n",
       "    }\n",
       "</style>\n",
       "<table border=\"1\" class=\"dataframe\">\n",
       "  <thead>\n",
       "    <tr style=\"text-align: right;\">\n",
       "      <th></th>\n",
       "      <th>브랜드명</th>\n",
       "      <th>소분류명</th>\n",
       "      <th>상품명</th>\n",
       "      <th>정가</th>\n",
       "      <th>할인가</th>\n",
       "    </tr>\n",
       "  </thead>\n",
       "  <tbody>\n",
       "  </tbody>\n",
       "</table>\n",
       "</div>"
      ],
      "text/plain": [
       "Empty DataFrame\n",
       "Columns: [브랜드명, 소분류명, 상품명, 정가, 할인가]\n",
       "Index: []"
      ]
     },
     "execution_count": 101,
     "metadata": {},
     "output_type": "execute_result"
    }
   ],
   "source": [
    "df[df.상품명.duplicated()]"
   ]
  },
  {
   "cell_type": "markdown",
   "metadata": {},
   "source": [
    "# 5. 오엠"
   ]
  },
  {
   "cell_type": "code",
   "execution_count": 2,
   "metadata": {},
   "outputs": [],
   "source": [
    "url = 'https://www.omkorea.co.kr/category/face-oils-serums/46/'\n",
    "html = BeautifulSoup(requests.get(url, headers={'User-agent': 'Mozilla/5.0'}).text, \"lxml\")\n",
    "# html"
   ]
  },
  {
   "cell_type": "code",
   "execution_count": 6,
   "metadata": {},
   "outputs": [
    {
     "name": "stdout",
     "output_type": "stream",
     "text": [
      "7\n"
     ]
    },
    {
     "data": {
      "text/plain": [
       "'리포솜 럭스 앰플 30ml'"
      ]
     },
     "execution_count": 6,
     "metadata": {},
     "output_type": "execute_result"
    }
   ],
   "source": [
    "# 상품명 수집\n",
    "item = html.find_all('h3', class_='product-list-title')\n",
    "print(len(item))\n",
    "item[0].text.strip()"
   ]
  },
  {
   "cell_type": "code",
   "execution_count": 22,
   "metadata": {},
   "outputs": [
    {
     "name": "stdout",
     "output_type": "stream",
     "text": [
      "7\n"
     ]
    },
    {
     "data": {
      "text/plain": [
       "'108,000원'"
      ]
     },
     "execution_count": 22,
     "metadata": {},
     "output_type": "execute_result"
    }
   ],
   "source": [
    "# 가격 수집 (정가, 할인가)\n",
    "price = html.find_all('ul', class_='xans-element- xans-product xans-product-listitem product-list-meta')\n",
    "print(len(price))\n",
    "price[0].find_all('span', style='font-size:12px;color:#8781bd;font-weight:bold;')[1].text"
   ]
  },
  {
   "cell_type": "code",
   "execution_count": 31,
   "metadata": {},
   "outputs": [
    {
     "name": "stdout",
     "output_type": "stream",
     "text": [
      "할인가: 158,400원 (10%할인)\n",
      "원가: 176,000원\n"
     ]
    }
   ],
   "source": [
    "if price[2].find_all('span', style='font-size:18px;color:#da2127;') == []:\n",
    "    print(price[2].find_all('span', style='font-size:12px;color:#8781bd;font-weight:bold;')[1].text)\n",
    "else:\n",
    "    print('할인가:', price[2].find_all('span', style='font-size:18px;color:#da2127;')[1].text)\n",
    "    print('원가:', price[2].find('span', style='font-size:12px;color:#8781bd;font-weight:bold;text-decoration:line-through;').text)"
   ]
  },
  {
   "cell_type": "code",
   "execution_count": 46,
   "metadata": {},
   "outputs": [],
   "source": [
    "# 최종 스크래핑 코드\n",
    "def cosmetic_scraping(category, number, page):\n",
    "    \n",
    "    total_data = []\n",
    "    for cat, num in zip(category, number):\n",
    "        for p in range(1, int(page)+1):\n",
    "            url = f'https://www.omkorea.co.kr/category/{cat}/{num}/?page={str(p)}'\n",
    "            html = BeautifulSoup(requests.get(url, headers={'User-agent': 'Mozilla/5.0'}).text, \"lxml\")\n",
    "\n",
    "            # 소분류명, 상품명, 가격 (정가, 할인가)\n",
    "            so_cat = cat\n",
    "            item = html.find_all('h3', class_='product-list-title')\n",
    "            price = html.find_all('ul', class_='xans-element- xans-product xans-product-listitem product-list-meta')\n",
    "\n",
    "            data = []\n",
    "            for i in range(len(item)):\n",
    "                item2 = item[i].text.strip()\n",
    "                if price[i].find_all('span', style='font-size:18px;color:#da2127;') == []:\n",
    "                    price2 = price[i].find_all('span', style='font-size:12px;color:#8781bd;font-weight:bold;')[1].text\n",
    "                    price3 = ' '\n",
    "                else:\n",
    "                    price2 = price[i].find('span', style='font-size:12px;color:#8781bd;font-weight:bold;text-decoration:line-through;').text\n",
    "                    price3 = price[i].find_all('span', style='font-size:18px;color:#da2127;')[1].text\n",
    "                data.append([so_cat, item2, price2, price3])\n",
    "            total_data.append(data)\n",
    "    \n",
    "    df = pd.DataFrame(sum(total_data, []))\n",
    "    df.columns = ['소분류명', '상품명', '정가', '할인가']\n",
    "    return df"
   ]
  },
  {
   "cell_type": "code",
   "execution_count": 39,
   "metadata": {},
   "outputs": [
    {
     "name": "stdout",
     "output_type": "stream",
     "text": [
      "(34, 4)\n"
     ]
    },
    {
     "data": {
      "text/html": [
       "<div>\n",
       "<style scoped>\n",
       "    .dataframe tbody tr th:only-of-type {\n",
       "        vertical-align: middle;\n",
       "    }\n",
       "\n",
       "    .dataframe tbody tr th {\n",
       "        vertical-align: top;\n",
       "    }\n",
       "\n",
       "    .dataframe thead th {\n",
       "        text-align: right;\n",
       "    }\n",
       "</style>\n",
       "<table border=\"1\" class=\"dataframe\">\n",
       "  <thead>\n",
       "    <tr style=\"text-align: right;\">\n",
       "      <th></th>\n",
       "      <th>소분류명</th>\n",
       "      <th>상품명</th>\n",
       "      <th>정가</th>\n",
       "      <th>할인가</th>\n",
       "    </tr>\n",
       "  </thead>\n",
       "  <tbody>\n",
       "    <tr>\n",
       "      <th>0</th>\n",
       "      <td>cleansing</td>\n",
       "      <td>[이효리클렌징]세이지 마사지 클린징 밀크 250ml</td>\n",
       "      <td>80,000원</td>\n",
       "      <td></td>\n",
       "    </tr>\n",
       "    <tr>\n",
       "      <th>1</th>\n",
       "      <td>cleansing</td>\n",
       "      <td>트루 라벤더 솝 80g</td>\n",
       "      <td>25,000원</td>\n",
       "      <td></td>\n",
       "    </tr>\n",
       "    <tr>\n",
       "      <th>2</th>\n",
       "      <td>cleansing</td>\n",
       "      <td>로즈 솝 80g</td>\n",
       "      <td>25,000원</td>\n",
       "      <td></td>\n",
       "    </tr>\n",
       "    <tr>\n",
       "      <th>3</th>\n",
       "      <td>cleansing</td>\n",
       "      <td>캐모마일 솝 80g</td>\n",
       "      <td>25,000원</td>\n",
       "      <td></td>\n",
       "    </tr>\n",
       "    <tr>\n",
       "      <th>4</th>\n",
       "      <td>toner</td>\n",
       "      <td>부처브룸 토너 아스트린젠트 200ml</td>\n",
       "      <td>60,000원</td>\n",
       "      <td></td>\n",
       "    </tr>\n",
       "  </tbody>\n",
       "</table>\n",
       "</div>"
      ],
      "text/plain": [
       "        소분류명                           상품명       정가 할인가\n",
       "0  cleansing  [이효리클렌징]세이지 마사지 클린징 밀크 250ml  80,000원    \n",
       "1  cleansing                  트루 라벤더 솝 80g  25,000원    \n",
       "2  cleansing                      로즈 솝 80g  25,000원    \n",
       "3  cleansing                    캐모마일 솝 80g  25,000원    \n",
       "4      toner          부처브룸 토너 아스트린젠트 200ml  60,000원    "
      ]
     },
     "execution_count": 39,
     "metadata": {},
     "output_type": "execute_result"
    }
   ],
   "source": [
    "# 카테고리 선정 후 수집\n",
    "category = ['cleansing','toner','face-oils-serums','creams','special-care',\\\n",
    "            'lotions','body-oils','cleansers','bath-preparation']\n",
    "number = ['28','29','46','47','48','50','52','33','32']\n",
    "df = cosmetic_scraping(category, number, '1')\n",
    "print(df.shape)\n",
    "df.head()"
   ]
  },
  {
   "cell_type": "code",
   "execution_count": 47,
   "metadata": {},
   "outputs": [
    {
     "name": "stdout",
     "output_type": "stream",
     "text": [
      "(16, 4)\n"
     ]
    },
    {
     "data": {
      "text/html": [
       "<div>\n",
       "<style scoped>\n",
       "    .dataframe tbody tr th:only-of-type {\n",
       "        vertical-align: middle;\n",
       "    }\n",
       "\n",
       "    .dataframe tbody tr th {\n",
       "        vertical-align: top;\n",
       "    }\n",
       "\n",
       "    .dataframe thead th {\n",
       "        text-align: right;\n",
       "    }\n",
       "</style>\n",
       "<table border=\"1\" class=\"dataframe\">\n",
       "  <thead>\n",
       "    <tr style=\"text-align: right;\">\n",
       "      <th></th>\n",
       "      <th>소분류명</th>\n",
       "      <th>상품명</th>\n",
       "      <th>정가</th>\n",
       "      <th>할인가</th>\n",
       "    </tr>\n",
       "  </thead>\n",
       "  <tbody>\n",
       "    <tr>\n",
       "      <th>0</th>\n",
       "      <td>aroma</td>\n",
       "      <td>레몬 에센셜 오일 10ml</td>\n",
       "      <td>38,000원</td>\n",
       "      <td></td>\n",
       "    </tr>\n",
       "    <tr>\n",
       "      <th>1</th>\n",
       "      <td>aroma</td>\n",
       "      <td>라벤더 에센셜 오일 10ml</td>\n",
       "      <td>38,000원</td>\n",
       "      <td></td>\n",
       "    </tr>\n",
       "    <tr>\n",
       "      <th>2</th>\n",
       "      <td>aroma</td>\n",
       "      <td>로즈마리 에센셜 오일 10ml</td>\n",
       "      <td>33,000원</td>\n",
       "      <td></td>\n",
       "    </tr>\n",
       "    <tr>\n",
       "      <th>3</th>\n",
       "      <td>aroma</td>\n",
       "      <td>스위트 오렌지 에센셜 오일 10ml</td>\n",
       "      <td>33,000원</td>\n",
       "      <td></td>\n",
       "    </tr>\n",
       "    <tr>\n",
       "      <th>4</th>\n",
       "      <td>aroma</td>\n",
       "      <td>시더우드 에센셜 오일 10ml</td>\n",
       "      <td>33,000원</td>\n",
       "      <td></td>\n",
       "    </tr>\n",
       "  </tbody>\n",
       "</table>\n",
       "</div>"
      ],
      "text/plain": [
       "    소분류명                  상품명       정가 할인가\n",
       "0  aroma       레몬 에센셜 오일 10ml  38,000원    \n",
       "1  aroma      라벤더 에센셜 오일 10ml  38,000원    \n",
       "2  aroma     로즈마리 에센셜 오일 10ml  33,000원    \n",
       "3  aroma  스위트 오렌지 에센셜 오일 10ml  33,000원    \n",
       "4  aroma     시더우드 에센셜 오일 10ml  33,000원    "
      ]
     },
     "execution_count": 47,
     "metadata": {},
     "output_type": "execute_result"
    }
   ],
   "source": [
    "df2 = cosmetic_scraping(['aroma'],['120'],'2')   # 페이지가 2개인 카테고리\n",
    "print(df2.shape)\n",
    "df2.head()"
   ]
  },
  {
   "cell_type": "code",
   "execution_count": 60,
   "metadata": {},
   "outputs": [
    {
     "name": "stdout",
     "output_type": "stream",
     "text": [
      "(50, 5)\n"
     ]
    },
    {
     "data": {
      "text/html": [
       "<div>\n",
       "<style scoped>\n",
       "    .dataframe tbody tr th:only-of-type {\n",
       "        vertical-align: middle;\n",
       "    }\n",
       "\n",
       "    .dataframe tbody tr th {\n",
       "        vertical-align: top;\n",
       "    }\n",
       "\n",
       "    .dataframe thead th {\n",
       "        text-align: right;\n",
       "    }\n",
       "</style>\n",
       "<table border=\"1\" class=\"dataframe\">\n",
       "  <thead>\n",
       "    <tr style=\"text-align: right;\">\n",
       "      <th></th>\n",
       "      <th>브랜드명</th>\n",
       "      <th>소분류명</th>\n",
       "      <th>상품명</th>\n",
       "      <th>정가</th>\n",
       "      <th>할인가</th>\n",
       "    </tr>\n",
       "  </thead>\n",
       "  <tbody>\n",
       "    <tr>\n",
       "      <th>0</th>\n",
       "      <td>오엠</td>\n",
       "      <td>cleansing</td>\n",
       "      <td>[이효리클렌징]세이지 마사지 클린징 밀크 250ml</td>\n",
       "      <td>80,000원</td>\n",
       "      <td></td>\n",
       "    </tr>\n",
       "    <tr>\n",
       "      <th>1</th>\n",
       "      <td>오엠</td>\n",
       "      <td>cleansing</td>\n",
       "      <td>트루 라벤더 솝 80g</td>\n",
       "      <td>25,000원</td>\n",
       "      <td></td>\n",
       "    </tr>\n",
       "    <tr>\n",
       "      <th>2</th>\n",
       "      <td>오엠</td>\n",
       "      <td>cleansing</td>\n",
       "      <td>로즈 솝 80g</td>\n",
       "      <td>25,000원</td>\n",
       "      <td></td>\n",
       "    </tr>\n",
       "    <tr>\n",
       "      <th>3</th>\n",
       "      <td>오엠</td>\n",
       "      <td>cleansing</td>\n",
       "      <td>캐모마일 솝 80g</td>\n",
       "      <td>25,000원</td>\n",
       "      <td></td>\n",
       "    </tr>\n",
       "    <tr>\n",
       "      <th>4</th>\n",
       "      <td>오엠</td>\n",
       "      <td>toner</td>\n",
       "      <td>부처브룸 토너 아스트린젠트 200ml</td>\n",
       "      <td>60,000원</td>\n",
       "      <td></td>\n",
       "    </tr>\n",
       "  </tbody>\n",
       "</table>\n",
       "</div>"
      ],
      "text/plain": [
       "  브랜드명       소분류명                           상품명       정가 할인가\n",
       "0   오엠  cleansing  [이효리클렌징]세이지 마사지 클린징 밀크 250ml  80,000원    \n",
       "1   오엠  cleansing                  트루 라벤더 솝 80g  25,000원    \n",
       "2   오엠  cleansing                      로즈 솝 80g  25,000원    \n",
       "3   오엠  cleansing                    캐모마일 솝 80g  25,000원    \n",
       "4   오엠      toner          부처브룸 토너 아스트린젠트 200ml  60,000원    "
      ]
     },
     "execution_count": 60,
     "metadata": {},
     "output_type": "execute_result"
    }
   ],
   "source": [
    "o_df = pd.concat([df, df2], axis=0)\n",
    "o_df['브랜드명'] = '오엠'\n",
    "o_df = o_df[['브랜드명','소분류명','상품명','정가','할인가']]\n",
    "o_df.reset_index(drop=True, inplace=True)\n",
    "\n",
    "for i in range(len(o_df)):\n",
    "    if o_df['할인가'][i] != ' ':\n",
    "        o_df['할인가'][i] = o_df['할인가'][i].split()[0]\n",
    "\n",
    "print(o_df.shape)\n",
    "o_df.head()"
   ]
  },
  {
   "cell_type": "code",
   "execution_count": 62,
   "metadata": {},
   "outputs": [],
   "source": [
    "o_df.to_csv('./cosmetic/오엠.csv', index=False)"
   ]
  },
  {
   "cell_type": "code",
   "execution_count": 63,
   "metadata": {},
   "outputs": [
    {
     "data": {
      "text/html": [
       "<div>\n",
       "<style scoped>\n",
       "    .dataframe tbody tr th:only-of-type {\n",
       "        vertical-align: middle;\n",
       "    }\n",
       "\n",
       "    .dataframe tbody tr th {\n",
       "        vertical-align: top;\n",
       "    }\n",
       "\n",
       "    .dataframe thead th {\n",
       "        text-align: right;\n",
       "    }\n",
       "</style>\n",
       "<table border=\"1\" class=\"dataframe\">\n",
       "  <thead>\n",
       "    <tr style=\"text-align: right;\">\n",
       "      <th></th>\n",
       "      <th>브랜드명</th>\n",
       "      <th>소분류명</th>\n",
       "      <th>상품명</th>\n",
       "      <th>정가</th>\n",
       "      <th>할인가</th>\n",
       "    </tr>\n",
       "  </thead>\n",
       "  <tbody>\n",
       "  </tbody>\n",
       "</table>\n",
       "</div>"
      ],
      "text/plain": [
       "Empty DataFrame\n",
       "Columns: [브랜드명, 소분류명, 상품명, 정가, 할인가]\n",
       "Index: []"
      ]
     },
     "execution_count": 63,
     "metadata": {},
     "output_type": "execute_result"
    }
   ],
   "source": [
    "o_df[o_df.상품명.duplicated()]"
   ]
  },
  {
   "cell_type": "markdown",
   "metadata": {},
   "source": [
    "# 6. 기타 사이트\n",
    "\n",
    "\n",
    "(마녀공장, 스킨푸드, 마켓컬리, is green, so natural, 오드리앤영, 랄라블라)"
   ]
  },
  {
   "cell_type": "code",
   "execution_count": 66,
   "metadata": {},
   "outputs": [],
   "source": [
    "df = pd.DataFrame(columns=['브랜드명','소분류명','상품명','정가','할인가'])"
   ]
  },
  {
   "cell_type": "code",
   "execution_count": 76,
   "metadata": {},
   "outputs": [],
   "source": [
    "# 마녀공장\n",
    "df.loc[0] = ['마녀공장','선크림','아워 비건 선크림 시카','26,000원',' ']\n",
    "df.loc[1] = ['마녀공장','스킨케어 시트마스크팩','아워 비건 어성초 시카 마스크','3,000원',' ']\n",
    "df.loc[2] = ['마녀공장','클렌징 폼','아워 비건 어성초 시카 클렌징 폼','14,000원',' ']\n",
    "df.loc[3] = ['마녀공장','기초 화장용 크림','아워 비건 어성초 시카 크림','28,000원',' ']\n",
    "df.loc[4] = ['마녀공장',' ','아워 비건 어성초 98 시카 세럼','20,000원',' ']\n",
    "df.loc[5] = ['마녀공장','기초 화장용 스킨','아워 비건 어성초 시카 토너','24,000원',' ']\n",
    "df.loc[6] = ['마녀공장','색조 메이크업 립밤','아워 비건 컬러 립밤 그린 핑크','10,500원',' ']\n",
    "df.loc[7] = ['마녀공장','색조 메이크업 립밤','아워 비건 립밤','9,500원',' ']\n",
    "df.loc[8] = ['마녀공장','스크럽/필링크림','아워 비건 오곡라떼 스크럽 폼','16,000원',' ']\n",
    "df.loc[9] = ['마녀공장','선크림','아워 비건 선플루이드 글로우','28,000원',' ']\n",
    "df.loc[10] = ['마녀공장','선크림','아워 비건 선크림 베이직','26,000원',' ']"
   ]
  },
  {
   "cell_type": "code",
   "execution_count": 77,
   "metadata": {},
   "outputs": [
    {
     "data": {
      "text/html": [
       "<div>\n",
       "<style scoped>\n",
       "    .dataframe tbody tr th:only-of-type {\n",
       "        vertical-align: middle;\n",
       "    }\n",
       "\n",
       "    .dataframe tbody tr th {\n",
       "        vertical-align: top;\n",
       "    }\n",
       "\n",
       "    .dataframe thead th {\n",
       "        text-align: right;\n",
       "    }\n",
       "</style>\n",
       "<table border=\"1\" class=\"dataframe\">\n",
       "  <thead>\n",
       "    <tr style=\"text-align: right;\">\n",
       "      <th></th>\n",
       "      <th>브랜드명</th>\n",
       "      <th>소분류명</th>\n",
       "      <th>상품명</th>\n",
       "      <th>정가</th>\n",
       "      <th>할인가</th>\n",
       "    </tr>\n",
       "  </thead>\n",
       "  <tbody>\n",
       "    <tr>\n",
       "      <th>0</th>\n",
       "      <td>마녀공장</td>\n",
       "      <td>선크림</td>\n",
       "      <td>아워 비건 선크림 시카</td>\n",
       "      <td>26,000원</td>\n",
       "      <td></td>\n",
       "    </tr>\n",
       "    <tr>\n",
       "      <th>1</th>\n",
       "      <td>마녀공장</td>\n",
       "      <td>스킨케어 시트마스크팩</td>\n",
       "      <td>아워 비건 어성초 시카 마스크</td>\n",
       "      <td>3,000원</td>\n",
       "      <td></td>\n",
       "    </tr>\n",
       "    <tr>\n",
       "      <th>2</th>\n",
       "      <td>마녀공장</td>\n",
       "      <td>클렌징 폼</td>\n",
       "      <td>아워 비건 어성초 시카 클렌징 폼</td>\n",
       "      <td>14,000원</td>\n",
       "      <td></td>\n",
       "    </tr>\n",
       "  </tbody>\n",
       "</table>\n",
       "</div>"
      ],
      "text/plain": [
       "   브랜드명         소분류명                 상품명       정가 할인가\n",
       "0  마녀공장          선크림        아워 비건 선크림 시카  26,000원    \n",
       "1  마녀공장  스킨케어 시트마스크팩    아워 비건 어성초 시카 마스크   3,000원    \n",
       "2  마녀공장        클렌징 폼  아워 비건 어성초 시카 클렌징 폼  14,000원    "
      ]
     },
     "execution_count": 77,
     "metadata": {},
     "output_type": "execute_result"
    }
   ],
   "source": [
    "df[:3]"
   ]
  },
  {
   "cell_type": "code",
   "execution_count": 78,
   "metadata": {},
   "outputs": [],
   "source": [
    "# 스킨푸드\n",
    "df.loc[11] = ['스킨푸드','화장 비누','캐롯 카로틴 핸드메이드 솝 (100g)','12,000원',' ']\n",
    "df.loc[12] = ['스킨푸드','클렌징 워터/젤','캐롯 카로틴 카밍 워터 패드 세트 (50g)','8,000원',' ']\n",
    "df.loc[13] = ['스킨푸드','기초 화장용 에센스','유자 씨 잡티 맑음 에센스 (150ml)','34,000원',' ']\n",
    "df.loc[14] = ['스킨푸드','스킨케어 마스크팩','라벤더 푸드마스크 (120g)','15,000원',' ']\n",
    "df.loc[15] = ['스킨푸드','기초 화장용 크림','캐롯 카로틴 릴리프 크림 (55ml)','30,000원',' ']\n",
    "df.loc[16] = ['스킨푸드','클렌징 워터/젤','캐롯 카로틴 카밍 워터 패드 (250g, 60매)','26,000원',' ']"
   ]
  },
  {
   "cell_type": "code",
   "execution_count": 79,
   "metadata": {},
   "outputs": [
    {
     "data": {
      "text/html": [
       "<div>\n",
       "<style scoped>\n",
       "    .dataframe tbody tr th:only-of-type {\n",
       "        vertical-align: middle;\n",
       "    }\n",
       "\n",
       "    .dataframe tbody tr th {\n",
       "        vertical-align: top;\n",
       "    }\n",
       "\n",
       "    .dataframe thead th {\n",
       "        text-align: right;\n",
       "    }\n",
       "</style>\n",
       "<table border=\"1\" class=\"dataframe\">\n",
       "  <thead>\n",
       "    <tr style=\"text-align: right;\">\n",
       "      <th></th>\n",
       "      <th>브랜드명</th>\n",
       "      <th>소분류명</th>\n",
       "      <th>상품명</th>\n",
       "      <th>정가</th>\n",
       "      <th>할인가</th>\n",
       "    </tr>\n",
       "  </thead>\n",
       "  <tbody>\n",
       "    <tr>\n",
       "      <th>11</th>\n",
       "      <td>스킨푸드</td>\n",
       "      <td>화장 비누</td>\n",
       "      <td>캐롯 카로틴 핸드메이드 솝 (100g)</td>\n",
       "      <td>12,000원</td>\n",
       "      <td></td>\n",
       "    </tr>\n",
       "    <tr>\n",
       "      <th>12</th>\n",
       "      <td>스킨푸드</td>\n",
       "      <td>클렌징 워터/젤</td>\n",
       "      <td>캐롯 카로틴 카밍 워터 패드 세트 (50g)</td>\n",
       "      <td>8,000원</td>\n",
       "      <td></td>\n",
       "    </tr>\n",
       "    <tr>\n",
       "      <th>13</th>\n",
       "      <td>스킨푸드</td>\n",
       "      <td>기초 화장용 에센스</td>\n",
       "      <td>유자 씨 잡티 맑음 에센스 (150ml)</td>\n",
       "      <td>34,000원</td>\n",
       "      <td></td>\n",
       "    </tr>\n",
       "  </tbody>\n",
       "</table>\n",
       "</div>"
      ],
      "text/plain": [
       "    브랜드명        소분류명                       상품명       정가 할인가\n",
       "11  스킨푸드       화장 비누     캐롯 카로틴 핸드메이드 솝 (100g)  12,000원    \n",
       "12  스킨푸드    클렌징 워터/젤  캐롯 카로틴 카밍 워터 패드 세트 (50g)   8,000원    \n",
       "13  스킨푸드  기초 화장용 에센스    유자 씨 잡티 맑음 에센스 (150ml)  34,000원    "
      ]
     },
     "execution_count": 79,
     "metadata": {},
     "output_type": "execute_result"
    }
   ],
   "source": [
    "df[11:14]"
   ]
  },
  {
   "cell_type": "code",
   "execution_count": 81,
   "metadata": {},
   "outputs": [],
   "source": [
    "# 마켓컬리 -> 멜릭서, 보나쥬르, 아떼, 아로마티카 제외\n",
    "df.loc[17] = ['허블룸','기초 화장용 오일/앰플','비건 뷰티 페이스 오일 30ml','36,000원','23,400원']\n",
    "df.loc[18] = ['카밀','색조 메이크업 립밤','립밤 3종 (비건)','6,200원','4,650원']\n",
    "df.loc[19] = ['AHC','기능성 아이케어 화장품','퓨어 레스큐 리얼 아이크림 포 페이스 (비건)','20,000원','15,000원']\n",
    "df.loc[20] = ['수이스킨','기초 화장용 오일/앰플','하얀 자작나무 수액 앰플 35ml','24,000원','16,800원']\n",
    "df.loc[21] = ['수이스킨','화장 비누','맑은 아보밥 비누','16,000원','8,800원']\n",
    "df.loc[22] = ['비브',' ','차가 리바이탈라이징 세럼','40,000원','24,000원']\n",
    "df.loc[23] = ['온도','기초 화장용 에센스','구절초 수분 진정 에센스','42,000원','37,800원']\n",
    "df.loc[24] = ['에이트루','클렌징 폼','오리진 퓨어 밸런싱 클렌징 폼','11,900원','8,449원']\n",
    "df.loc[25] = ['온도','기초 화장용 오일/앰플','구절초 수분 진정 앰플 크림','39,000원','35,100원']\n",
    "df.loc[26] = ['닥터올가','샴푸','로즈마리 민트 샴푸','28,000원','19,600원']\n",
    "df.loc[27] = ['잉글롯','색조 메이크업 아이라이너','원 무브 리퀴드 아이라이너','18,000원',' ']\n",
    "df.loc[28] = ['잉글롯','베이스 메이크업용 가루파우더','루스 파우더 5종','38,000원',' ']\n",
    "df.loc[29] = ['베이지크','기초 화장용 에센스','트리트먼트 로션 120ml','42,000원',' ']\n",
    "df.loc[30] = ['싸이닉','기초 화장용 로션','더 심플 데일리 로션 260ml','14,000원','12,880원']\n",
    "df.loc[31] = ['닥터노아',' ','네추럴에프 치약','12,800원','6,400원']"
   ]
  },
  {
   "cell_type": "code",
   "execution_count": 83,
   "metadata": {},
   "outputs": [
    {
     "data": {
      "text/html": [
       "<div>\n",
       "<style scoped>\n",
       "    .dataframe tbody tr th:only-of-type {\n",
       "        vertical-align: middle;\n",
       "    }\n",
       "\n",
       "    .dataframe tbody tr th {\n",
       "        vertical-align: top;\n",
       "    }\n",
       "\n",
       "    .dataframe thead th {\n",
       "        text-align: right;\n",
       "    }\n",
       "</style>\n",
       "<table border=\"1\" class=\"dataframe\">\n",
       "  <thead>\n",
       "    <tr style=\"text-align: right;\">\n",
       "      <th></th>\n",
       "      <th>브랜드명</th>\n",
       "      <th>소분류명</th>\n",
       "      <th>상품명</th>\n",
       "      <th>정가</th>\n",
       "      <th>할인가</th>\n",
       "    </tr>\n",
       "  </thead>\n",
       "  <tbody>\n",
       "    <tr>\n",
       "      <th>17</th>\n",
       "      <td>허블룸</td>\n",
       "      <td>기초 화장용 오일/앰플</td>\n",
       "      <td>비건 뷰티 페이스 오일 30ml</td>\n",
       "      <td>36,000원</td>\n",
       "      <td>23,400원</td>\n",
       "    </tr>\n",
       "    <tr>\n",
       "      <th>18</th>\n",
       "      <td>카밀</td>\n",
       "      <td>색조 메이크업 립밤</td>\n",
       "      <td>립밤 3종 (비건)</td>\n",
       "      <td>6,200원</td>\n",
       "      <td>4,650원</td>\n",
       "    </tr>\n",
       "    <tr>\n",
       "      <th>19</th>\n",
       "      <td>AHC</td>\n",
       "      <td>기능성 아이케어 화장품</td>\n",
       "      <td>퓨어 레스큐 리얼 아이크림 포 페이스 (비건)</td>\n",
       "      <td>20,000원</td>\n",
       "      <td>15,000원</td>\n",
       "    </tr>\n",
       "  </tbody>\n",
       "</table>\n",
       "</div>"
      ],
      "text/plain": [
       "   브랜드명          소분류명                        상품명       정가      할인가\n",
       "17  허블룸  기초 화장용 오일/앰플          비건 뷰티 페이스 오일 30ml  36,000원  23,400원\n",
       "18   카밀    색조 메이크업 립밤                 립밤 3종 (비건)   6,200원   4,650원\n",
       "19  AHC  기능성 아이케어 화장품  퓨어 레스큐 리얼 아이크림 포 페이스 (비건)  20,000원  15,000원"
      ]
     },
     "execution_count": 83,
     "metadata": {},
     "output_type": "execute_result"
    }
   ],
   "source": [
    "df[17:20]"
   ]
  },
  {
   "cell_type": "code",
   "execution_count": 84,
   "metadata": {},
   "outputs": [],
   "source": [
    "# is green\n",
    "df.loc[32] = ['이즈그린','기초 화장용 크림','LHA 비건 크림','55,000원','49,500원']\n",
    "df.loc[33] = ['이즈그린','기초 화장용 에센스','LHA 비건 에센스','59,000원','53,000원']\n",
    "df.loc[34] = ['이즈그린','기초 화장용 스킨','LHA 비건 토너','39,000원','35,000원']\n",
    "df.loc[35] = ['이즈그린','기능성 화장품 세트','LHA 비건 2종 SET','94,000원','80,000원']\n",
    "df.loc[36] = ['이즈그린','기능성 화장품 세트','LHA 비건 3종 SET','153,000원','122,000원']"
   ]
  },
  {
   "cell_type": "code",
   "execution_count": 85,
   "metadata": {},
   "outputs": [
    {
     "data": {
      "text/html": [
       "<div>\n",
       "<style scoped>\n",
       "    .dataframe tbody tr th:only-of-type {\n",
       "        vertical-align: middle;\n",
       "    }\n",
       "\n",
       "    .dataframe tbody tr th {\n",
       "        vertical-align: top;\n",
       "    }\n",
       "\n",
       "    .dataframe thead th {\n",
       "        text-align: right;\n",
       "    }\n",
       "</style>\n",
       "<table border=\"1\" class=\"dataframe\">\n",
       "  <thead>\n",
       "    <tr style=\"text-align: right;\">\n",
       "      <th></th>\n",
       "      <th>브랜드명</th>\n",
       "      <th>소분류명</th>\n",
       "      <th>상품명</th>\n",
       "      <th>정가</th>\n",
       "      <th>할인가</th>\n",
       "    </tr>\n",
       "  </thead>\n",
       "  <tbody>\n",
       "    <tr>\n",
       "      <th>32</th>\n",
       "      <td>이즈그린</td>\n",
       "      <td>기초 화장용 크림</td>\n",
       "      <td>LHA 비건 크림</td>\n",
       "      <td>55,000원</td>\n",
       "      <td>49,500원</td>\n",
       "    </tr>\n",
       "    <tr>\n",
       "      <th>33</th>\n",
       "      <td>이즈그린</td>\n",
       "      <td>기초 화장용 에센스</td>\n",
       "      <td>LHA 비건 에센스</td>\n",
       "      <td>59,000원</td>\n",
       "      <td>53,000원</td>\n",
       "    </tr>\n",
       "    <tr>\n",
       "      <th>34</th>\n",
       "      <td>이즈그린</td>\n",
       "      <td>기초 화장용 스킨</td>\n",
       "      <td>LHA 비건 토너</td>\n",
       "      <td>39,000원</td>\n",
       "      <td>35,000원</td>\n",
       "    </tr>\n",
       "  </tbody>\n",
       "</table>\n",
       "</div>"
      ],
      "text/plain": [
       "    브랜드명        소분류명         상품명       정가      할인가\n",
       "32  이즈그린   기초 화장용 크림   LHA 비건 크림  55,000원  49,500원\n",
       "33  이즈그린  기초 화장용 에센스  LHA 비건 에센스  59,000원  53,000원\n",
       "34  이즈그린   기초 화장용 스킨   LHA 비건 토너  39,000원  35,000원"
      ]
     },
     "execution_count": 85,
     "metadata": {},
     "output_type": "execute_result"
    }
   ],
   "source": [
    "df[32:35]"
   ]
  },
  {
   "cell_type": "code",
   "execution_count": 86,
   "metadata": {},
   "outputs": [],
   "source": [
    "# so natural\n",
    "df.loc[37] = ['쏘내추럴','베이스 메이크업용 BB크림','쏘 비건 카밍 비비크림','24,000원',' ']\n",
    "df.loc[38] = ['쏘내추럴','선크림','쏘 비건 카밍 선크림','25,000원',' ']\n",
    "df.loc[39] = ['쏘내추럴','베이스 메이크업용 가루파우더','쏘 비건 카밍 스킨 파우더','18,000원','14,400원']\n",
    "df.loc[40] = ['쏘내추럴','스킨케어 곡물팩','어글리 포테이토 마스크','26,000원','20,800원']\n",
    "df.loc[41] = ['쏘내추럴','스크럽/필링크림','그린빈 커피 스크럽','28,000원','22,400원']\n",
    "df.loc[42] = ['쏘내추럴','색조 메이크업 속눈썹영양제','쏘 비건 노니 아이래쉬 앰플','16,000원','11,200원']\n",
    "df.loc[43] = ['쏘내추럴','스킨케어 시트마스크팩','쏘 비건 노니 딥 마스크','4,000원','2,800원']\n",
    "df.loc[44] = ['쏘내추럴','기초 화장용 스킨','쏘 비건 노니 토너','24,000원','21,600원']\n",
    "df.loc[45] = ['쏘내추럴','기초 화장용 크림','쏘 비건 노니 크림','33,000원','29,700원']\n",
    "df.loc[46] = ['쏘내추럴','기초 화장용 오일/앰플','쏘 비건 노니 페이스 오일','35,000원','28,000원']\n",
    "df.loc[47] = ['쏘내추럴','기능성 화장품 세트','쏘 비건 노니 2종','57,000원','51,300원']\n",
    "df.loc[48] = ['쏘내추럴','스킨케어 마스크팩','쏘 비건 진저 클레이 마스크','28,000원','19,600원']\n",
    "df.loc[49] = ['쏘내추럴','바디케어용 때비누','바디워시 바쓰 시카 솝','16,000원','9,600원']\n",
    "df.loc[50] = ['쏘내추럴','바디케어용 때비누','바디워시 때밀이바쓰','15,000원','9,000원']\n",
    "df.loc[51] = ['쏘내추럴','기초 화장용 스킨','플랜트 에센스 토너','25,000원','12,500원']\n",
    "df.loc[52] = ['쏘내추럴','스킨케어 워시오프팩','카보닉 버블 클레이 마스크','25,000원',' ']"
   ]
  },
  {
   "cell_type": "code",
   "execution_count": 87,
   "metadata": {},
   "outputs": [
    {
     "data": {
      "text/html": [
       "<div>\n",
       "<style scoped>\n",
       "    .dataframe tbody tr th:only-of-type {\n",
       "        vertical-align: middle;\n",
       "    }\n",
       "\n",
       "    .dataframe tbody tr th {\n",
       "        vertical-align: top;\n",
       "    }\n",
       "\n",
       "    .dataframe thead th {\n",
       "        text-align: right;\n",
       "    }\n",
       "</style>\n",
       "<table border=\"1\" class=\"dataframe\">\n",
       "  <thead>\n",
       "    <tr style=\"text-align: right;\">\n",
       "      <th></th>\n",
       "      <th>브랜드명</th>\n",
       "      <th>소분류명</th>\n",
       "      <th>상품명</th>\n",
       "      <th>정가</th>\n",
       "      <th>할인가</th>\n",
       "    </tr>\n",
       "  </thead>\n",
       "  <tbody>\n",
       "    <tr>\n",
       "      <th>37</th>\n",
       "      <td>쏘내추럴</td>\n",
       "      <td>베이스 메이크업용 BB크림</td>\n",
       "      <td>쏘 비건 카밍 비비크림</td>\n",
       "      <td>24,000원</td>\n",
       "      <td></td>\n",
       "    </tr>\n",
       "    <tr>\n",
       "      <th>38</th>\n",
       "      <td>쏘내추럴</td>\n",
       "      <td>선크림</td>\n",
       "      <td>쏘 비건 카밍 선크림</td>\n",
       "      <td>25,000원</td>\n",
       "      <td></td>\n",
       "    </tr>\n",
       "    <tr>\n",
       "      <th>39</th>\n",
       "      <td>쏘내추럴</td>\n",
       "      <td>베이스 메이크업용 가루파우더</td>\n",
       "      <td>쏘 비건 카밍 스킨 파우더</td>\n",
       "      <td>18,000원</td>\n",
       "      <td>14,400원</td>\n",
       "    </tr>\n",
       "  </tbody>\n",
       "</table>\n",
       "</div>"
      ],
      "text/plain": [
       "    브랜드명             소분류명             상품명       정가      할인가\n",
       "37  쏘내추럴   베이스 메이크업용 BB크림    쏘 비건 카밍 비비크림  24,000원         \n",
       "38  쏘내추럴              선크림     쏘 비건 카밍 선크림  25,000원         \n",
       "39  쏘내추럴  베이스 메이크업용 가루파우더  쏘 비건 카밍 스킨 파우더  18,000원  14,400원"
      ]
     },
     "execution_count": 87,
     "metadata": {},
     "output_type": "execute_result"
    }
   ],
   "source": [
    "df[37:40]"
   ]
  },
  {
   "cell_type": "code",
   "execution_count": 88,
   "metadata": {},
   "outputs": [],
   "source": [
    "# 오드리앤영\n",
    "df.loc[53] = ['오드리앤영','스킨케어 시트마스크팩','아이 라이크 레드 스위트원 세럼 마스크','3,000원',' ']\n",
    "df.loc[54] = ['오드리앤영','스킨케어 시트마스크팩','아이 라이크 시카 바이옴 세럼 마스크','3,000원',' ']\n",
    "df.loc[55] = ['오드리앤영','클렌징 오일','시카 바이옴 클렌징 오일 250ml','29,000원',' ']\n",
    "df.loc[56] = ['오드리앤영','클렌징 크림','시카 바이옴 클렌징 밤 100ml','28,000원',' ']\n",
    "df.loc[57] = ['오드리앤영',' ','아이 라이크 레드 스위트원 세럼 30ml','32,000원',' ']\n",
    "df.loc[58] = ['오드리앤영',' ','아이 라이크 블루밍 에너지 세럼 30ml','32,000원',' ']\n",
    "df.loc[59] = ['오드리앤영','기초 화장용 오일/앰플','아이 라이크 컨센트레이트 오일 30ml','32,000원',' ']\n",
    "df.loc[60] = ['오드리앤영',' ','아이 라이크 시카 바이옴 세럼 30ml','32,000원',' ']\n",
    "df.loc[61] = ['오드리앤영','클렌징 폼','마이크로바이옴 클렌징 폼 120ml','15,000원','11,250원']\n",
    "df.loc[62] = ['오드리앤영','클렌징 워터/젤','마이크로바이옴 클렌징 워터 400ml','22,000원','16,500원']\n",
    "df.loc[63] = ['오드리앤영','클렌징 폼','(1+1) 버블 껌 핑크 클렌저 120ml','12,000원',' ']"
   ]
  },
  {
   "cell_type": "code",
   "execution_count": 90,
   "metadata": {},
   "outputs": [
    {
     "data": {
      "text/html": [
       "<div>\n",
       "<style scoped>\n",
       "    .dataframe tbody tr th:only-of-type {\n",
       "        vertical-align: middle;\n",
       "    }\n",
       "\n",
       "    .dataframe tbody tr th {\n",
       "        vertical-align: top;\n",
       "    }\n",
       "\n",
       "    .dataframe thead th {\n",
       "        text-align: right;\n",
       "    }\n",
       "</style>\n",
       "<table border=\"1\" class=\"dataframe\">\n",
       "  <thead>\n",
       "    <tr style=\"text-align: right;\">\n",
       "      <th></th>\n",
       "      <th>브랜드명</th>\n",
       "      <th>소분류명</th>\n",
       "      <th>상품명</th>\n",
       "      <th>정가</th>\n",
       "      <th>할인가</th>\n",
       "    </tr>\n",
       "  </thead>\n",
       "  <tbody>\n",
       "    <tr>\n",
       "      <th>53</th>\n",
       "      <td>오드리앤영</td>\n",
       "      <td>스킨케어 시트마스크팩</td>\n",
       "      <td>아이 라이크 레드 스위트원 세럼 마스크</td>\n",
       "      <td>3,000원</td>\n",
       "      <td></td>\n",
       "    </tr>\n",
       "    <tr>\n",
       "      <th>54</th>\n",
       "      <td>오드리앤영</td>\n",
       "      <td>스킨케어 시트마스크팩</td>\n",
       "      <td>아이 라이크 시카 바이옴 세럼 마스크</td>\n",
       "      <td>3,000원</td>\n",
       "      <td></td>\n",
       "    </tr>\n",
       "    <tr>\n",
       "      <th>55</th>\n",
       "      <td>오드리앤영</td>\n",
       "      <td>클렌징 오일</td>\n",
       "      <td>시카 바이옴 클렌징 오일 250ml</td>\n",
       "      <td>29,000원</td>\n",
       "      <td></td>\n",
       "    </tr>\n",
       "  </tbody>\n",
       "</table>\n",
       "</div>"
      ],
      "text/plain": [
       "     브랜드명         소분류명                    상품명       정가 할인가\n",
       "53  오드리앤영  스킨케어 시트마스크팩  아이 라이크 레드 스위트원 세럼 마스크   3,000원    \n",
       "54  오드리앤영  스킨케어 시트마스크팩   아이 라이크 시카 바이옴 세럼 마스크   3,000원    \n",
       "55  오드리앤영       클렌징 오일    시카 바이옴 클렌징 오일 250ml  29,000원    "
      ]
     },
     "execution_count": 90,
     "metadata": {},
     "output_type": "execute_result"
    }
   ],
   "source": [
    "df[53:56]"
   ]
  },
  {
   "cell_type": "code",
   "execution_count": 93,
   "metadata": {},
   "outputs": [],
   "source": [
    "# 랄라블라\n",
    "df.loc[64] = ['발롱블랑','기능성 영양보습 화장품','비건 알로에베라99 수딩젤 튜브형 200ml','4,000원','3,600원']\n",
    "df.loc[65] = ['키핀터치','색조 메이크업 립틴트','젤리 립 플럼퍼 틴트','20,000원','9,900원']\n",
    "df.loc[66] = ['키핀터치','색조 메이크업 아이브로우','유어 브로우 세럼 타투펜 YT02 다크브라운','15,000원','8,900원']\n",
    "df.loc[67] = ['발롱블랑','기초 화장용 크림','울트라 하이드레이팅 페이셜 수분크림(비건) 50ml','30,000원','27,000원']\n",
    "df.loc[68] = ['키핀터치','색조 메이크업 볼터치','아이스젤리 치크 블러셔','22,000원','9,900원']\n",
    "df.loc[69] = ['키핀터치','색조 메이크업 아이섀도우','아이스젤리 아이팔레트','38,000원','16,900원']\n",
    "df.loc[70] = ['쏘내추럴',' ','비건 메이크업 캄 픽서 100ml','22,000원','15,400원']\n",
    "df.loc[71] = ['키핀터치','색조 메이크업 립틴트','무드 엠엘비비 벨벳틴트','19,000원','5,900원']"
   ]
  },
  {
   "cell_type": "code",
   "execution_count": 95,
   "metadata": {},
   "outputs": [
    {
     "name": "stdout",
     "output_type": "stream",
     "text": [
      "(72, 5)\n"
     ]
    },
    {
     "data": {
      "text/html": [
       "<div>\n",
       "<style scoped>\n",
       "    .dataframe tbody tr th:only-of-type {\n",
       "        vertical-align: middle;\n",
       "    }\n",
       "\n",
       "    .dataframe tbody tr th {\n",
       "        vertical-align: top;\n",
       "    }\n",
       "\n",
       "    .dataframe thead th {\n",
       "        text-align: right;\n",
       "    }\n",
       "</style>\n",
       "<table border=\"1\" class=\"dataframe\">\n",
       "  <thead>\n",
       "    <tr style=\"text-align: right;\">\n",
       "      <th></th>\n",
       "      <th>브랜드명</th>\n",
       "      <th>소분류명</th>\n",
       "      <th>상품명</th>\n",
       "      <th>정가</th>\n",
       "      <th>할인가</th>\n",
       "    </tr>\n",
       "  </thead>\n",
       "  <tbody>\n",
       "    <tr>\n",
       "      <th>69</th>\n",
       "      <td>키핀터치</td>\n",
       "      <td>색조 메이크업 아이섀도우</td>\n",
       "      <td>아이스젤리 아이팔레트</td>\n",
       "      <td>38,000원</td>\n",
       "      <td>16,900원</td>\n",
       "    </tr>\n",
       "    <tr>\n",
       "      <th>70</th>\n",
       "      <td>쏘내추럴</td>\n",
       "      <td></td>\n",
       "      <td>비건 메이크업 캄 픽서 100ml</td>\n",
       "      <td>22,000원</td>\n",
       "      <td>15,400원</td>\n",
       "    </tr>\n",
       "    <tr>\n",
       "      <th>71</th>\n",
       "      <td>키핀터치</td>\n",
       "      <td>색조 메이크업 립틴트</td>\n",
       "      <td>무드 엠엘비비 벨벳틴트</td>\n",
       "      <td>19,000원</td>\n",
       "      <td>5,900원</td>\n",
       "    </tr>\n",
       "  </tbody>\n",
       "</table>\n",
       "</div>"
      ],
      "text/plain": [
       "    브랜드명           소분류명                 상품명       정가      할인가\n",
       "69  키핀터치  색조 메이크업 아이섀도우         아이스젤리 아이팔레트  38,000원  16,900원\n",
       "70  쏘내추럴                 비건 메이크업 캄 픽서 100ml  22,000원  15,400원\n",
       "71  키핀터치    색조 메이크업 립틴트        무드 엠엘비비 벨벳틴트  19,000원   5,900원"
      ]
     },
     "execution_count": 95,
     "metadata": {},
     "output_type": "execute_result"
    }
   ],
   "source": [
    "print(df.shape)\n",
    "df.tail(3)"
   ]
  },
  {
   "cell_type": "code",
   "execution_count": 96,
   "metadata": {},
   "outputs": [],
   "source": [
    "df.to_csv('./cosmetic/기타(7곳).csv', index=False)"
   ]
  },
  {
   "cell_type": "code",
   "execution_count": null,
   "metadata": {},
   "outputs": [],
   "source": []
  }
 ],
 "metadata": {
  "kernelspec": {
   "display_name": "Python 3",
   "language": "python",
   "name": "python3"
  },
  "language_info": {
   "codemirror_mode": {
    "name": "ipython",
    "version": 3
   },
   "file_extension": ".py",
   "mimetype": "text/x-python",
   "name": "python",
   "nbconvert_exporter": "python",
   "pygments_lexer": "ipython3",
   "version": "3.8.3"
  },
  "toc": {
   "base_numbering": 1,
   "nav_menu": {},
   "number_sections": false,
   "sideBar": false,
   "skip_h1_title": false,
   "title_cell": "Table of Contents",
   "title_sidebar": "Contents",
   "toc_cell": true,
   "toc_position": {},
   "toc_section_display": true,
   "toc_window_display": false
  }
 },
 "nbformat": 4,
 "nbformat_minor": 4
}
