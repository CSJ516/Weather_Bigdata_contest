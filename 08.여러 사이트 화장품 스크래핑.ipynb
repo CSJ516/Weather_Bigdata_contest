{
 "cells": [
  {
   "cell_type": "markdown",
   "metadata": {
    "toc": true
   },
   "source": [
    "<h1>Table of Contents<span class=\"tocSkip\"></span></h1>\n",
    "<div class=\"toc\"><ul class=\"toc-item\"><li><span><a href=\"#1.-러쉬\" data-toc-modified-id=\"1.-러쉬-1\">1. 러쉬</a></span></li><li><span><a href=\"#2.-아로마티카-(X)\" data-toc-modified-id=\"2.-아로마티카-(X)-2\">2. 아로마티카 (X)</a></span></li><li><span><a href=\"#3.-클레어스\" data-toc-modified-id=\"3.-클레어스-3\">3. 클레어스</a></span></li></ul></div>"
   ]
  },
  {
   "cell_type": "markdown",
   "metadata": {},
   "source": [
    "러쉬, 아로마티카, 클레어스, 이든 미네랄, 오엠, adorable, sephora\n",
    "\n",
    "(+ 마녀공장, 스킨푸드, 아떼, 마켓컬리, so natural, is green, 오드리앤영)"
   ]
  },
  {
   "cell_type": "code",
   "execution_count": 1,
   "metadata": {},
   "outputs": [],
   "source": [
    "import pandas as pd\n",
    "from tqdm import tqdm\n",
    "from bs4 import BeautifulSoup\n",
    "import requests\n",
    "\n",
    "import warnings\n",
    "warnings.filterwarnings('ignore')"
   ]
  },
  {
   "cell_type": "markdown",
   "metadata": {},
   "source": [
    "# 1. 러쉬"
   ]
  },
  {
   "cell_type": "code",
   "execution_count": 41,
   "metadata": {},
   "outputs": [],
   "source": [
    "url = 'https://lush.co.kr/goods/goods_list.php?cateCd=001019001'\n",
    "html = BeautifulSoup(requests.get(url, headers={'User-agent': 'Mozilla/5.0'}).text, \"lxml\")\n",
    "# html"
   ]
  },
  {
   "cell_type": "code",
   "execution_count": 11,
   "metadata": {},
   "outputs": [
    {
     "name": "stdout",
     "output_type": "stream",
     "text": [
      "1\n"
     ]
    },
    {
     "data": {
      "text/plain": [
       "[<span class=\"on\"><a href=\"?cateCd=001019001\">배쓰</a> <em>(72)</em> </span>]"
      ]
     },
     "execution_count": 11,
     "metadata": {},
     "output_type": "execute_result"
    }
   ],
   "source": [
    "# 소분류명 수집\n",
    "so_cat = html.find_all('span', class_='on')\n",
    "print(len(so_cat))\n",
    "so_cat"
   ]
  },
  {
   "cell_type": "code",
   "execution_count": 17,
   "metadata": {},
   "outputs": [
    {
     "data": {
      "text/plain": [
       "'배쓰'"
      ]
     },
     "execution_count": 17,
     "metadata": {},
     "output_type": "execute_result"
    }
   ],
   "source": [
    "import re\n",
    "\n",
    "re.compile('[가-힣]+').findall(so_cat[0].text)[0]"
   ]
  },
  {
   "cell_type": "code",
   "execution_count": 4,
   "metadata": {
    "scrolled": true
   },
   "outputs": [
    {
     "name": "stdout",
     "output_type": "stream",
     "text": [
      "72\n"
     ]
    },
    {
     "data": {
      "text/plain": [
       "[<span class=\"prdName\">킵 잇 플러피 퍼퓸 버블 보틀</span>,\n",
       " <span class=\"prdName\">카마 퍼퓸 버블 보틀</span>,\n",
       " <span class=\"prdName\">디어 존 퍼퓸 버블 보틀</span>,\n",
       " <span class=\"prdName\">더티 퍼퓸 버블 보틀</span>,\n",
       " <span class=\"prdName\">러브 퍼퓸 버블 보틀</span>]"
      ]
     },
     "execution_count": 4,
     "metadata": {},
     "output_type": "execute_result"
    }
   ],
   "source": [
    "# 상품명 수집\n",
    "item = html.find_all('span', class_='prdName')\n",
    "print(len(item))\n",
    "item[:5]"
   ]
  },
  {
   "cell_type": "code",
   "execution_count": 6,
   "metadata": {},
   "outputs": [
    {
     "name": "stdout",
     "output_type": "stream",
     "text": [
      "72\n"
     ]
    },
    {
     "data": {
      "text/plain": [
       "[<span class=\"cost\">\n",
       " <strong>￦ 23,000</strong> </span>,\n",
       " <span class=\"cost\">\n",
       " <strong>￦ 35,000</strong> </span>,\n",
       " <span class=\"cost\">\n",
       " <strong>￦ 35,000</strong> </span>,\n",
       " <span class=\"cost\">\n",
       " <strong>￦ 23,000</strong> </span>,\n",
       " <span class=\"cost\">\n",
       " <strong>￦ 35,000</strong> </span>]"
      ]
     },
     "execution_count": 6,
     "metadata": {},
     "output_type": "execute_result"
    }
   ],
   "source": [
    "# 가격 수집 (정가)\n",
    "price = html.find_all('span', class_='cost')\n",
    "print(len(price))\n",
    "price[:5]"
   ]
  },
  {
   "cell_type": "code",
   "execution_count": 9,
   "metadata": {},
   "outputs": [
    {
     "data": {
      "text/plain": [
       "'￦ 23,000'"
      ]
     },
     "execution_count": 9,
     "metadata": {},
     "output_type": "execute_result"
    }
   ],
   "source": [
    "price[0].text.replace('\\n','').strip()"
   ]
  },
  {
   "cell_type": "code",
   "execution_count": 10,
   "metadata": {},
   "outputs": [],
   "source": [
    "# 러쉬는 할인을 안 해.."
   ]
  },
  {
   "cell_type": "code",
   "execution_count": 18,
   "metadata": {},
   "outputs": [],
   "source": [
    "# 최종 스크래핑 코드\n",
    "def cosmetic_scraping(category):\n",
    "    \n",
    "    total_data = []\n",
    "    for cat in category:\n",
    "        url = f'https://lush.co.kr/goods/goods_list.php?cateCd={cat}'\n",
    "        html = BeautifulSoup(requests.get(url, headers={'User-agent': 'Mozilla/5.0'}).text, \"lxml\")\n",
    "        \n",
    "        # 소분류명, 상품명, 가격 (정가, 할인가)\n",
    "        so_cat = html.find_all('span', class_='on')\n",
    "        so_cat2 = re.compile('[가-힣]+').findall(so_cat[0].text)[0]\n",
    "        item = html.find_all('span', class_='prdName')\n",
    "        price = html.find_all('span', class_='cost')\n",
    "\n",
    "        data = []\n",
    "        for i in range(len(item)):\n",
    "            item2 = item[i].text\n",
    "            price2 = price[i].text.replace('\\n','').strip()\n",
    "            data.append([so_cat2, item2, price2])\n",
    "        total_data.append(data)\n",
    "    \n",
    "    df = pd.DataFrame(sum(total_data, []))\n",
    "    df.columns = ['소분류명', '상품명', '정가']\n",
    "    return df"
   ]
  },
  {
   "cell_type": "code",
   "execution_count": 34,
   "metadata": {},
   "outputs": [
    {
     "name": "stdout",
     "output_type": "stream",
     "text": [
      "(352, 3)\n"
     ]
    },
    {
     "data": {
      "text/html": [
       "<div>\n",
       "<style scoped>\n",
       "    .dataframe tbody tr th:only-of-type {\n",
       "        vertical-align: middle;\n",
       "    }\n",
       "\n",
       "    .dataframe tbody tr th {\n",
       "        vertical-align: top;\n",
       "    }\n",
       "\n",
       "    .dataframe thead th {\n",
       "        text-align: right;\n",
       "    }\n",
       "</style>\n",
       "<table border=\"1\" class=\"dataframe\">\n",
       "  <thead>\n",
       "    <tr style=\"text-align: right;\">\n",
       "      <th></th>\n",
       "      <th>소분류명</th>\n",
       "      <th>상품명</th>\n",
       "      <th>정가</th>\n",
       "    </tr>\n",
       "  </thead>\n",
       "  <tbody>\n",
       "    <tr>\n",
       "      <th>0</th>\n",
       "      <td>배쓰</td>\n",
       "      <td>킵 잇 플러피 퍼퓸 버블 보틀</td>\n",
       "      <td>￦ 23,000</td>\n",
       "    </tr>\n",
       "    <tr>\n",
       "      <th>1</th>\n",
       "      <td>배쓰</td>\n",
       "      <td>카마 퍼퓸 버블 보틀</td>\n",
       "      <td>￦ 35,000</td>\n",
       "    </tr>\n",
       "    <tr>\n",
       "      <th>2</th>\n",
       "      <td>배쓰</td>\n",
       "      <td>디어 존 퍼퓸 버블 보틀</td>\n",
       "      <td>￦ 35,000</td>\n",
       "    </tr>\n",
       "    <tr>\n",
       "      <th>3</th>\n",
       "      <td>배쓰</td>\n",
       "      <td>더티 퍼퓸 버블 보틀</td>\n",
       "      <td>￦ 23,000</td>\n",
       "    </tr>\n",
       "    <tr>\n",
       "      <th>4</th>\n",
       "      <td>배쓰</td>\n",
       "      <td>러브 퍼퓸 버블 보틀</td>\n",
       "      <td>￦ 35,000</td>\n",
       "    </tr>\n",
       "  </tbody>\n",
       "</table>\n",
       "</div>"
      ],
      "text/plain": [
       "  소분류명               상품명        정가\n",
       "0   배쓰  킵 잇 플러피 퍼퓸 버블 보틀  ￦ 23,000\n",
       "1   배쓰       카마 퍼퓸 버블 보틀  ￦ 35,000\n",
       "2   배쓰     디어 존 퍼퓸 버블 보틀  ￦ 35,000\n",
       "3   배쓰       더티 퍼퓸 버블 보틀  ￦ 23,000\n",
       "4   배쓰       러브 퍼퓸 버블 보틀  ￦ 35,000"
      ]
     },
     "execution_count": 34,
     "metadata": {},
     "output_type": "execute_result"
    }
   ],
   "source": [
    "# 카테고리 선정 후 수집\n",
    "df = cosmetic_scraping(['001019001','001019002','001019003','001019004','001019005','001019006','001019007'])\n",
    "print(df.shape)\n",
    "df.head()"
   ]
  },
  {
   "cell_type": "code",
   "execution_count": 36,
   "metadata": {},
   "outputs": [
    {
     "name": "stdout",
     "output_type": "stream",
     "text": [
      "(352, 5)\n"
     ]
    },
    {
     "data": {
      "text/html": [
       "<div>\n",
       "<style scoped>\n",
       "    .dataframe tbody tr th:only-of-type {\n",
       "        vertical-align: middle;\n",
       "    }\n",
       "\n",
       "    .dataframe tbody tr th {\n",
       "        vertical-align: top;\n",
       "    }\n",
       "\n",
       "    .dataframe thead th {\n",
       "        text-align: right;\n",
       "    }\n",
       "</style>\n",
       "<table border=\"1\" class=\"dataframe\">\n",
       "  <thead>\n",
       "    <tr style=\"text-align: right;\">\n",
       "      <th></th>\n",
       "      <th>브랜드명</th>\n",
       "      <th>소분류명</th>\n",
       "      <th>상품명</th>\n",
       "      <th>정가</th>\n",
       "      <th>할인가</th>\n",
       "    </tr>\n",
       "  </thead>\n",
       "  <tbody>\n",
       "    <tr>\n",
       "      <th>0</th>\n",
       "      <td>러쉬</td>\n",
       "      <td>배쓰</td>\n",
       "      <td>킵 잇 플러피 퍼퓸 버블 보틀</td>\n",
       "      <td>23,000원</td>\n",
       "      <td></td>\n",
       "    </tr>\n",
       "    <tr>\n",
       "      <th>1</th>\n",
       "      <td>러쉬</td>\n",
       "      <td>배쓰</td>\n",
       "      <td>카마 퍼퓸 버블 보틀</td>\n",
       "      <td>35,000원</td>\n",
       "      <td></td>\n",
       "    </tr>\n",
       "    <tr>\n",
       "      <th>2</th>\n",
       "      <td>러쉬</td>\n",
       "      <td>배쓰</td>\n",
       "      <td>디어 존 퍼퓸 버블 보틀</td>\n",
       "      <td>35,000원</td>\n",
       "      <td></td>\n",
       "    </tr>\n",
       "    <tr>\n",
       "      <th>3</th>\n",
       "      <td>러쉬</td>\n",
       "      <td>배쓰</td>\n",
       "      <td>더티 퍼퓸 버블 보틀</td>\n",
       "      <td>23,000원</td>\n",
       "      <td></td>\n",
       "    </tr>\n",
       "    <tr>\n",
       "      <th>4</th>\n",
       "      <td>러쉬</td>\n",
       "      <td>배쓰</td>\n",
       "      <td>러브 퍼퓸 버블 보틀</td>\n",
       "      <td>35,000원</td>\n",
       "      <td></td>\n",
       "    </tr>\n",
       "  </tbody>\n",
       "</table>\n",
       "</div>"
      ],
      "text/plain": [
       "  브랜드명 소분류명               상품명       정가 할인가\n",
       "0   러쉬   배쓰  킵 잇 플러피 퍼퓸 버블 보틀  23,000원    \n",
       "1   러쉬   배쓰       카마 퍼퓸 버블 보틀  35,000원    \n",
       "2   러쉬   배쓰     디어 존 퍼퓸 버블 보틀  35,000원    \n",
       "3   러쉬   배쓰       더티 퍼퓸 버블 보틀  23,000원    \n",
       "4   러쉬   배쓰       러브 퍼퓸 버블 보틀  35,000원    "
      ]
     },
     "execution_count": 36,
     "metadata": {},
     "output_type": "execute_result"
    }
   ],
   "source": [
    "df['브랜드명'], df['할인가'] = '러쉬', ' '\n",
    "df = df[['브랜드명','소분류명','상품명','정가','할인가']]\n",
    "df['정가'] = df['정가'].apply(lambda x: x.replace('￦ ','') + '원')\n",
    "df.reset_index(drop=True, inplace=True)\n",
    "print(df.shape)\n",
    "df.head()"
   ]
  },
  {
   "cell_type": "code",
   "execution_count": 37,
   "metadata": {},
   "outputs": [],
   "source": [
    "df.to_csv('./cosmetic/러쉬.csv', index=False)"
   ]
  },
  {
   "cell_type": "code",
   "execution_count": 39,
   "metadata": {},
   "outputs": [
    {
     "data": {
      "text/html": [
       "<div>\n",
       "<style scoped>\n",
       "    .dataframe tbody tr th:only-of-type {\n",
       "        vertical-align: middle;\n",
       "    }\n",
       "\n",
       "    .dataframe tbody tr th {\n",
       "        vertical-align: top;\n",
       "    }\n",
       "\n",
       "    .dataframe thead th {\n",
       "        text-align: right;\n",
       "    }\n",
       "</style>\n",
       "<table border=\"1\" class=\"dataframe\">\n",
       "  <thead>\n",
       "    <tr style=\"text-align: right;\">\n",
       "      <th></th>\n",
       "      <th>브랜드명</th>\n",
       "      <th>소분류명</th>\n",
       "      <th>상품명</th>\n",
       "      <th>정가</th>\n",
       "      <th>할인가</th>\n",
       "    </tr>\n",
       "  </thead>\n",
       "  <tbody>\n",
       "    <tr>\n",
       "      <th>54</th>\n",
       "      <td>러쉬</td>\n",
       "      <td>배쓰</td>\n",
       "      <td>레인보우</td>\n",
       "      <td>20,000원</td>\n",
       "      <td></td>\n",
       "    </tr>\n",
       "    <tr>\n",
       "      <th>71</th>\n",
       "      <td>러쉬</td>\n",
       "      <td>배쓰</td>\n",
       "      <td>더 컴포터</td>\n",
       "      <td>18,000원</td>\n",
       "      <td></td>\n",
       "    </tr>\n",
       "    <tr>\n",
       "      <th>80</th>\n",
       "      <td>러쉬</td>\n",
       "      <td>샤워</td>\n",
       "      <td>슬리피</td>\n",
       "      <td>8,000원</td>\n",
       "      <td></td>\n",
       "    </tr>\n",
       "    <tr>\n",
       "      <th>92</th>\n",
       "      <td>러쉬</td>\n",
       "      <td>샤워</td>\n",
       "      <td>레인보우</td>\n",
       "      <td>20,000원</td>\n",
       "      <td></td>\n",
       "    </tr>\n",
       "    <tr>\n",
       "      <th>93</th>\n",
       "      <td>러쉬</td>\n",
       "      <td>샤워</td>\n",
       "      <td>몬스터스 &amp; 에일리언스</td>\n",
       "      <td>19,000원</td>\n",
       "      <td></td>\n",
       "    </tr>\n",
       "    <tr>\n",
       "      <th>110</th>\n",
       "      <td>러쉬</td>\n",
       "      <td>보디</td>\n",
       "      <td>팅글</td>\n",
       "      <td>34,000원</td>\n",
       "      <td></td>\n",
       "    </tr>\n",
       "    <tr>\n",
       "      <th>111</th>\n",
       "      <td>러쉬</td>\n",
       "      <td>보디</td>\n",
       "      <td>팅글 225g</td>\n",
       "      <td>45,000원</td>\n",
       "      <td></td>\n",
       "    </tr>\n",
       "    <tr>\n",
       "      <th>116</th>\n",
       "      <td>러쉬</td>\n",
       "      <td>보디</td>\n",
       "      <td>오션 솔트 셀프-프리저빙 120g/250g</td>\n",
       "      <td>27,000원</td>\n",
       "      <td></td>\n",
       "    </tr>\n",
       "    <tr>\n",
       "      <th>131</th>\n",
       "      <td>러쉬</td>\n",
       "      <td>보디</td>\n",
       "      <td>버피 90g</td>\n",
       "      <td>17,000원</td>\n",
       "      <td></td>\n",
       "    </tr>\n",
       "    <tr>\n",
       "      <th>149</th>\n",
       "      <td>러쉬</td>\n",
       "      <td>페이스</td>\n",
       "      <td>오션 솔트 셀프-프리저빙 120g/250g</td>\n",
       "      <td>27,000원</td>\n",
       "      <td></td>\n",
       "    </tr>\n",
       "    <tr>\n",
       "      <th>151</th>\n",
       "      <td>러쉬</td>\n",
       "      <td>페이스</td>\n",
       "      <td>렛 더 굿 타임즈 롤 100g/250g</td>\n",
       "      <td>22,000원</td>\n",
       "      <td></td>\n",
       "    </tr>\n",
       "    <tr>\n",
       "      <th>154</th>\n",
       "      <td>러쉬</td>\n",
       "      <td>페이스</td>\n",
       "      <td>허벌리즘 100g/250g</td>\n",
       "      <td>22,000원</td>\n",
       "      <td></td>\n",
       "    </tr>\n",
       "    <tr>\n",
       "      <th>159</th>\n",
       "      <td>러쉬</td>\n",
       "      <td>페이스</td>\n",
       "      <td>엔젤스 온 배어 스킨 100g/250g</td>\n",
       "      <td>22,000원</td>\n",
       "      <td></td>\n",
       "    </tr>\n",
       "    <tr>\n",
       "      <th>160</th>\n",
       "      <td>러쉬</td>\n",
       "      <td>페이스</td>\n",
       "      <td>아쿠아 마리나 100g/250g</td>\n",
       "      <td>22,000원</td>\n",
       "      <td></td>\n",
       "    </tr>\n",
       "    <tr>\n",
       "      <th>164</th>\n",
       "      <td>러쉬</td>\n",
       "      <td>페이스</td>\n",
       "      <td>다크 엔젤스 100g/250g</td>\n",
       "      <td>22,000원</td>\n",
       "      <td></td>\n",
       "    </tr>\n",
       "    <tr>\n",
       "      <th>251</th>\n",
       "      <td>러쉬</td>\n",
       "      <td>퍼퓸</td>\n",
       "      <td>사쿠라</td>\n",
       "      <td>60,000원</td>\n",
       "      <td></td>\n",
       "    </tr>\n",
       "    <tr>\n",
       "      <th>337</th>\n",
       "      <td>러쉬</td>\n",
       "      <td>퍼퓸</td>\n",
       "      <td>트와일라잇</td>\n",
       "      <td>50,000원</td>\n",
       "      <td></td>\n",
       "    </tr>\n",
       "  </tbody>\n",
       "</table>\n",
       "</div>"
      ],
      "text/plain": [
       "    브랜드명 소분류명                      상품명       정가 할인가\n",
       "54    러쉬   배쓰                     레인보우  20,000원    \n",
       "71    러쉬   배쓰                    더 컴포터  18,000원    \n",
       "80    러쉬   샤워                      슬리피   8,000원    \n",
       "92    러쉬   샤워                     레인보우  20,000원    \n",
       "93    러쉬   샤워             몬스터스 & 에일리언스  19,000원    \n",
       "110   러쉬   보디                       팅글  34,000원    \n",
       "111   러쉬   보디                  팅글 225g  45,000원    \n",
       "116   러쉬   보디  오션 솔트 셀프-프리저빙 120g/250g  27,000원    \n",
       "131   러쉬   보디                   버피 90g  17,000원    \n",
       "149   러쉬  페이스  오션 솔트 셀프-프리저빙 120g/250g  27,000원    \n",
       "151   러쉬  페이스    렛 더 굿 타임즈 롤 100g/250g  22,000원    \n",
       "154   러쉬  페이스           허벌리즘 100g/250g  22,000원    \n",
       "159   러쉬  페이스    엔젤스 온 배어 스킨 100g/250g  22,000원    \n",
       "160   러쉬  페이스        아쿠아 마리나 100g/250g  22,000원    \n",
       "164   러쉬  페이스         다크 엔젤스 100g/250g  22,000원    \n",
       "251   러쉬   퍼퓸                      사쿠라  60,000원    \n",
       "337   러쉬   퍼퓸                    트와일라잇  50,000원    "
      ]
     },
     "execution_count": 39,
     "metadata": {},
     "output_type": "execute_result"
    }
   ],
   "source": [
    "df[df.상품명.duplicated()]"
   ]
  },
  {
   "cell_type": "markdown",
   "metadata": {},
   "source": [
    "# 2. 아로마티카 (X)"
   ]
  },
  {
   "cell_type": "code",
   "execution_count": 44,
   "metadata": {},
   "outputs": [],
   "source": [
    "url = 'https://aromatica.co.kr/product/search.html?keyword=%EB%B9%84%EA%B1%B4&x=26&y=16&keyword_layer=&except_keyword=#none'\n",
    "html = BeautifulSoup(requests.get(url, headers={'User-agent': 'Mozilla/5.0'}).text, \"lxml\")\n",
    "# html"
   ]
  },
  {
   "cell_type": "code",
   "execution_count": 46,
   "metadata": {},
   "outputs": [
    {
     "name": "stdout",
     "output_type": "stream",
     "text": [
      "62\n"
     ]
    },
    {
     "data": {
      "text/plain": [
       "[<span style=\"font-size:15px;color:#000000;\">컨셔스 비건 립 컬러 엘더베리</span>,\n",
       " <span style=\"font-size:15px;color:#000000;\">컨셔스 비건 립 컬러 비터체리</span>,\n",
       " <span style=\"font-size:15px;color:#000000;\">컨셔스 비건 립 컬러 애프리콧</span>,\n",
       " <span style=\"font-size:15px;color:#000000;\">\"과즙미 듬뿍\" 컨셔스 비건 립 컬러 세트</span>,\n",
       " <span style=\"font-size:15px;color:#000000;\">\"광채촉촉\" 로즈 스킨케어 패키지 (듀얼 화장솜(80매입) + 비건 립 컬러 1종 증정)</span>]"
      ]
     },
     "execution_count": 46,
     "metadata": {},
     "output_type": "execute_result"
    }
   ],
   "source": [
    "# 상품명 수집\n",
    "item = html.find_all('span', style='font-size:15px;color:#000000;')\n",
    "print(len(item))\n",
    "item[:5]"
   ]
  },
  {
   "cell_type": "code",
   "execution_count": 53,
   "metadata": {},
   "outputs": [
    {
     "name": "stdout",
     "output_type": "stream",
     "text": [
      "97\n"
     ]
    },
    {
     "data": {
      "text/plain": [
       "[<span style=\"font-size:13px;color:#000000;\">판매가</span>,\n",
       " <span style=\"font-size:13px;color:#000000;\">20,000 won</span>,\n",
       " <span style=\"font-size:13px;color:#000000;\">판매가</span>,\n",
       " <span style=\"font-size:13px;color:#000000;\">20,000 won</span>,\n",
       " <span style=\"font-size:13px;color:#000000;\">판매가</span>]"
      ]
     },
     "execution_count": 53,
     "metadata": {},
     "output_type": "execute_result"
    }
   ],
   "source": [
    "# 가격 수집 (정가)\n",
    "price = html.find_all('span', style='font-size:13px;color:#000000;')\n",
    "print(len(price))\n",
    "price[:5]"
   ]
  },
  {
   "cell_type": "markdown",
   "metadata": {},
   "source": [
    "# 3. 클레어스"
   ]
  },
  {
   "cell_type": "code",
   "execution_count": null,
   "metadata": {},
   "outputs": [],
   "source": []
  }
 ],
 "metadata": {
  "kernelspec": {
   "display_name": "Python 3",
   "language": "python",
   "name": "python3"
  },
  "language_info": {
   "codemirror_mode": {
    "name": "ipython",
    "version": 3
   },
   "file_extension": ".py",
   "mimetype": "text/x-python",
   "name": "python",
   "nbconvert_exporter": "python",
   "pygments_lexer": "ipython3",
   "version": "3.8.3"
  },
  "toc": {
   "base_numbering": 1,
   "nav_menu": {},
   "number_sections": false,
   "sideBar": false,
   "skip_h1_title": false,
   "title_cell": "Table of Contents",
   "title_sidebar": "Contents",
   "toc_cell": true,
   "toc_position": {},
   "toc_section_display": true,
   "toc_window_display": false
  }
 },
 "nbformat": 4,
 "nbformat_minor": 4
}
